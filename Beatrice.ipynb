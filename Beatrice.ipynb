{
 "cells": [
  {
   "cell_type": "code",
   "execution_count": 1,
   "id": "ad3590c7-32de-4bf0-8676-7e9ff8674169",
   "metadata": {},
   "outputs": [
    {
     "name": "stdout",
     "output_type": "stream",
     "text": [
      "Beatrice wangari\n"
     ]
    }
   ],
   "source": [
    "`print('Beatrice wangari')\n"
   ]
  },
  {
   "cell_type": "code",
   "execution_count": 5,
   "id": "5399b2e7-0431-4edc-95e2-6b6a719f3fd8",
   "metadata": {},
   "outputs": [
    {
     "name": "stdout",
     "output_type": "stream",
     "text": [
      "18\n"
     ]
    }
   ],
   "source": [
    "age=18\n",
    "print(age)"
   ]
  },
  {
   "cell_type": "code",
   "execution_count": 7,
   "id": "fef18ed5-3c35-4a92-b8b4-b37687342953",
   "metadata": {},
   "outputs": [
    {
     "name": "stdout",
     "output_type": "stream",
     "text": [
      "Beatrice\n"
     ]
    }
   ],
   "source": [
    "name='Beatrice'\n",
    "print(name)"
   ]
  },
  {
   "cell_type": "code",
   "execution_count": 5,
   "id": "c6fae956-ae3f-457e-8209-6458f7879dde",
   "metadata": {},
   "outputs": [
    {
     "name": "stdin",
     "output_type": "stream",
     "text": [
      "enter the length 10\n",
      "enter the width 30\n"
     ]
    },
    {
     "name": "stdout",
     "output_type": "stream",
     "text": [
      "Area is: 300\n",
      "perimeter: 80\n"
     ]
    }
   ],
   "source": [
    "length=int(input('enter the length'))\n",
    "width=int(input('enter the width'))           \n",
    "area=length*width\n",
    "perimeter=2*(length+width)\n",
    "print('Area is:',area)\n",
    "print('perimeter:',perimeter)\n"
   ]
  },
  {
   "cell_type": "code",
   "execution_count": 11,
   "id": "fe428f22-6e82-451d-9763-940487b75c20",
   "metadata": {},
   "outputs": [
    {
     "name": "stdin",
     "output_type": "stream",
     "text": [
      "enter your year of birth 2005\n"
     ]
    },
    {
     "name": "stdout",
     "output_type": "stream",
     "text": [
      "Your age 19\n",
      "adult\n"
     ]
    }
   ],
   "source": [
    "YOB=int(input('enter your year of birth'))\n",
    "current=2024\n",
    "age=current-YOB\n",
    "print('Your age',age)\n",
    "if age>18:\n",
    "    print('adult')\n",
    "else:\n",
    "    print('child')\n",
    "\n",
    "\n"
   ]
  },
  {
   "cell_type": "code",
   "execution_count": 9,
   "id": "f040a500-2752-45da-9cac-287604e25819",
   "metadata": {},
   "outputs": [
    {
     "name": "stdout",
     "output_type": "stream",
     "text": [
      "x is not positive\n"
     ]
    }
   ],
   "source": [
    "x=-5\n",
    "if x>0:\n",
    "    print('x is positive')\n",
    "else:\n",
    "    print('x is not positive')"
   ]
  },
  {
   "cell_type": "code",
   "execution_count": 13,
   "id": "2646d8c3-15f1-41cc-bee3-fcf17613d862",
   "metadata": {},
   "outputs": [
    {
     "name": "stdout",
     "output_type": "stream",
     "text": [
      "0\n",
      "1\n",
      "2\n",
      "3\n",
      "4\n"
     ]
    }
   ],
   "source": [
    "i=0\n",
    "while i<5:\n",
    "    print(i)\n",
    "    i+=1"
   ]
  },
  {
   "cell_type": "code",
   "execution_count": 25,
   "id": "18637275-a1f0-472d-81ce-ade7253c465c",
   "metadata": {},
   "outputs": [
    {
     "name": "stdout",
     "output_type": "stream",
     "text": [
      "1\n",
      "2\n",
      "3\n",
      "4\n",
      "5\n",
      "6\n",
      "7\n",
      "8\n",
      "9\n",
      "10\n"
     ]
    }
   ],
   "source": [
    "i=1\n",
    "while i<=10:\n",
    "    print(i)\n",
    "    i+=1\n",
    "    "
   ]
  },
  {
   "cell_type": "code",
   "execution_count": 81,
   "id": "95d1c685-a105-488e-9375-89d2084beaef",
   "metadata": {},
   "outputs": [
    {
     "data": {
      "text/html": [
       "<div>\n",
       "<style scoped>\n",
       "    .dataframe tbody tr th:only-of-type {\n",
       "        vertical-align: middle;\n",
       "    }\n",
       "\n",
       "    .dataframe tbody tr th {\n",
       "        vertical-align: top;\n",
       "    }\n",
       "\n",
       "    .dataframe thead th {\n",
       "        text-align: right;\n",
       "    }\n",
       "</style>\n",
       "<table border=\"1\" class=\"dataframe\">\n",
       "  <thead>\n",
       "    <tr style=\"text-align: right;\">\n",
       "      <th></th>\n",
       "      <th>Child participated in POLIO campaign August 2013</th>\n",
       "      <th>diarrhea_status</th>\n",
       "      <th>weight</th>\n",
       "      <th>height</th>\n",
       "      <th>residence</th>\n",
       "      <th>Sex</th>\n",
       "      <th>age</th>\n",
       "      <th>age_category</th>\n",
       "      <th>education</th>\n",
       "      <th>wealth_index</th>\n",
       "    </tr>\n",
       "  </thead>\n",
       "  <tbody>\n",
       "    <tr>\n",
       "      <th>0</th>\n",
       "      <td>1</td>\n",
       "      <td>No</td>\n",
       "      <td>16.2</td>\n",
       "      <td>102.4</td>\n",
       "      <td>Rural</td>\n",
       "      <td>Female</td>\n",
       "      <td>45</td>\n",
       "      <td>36-47</td>\n",
       "      <td>Secondary+</td>\n",
       "      <td>Richest</td>\n",
       "    </tr>\n",
       "    <tr>\n",
       "      <th>1</th>\n",
       "      <td>1</td>\n",
       "      <td>No</td>\n",
       "      <td>13.5</td>\n",
       "      <td>92.5</td>\n",
       "      <td>Rural</td>\n",
       "      <td>Male</td>\n",
       "      <td>45</td>\n",
       "      <td>36-47</td>\n",
       "      <td>Primary</td>\n",
       "      <td>Second</td>\n",
       "    </tr>\n",
       "    <tr>\n",
       "      <th>2</th>\n",
       "      <td>1</td>\n",
       "      <td>No</td>\n",
       "      <td>13.4</td>\n",
       "      <td>88.5</td>\n",
       "      <td>Rural</td>\n",
       "      <td>Male</td>\n",
       "      <td>36</td>\n",
       "      <td>36-47</td>\n",
       "      <td>Primary</td>\n",
       "      <td>Fourth</td>\n",
       "    </tr>\n",
       "    <tr>\n",
       "      <th>3</th>\n",
       "      <td>1</td>\n",
       "      <td>No</td>\n",
       "      <td>15.0</td>\n",
       "      <td>101.3</td>\n",
       "      <td>Rural</td>\n",
       "      <td>Female</td>\n",
       "      <td>51</td>\n",
       "      <td>48-59</td>\n",
       "      <td>Primary</td>\n",
       "      <td>Fourth</td>\n",
       "    </tr>\n",
       "    <tr>\n",
       "      <th>4</th>\n",
       "      <td>1</td>\n",
       "      <td>No</td>\n",
       "      <td>15.2</td>\n",
       "      <td>105.0</td>\n",
       "      <td>Rural</td>\n",
       "      <td>Female</td>\n",
       "      <td>56</td>\n",
       "      <td>48-59</td>\n",
       "      <td>Primary</td>\n",
       "      <td>Fourth</td>\n",
       "    </tr>\n",
       "  </tbody>\n",
       "</table>\n",
       "</div>"
      ],
      "text/plain": [
       "   Child participated in POLIO campaign August 2013  diarrhea_status  weight  \\\n",
       "0                                                 1               No    16.2   \n",
       "1                                                 1               No    13.5   \n",
       "2                                                 1               No    13.4   \n",
       "3                                                 1               No    15.0   \n",
       "4                                                 1               No    15.2   \n",
       "\n",
       "   height residence     Sex  age age_category   education wealth_index  \n",
       "0   102.4     Rural  Female   45        36-47  Secondary+      Richest  \n",
       "1    92.5     Rural    Male   45        36-47     Primary       Second  \n",
       "2    88.5     Rural    Male   36        36-47     Primary       Fourth  \n",
       "3   101.3     Rural  Female   51        48-59     Primary       Fourth  \n",
       "4   105.0     Rural  Female   56        48-59     Primary       Fourth  "
      ]
     },
     "execution_count": 81,
     "metadata": {},
     "output_type": "execute_result"
    }
   ],
   "source": [
    "import pandas as pd\n",
    "df=pd.read_csv('childhealthdata.csv')\n",
    "df.head()\n"
   ]
  },
  {
   "cell_type": "code",
   "execution_count": 13,
   "id": "1b15e49c-2f55-4d9f-b7f8-e91024d259e4",
   "metadata": {},
   "outputs": [
    {
     "data": {
      "text/html": [
       "<div>\n",
       "<style scoped>\n",
       "    .dataframe tbody tr th:only-of-type {\n",
       "        vertical-align: middle;\n",
       "    }\n",
       "\n",
       "    .dataframe tbody tr th {\n",
       "        vertical-align: top;\n",
       "    }\n",
       "\n",
       "    .dataframe thead th {\n",
       "        text-align: right;\n",
       "    }\n",
       "</style>\n",
       "<table border=\"1\" class=\"dataframe\">\n",
       "  <thead>\n",
       "    <tr style=\"text-align: right;\">\n",
       "      <th></th>\n",
       "      <th>Child participated in POLIO campaign August 2013</th>\n",
       "      <th>weight</th>\n",
       "      <th>height</th>\n",
       "      <th>age</th>\n",
       "    </tr>\n",
       "  </thead>\n",
       "  <tbody>\n",
       "    <tr>\n",
       "      <th>count</th>\n",
       "      <td>799.000000</td>\n",
       "      <td>799.000000</td>\n",
       "      <td>799.000000</td>\n",
       "      <td>799.000000</td>\n",
       "    </tr>\n",
       "    <tr>\n",
       "      <th>mean</th>\n",
       "      <td>1.234043</td>\n",
       "      <td>11.591114</td>\n",
       "      <td>83.858573</td>\n",
       "      <td>29.314143</td>\n",
       "    </tr>\n",
       "    <tr>\n",
       "      <th>std</th>\n",
       "      <td>0.850500</td>\n",
       "      <td>3.408729</td>\n",
       "      <td>13.795704</td>\n",
       "      <td>16.839659</td>\n",
       "    </tr>\n",
       "    <tr>\n",
       "      <th>min</th>\n",
       "      <td>1.000000</td>\n",
       "      <td>3.100000</td>\n",
       "      <td>45.000000</td>\n",
       "      <td>0.000000</td>\n",
       "    </tr>\n",
       "    <tr>\n",
       "      <th>25%</th>\n",
       "      <td>1.000000</td>\n",
       "      <td>9.200000</td>\n",
       "      <td>74.000000</td>\n",
       "      <td>15.000000</td>\n",
       "    </tr>\n",
       "    <tr>\n",
       "      <th>50%</th>\n",
       "      <td>1.000000</td>\n",
       "      <td>11.700000</td>\n",
       "      <td>84.900000</td>\n",
       "      <td>31.000000</td>\n",
       "    </tr>\n",
       "    <tr>\n",
       "      <th>75%</th>\n",
       "      <td>1.000000</td>\n",
       "      <td>14.100000</td>\n",
       "      <td>93.850000</td>\n",
       "      <td>43.000000</td>\n",
       "    </tr>\n",
       "    <tr>\n",
       "      <th>max</th>\n",
       "      <td>9.000000</td>\n",
       "      <td>25.000000</td>\n",
       "      <td>124.800000</td>\n",
       "      <td>59.000000</td>\n",
       "    </tr>\n",
       "  </tbody>\n",
       "</table>\n",
       "</div>"
      ],
      "text/plain": [
       "       Child participated in POLIO campaign August 2013      weight  \\\n",
       "count                                        799.000000  799.000000   \n",
       "mean                                           1.234043   11.591114   \n",
       "std                                            0.850500    3.408729   \n",
       "min                                            1.000000    3.100000   \n",
       "25%                                            1.000000    9.200000   \n",
       "50%                                            1.000000   11.700000   \n",
       "75%                                            1.000000   14.100000   \n",
       "max                                            9.000000   25.000000   \n",
       "\n",
       "           height         age  \n",
       "count  799.000000  799.000000  \n",
       "mean    83.858573   29.314143  \n",
       "std     13.795704   16.839659  \n",
       "min     45.000000    0.000000  \n",
       "25%     74.000000   15.000000  \n",
       "50%     84.900000   31.000000  \n",
       "75%     93.850000   43.000000  \n",
       "max    124.800000   59.000000  "
      ]
     },
     "execution_count": 13,
     "metadata": {},
     "output_type": "execute_result"
    }
   ],
   "source": [
    "df.describe()"
   ]
  },
  {
   "cell_type": "code",
   "execution_count": 15,
   "id": "ccf2f795-a956-4b19-9e23-db02fbbcd5ab",
   "metadata": {},
   "outputs": [
    {
     "ename": "AttributeError",
     "evalue": "'DataFrame' object has no attribute 'unique'",
     "output_type": "error",
     "traceback": [
      "\u001b[1;31m---------------------------------------------------------------------------\u001b[0m",
      "\u001b[1;31mAttributeError\u001b[0m                            Traceback (most recent call last)",
      "\u001b[1;32m~\\AppData\\Local\\Temp\\ipykernel_8980\\1660334235.py\u001b[0m in \u001b[0;36m?\u001b[1;34m()\u001b[0m\n\u001b[1;32m----> 1\u001b[1;33m \u001b[0mdf\u001b[0m\u001b[1;33m.\u001b[0m\u001b[0munique\u001b[0m\u001b[1;33m(\u001b[0m\u001b[1;33m)\u001b[0m\u001b[1;33m\u001b[0m\u001b[1;33m\u001b[0m\u001b[0m\n\u001b[0m",
      "\u001b[1;32m~\\anaconda3\\Lib\\site-packages\\pandas\\core\\generic.py\u001b[0m in \u001b[0;36m?\u001b[1;34m(self, name)\u001b[0m\n\u001b[0;32m   6295\u001b[0m             \u001b[1;32mand\u001b[0m \u001b[0mname\u001b[0m \u001b[1;32mnot\u001b[0m \u001b[1;32min\u001b[0m \u001b[0mself\u001b[0m\u001b[1;33m.\u001b[0m\u001b[0m_accessors\u001b[0m\u001b[1;33m\u001b[0m\u001b[1;33m\u001b[0m\u001b[0m\n\u001b[0;32m   6296\u001b[0m             \u001b[1;32mand\u001b[0m \u001b[0mself\u001b[0m\u001b[1;33m.\u001b[0m\u001b[0m_info_axis\u001b[0m\u001b[1;33m.\u001b[0m\u001b[0m_can_hold_identifiers_and_holds_name\u001b[0m\u001b[1;33m(\u001b[0m\u001b[0mname\u001b[0m\u001b[1;33m)\u001b[0m\u001b[1;33m\u001b[0m\u001b[1;33m\u001b[0m\u001b[0m\n\u001b[0;32m   6297\u001b[0m         ):\n\u001b[0;32m   6298\u001b[0m             \u001b[1;32mreturn\u001b[0m \u001b[0mself\u001b[0m\u001b[1;33m[\u001b[0m\u001b[0mname\u001b[0m\u001b[1;33m]\u001b[0m\u001b[1;33m\u001b[0m\u001b[1;33m\u001b[0m\u001b[0m\n\u001b[1;32m-> 6299\u001b[1;33m         \u001b[1;32mreturn\u001b[0m \u001b[0mobject\u001b[0m\u001b[1;33m.\u001b[0m\u001b[0m__getattribute__\u001b[0m\u001b[1;33m(\u001b[0m\u001b[0mself\u001b[0m\u001b[1;33m,\u001b[0m \u001b[0mname\u001b[0m\u001b[1;33m)\u001b[0m\u001b[1;33m\u001b[0m\u001b[1;33m\u001b[0m\u001b[0m\n\u001b[0m",
      "\u001b[1;31mAttributeError\u001b[0m: 'DataFrame' object has no attribute 'unique'"
     ]
    }
   ],
   "source": [
    "df.unique()"
   ]
  },
  {
   "cell_type": "code",
   "execution_count": 21,
   "id": "adcfa8a9-e14c-47ed-98ec-58f5705b5736",
   "metadata": {},
   "outputs": [
    {
     "name": "stdout",
     "output_type": "stream",
     "text": [
      "<class 'pandas.core.frame.DataFrame'>\n",
      "RangeIndex: 799 entries, 0 to 798\n",
      "Data columns (total 10 columns):\n",
      " #   Column                                            Non-Null Count  Dtype  \n",
      "---  ------                                            --------------  -----  \n",
      " 0   Child participated in POLIO campaign August 2013  799 non-null    int64  \n",
      " 1    diarrhea_status                                  799 non-null    object \n",
      " 2   weight                                            799 non-null    float64\n",
      " 3   height                                            799 non-null    float64\n",
      " 4   residence                                         799 non-null    object \n",
      " 5   Sex                                               799 non-null    object \n",
      " 6   age                                               799 non-null    int64  \n",
      " 7   age_category                                      799 non-null    object \n",
      " 8   education                                         768 non-null    object \n",
      " 9   wealth_index                                      799 non-null    object \n",
      "dtypes: float64(2), int64(2), object(6)\n",
      "memory usage: 62.6+ KB\n"
     ]
    }
   ],
   "source": [
    "df.info()"
   ]
  },
  {
   "cell_type": "code",
   "execution_count": 27,
   "id": "7555643b-0efb-4ea0-bbe7-1c9e63c7f17e",
   "metadata": {},
   "outputs": [
    {
     "name": "stdout",
     "output_type": "stream",
     "text": [
      "['Secondary+' 'Primary' nan]\n"
     ]
    }
   ],
   "source": [
    "print(df['education'].unique())"
   ]
  },
  {
   "cell_type": "raw",
   "id": "e2d02034-5ac2-4e26-acf4-988eb3ce5119",
   "metadata": {},
   "source": []
  },
  {
   "cell_type": "code",
   "execution_count": 29,
   "id": "b9194026-d598-4d7b-ad0e-0b42250ab235",
   "metadata": {},
   "outputs": [
    {
     "name": "stdout",
     "output_type": "stream",
     "text": [
      "['Rural' 'Urban']\n"
     ]
    }
   ],
   "source": [
    "print(df['residence'].unique())"
   ]
  },
  {
   "cell_type": "code",
   "execution_count": 8,
   "id": "7e85141c-ec7b-4ee7-925d-a4979fde0f9f",
   "metadata": {},
   "outputs": [
    {
     "name": "stdout",
     "output_type": "stream",
     "text": [
      "education\n",
      "Primary       476\n",
      "Secondary+    292\n",
      "Name: count, dtype: int64\n"
     ]
    }
   ],
   "source": [
    "print(df['education'].value_counts())"
   ]
  },
  {
   "cell_type": "code",
   "execution_count": 11,
   "id": "969c09a0-798c-405e-95ba-cb84c370e356",
   "metadata": {},
   "outputs": [
    {
     "data": {
      "text/html": [
       "<div>\n",
       "<style scoped>\n",
       "    .dataframe tbody tr th:only-of-type {\n",
       "        vertical-align: middle;\n",
       "    }\n",
       "\n",
       "    .dataframe tbody tr th {\n",
       "        vertical-align: top;\n",
       "    }\n",
       "\n",
       "    .dataframe thead th {\n",
       "        text-align: right;\n",
       "    }\n",
       "</style>\n",
       "<table border=\"1\" class=\"dataframe\">\n",
       "  <thead>\n",
       "    <tr style=\"text-align: right;\">\n",
       "      <th></th>\n",
       "      <th>Child participated in POLIO campaign August 2013</th>\n",
       "      <th>diarrhea_status</th>\n",
       "      <th>weight</th>\n",
       "      <th>height</th>\n",
       "      <th>residence</th>\n",
       "      <th>Sex</th>\n",
       "      <th>age</th>\n",
       "      <th>age_category</th>\n",
       "      <th>education</th>\n",
       "      <th>wealth_index</th>\n",
       "    </tr>\n",
       "  </thead>\n",
       "  <tbody>\n",
       "    <tr>\n",
       "      <th>0</th>\n",
       "      <td>1</td>\n",
       "      <td>No</td>\n",
       "      <td>16.2</td>\n",
       "      <td>102.4</td>\n",
       "      <td>Rural</td>\n",
       "      <td>Female</td>\n",
       "      <td>45</td>\n",
       "      <td>36-47</td>\n",
       "      <td>Secondary+</td>\n",
       "      <td>Richest</td>\n",
       "    </tr>\n",
       "    <tr>\n",
       "      <th>1</th>\n",
       "      <td>1</td>\n",
       "      <td>No</td>\n",
       "      <td>13.5</td>\n",
       "      <td>92.5</td>\n",
       "      <td>Rural</td>\n",
       "      <td>Male</td>\n",
       "      <td>45</td>\n",
       "      <td>36-47</td>\n",
       "      <td>Primary</td>\n",
       "      <td>Second</td>\n",
       "    </tr>\n",
       "    <tr>\n",
       "      <th>2</th>\n",
       "      <td>1</td>\n",
       "      <td>No</td>\n",
       "      <td>13.4</td>\n",
       "      <td>88.5</td>\n",
       "      <td>Rural</td>\n",
       "      <td>Male</td>\n",
       "      <td>36</td>\n",
       "      <td>36-47</td>\n",
       "      <td>Primary</td>\n",
       "      <td>Fourth</td>\n",
       "    </tr>\n",
       "    <tr>\n",
       "      <th>3</th>\n",
       "      <td>1</td>\n",
       "      <td>No</td>\n",
       "      <td>15.0</td>\n",
       "      <td>101.3</td>\n",
       "      <td>Rural</td>\n",
       "      <td>Female</td>\n",
       "      <td>51</td>\n",
       "      <td>48-59</td>\n",
       "      <td>Primary</td>\n",
       "      <td>Fourth</td>\n",
       "    </tr>\n",
       "    <tr>\n",
       "      <th>4</th>\n",
       "      <td>1</td>\n",
       "      <td>No</td>\n",
       "      <td>15.2</td>\n",
       "      <td>105.0</td>\n",
       "      <td>Rural</td>\n",
       "      <td>Female</td>\n",
       "      <td>56</td>\n",
       "      <td>48-59</td>\n",
       "      <td>Primary</td>\n",
       "      <td>Fourth</td>\n",
       "    </tr>\n",
       "  </tbody>\n",
       "</table>\n",
       "</div>"
      ],
      "text/plain": [
       "   Child participated in POLIO campaign August 2013  diarrhea_status  weight  \\\n",
       "0                                                 1               No    16.2   \n",
       "1                                                 1               No    13.5   \n",
       "2                                                 1               No    13.4   \n",
       "3                                                 1               No    15.0   \n",
       "4                                                 1               No    15.2   \n",
       "\n",
       "   height residence     Sex  age age_category   education wealth_index  \n",
       "0   102.4     Rural  Female   45        36-47  Secondary+      Richest  \n",
       "1    92.5     Rural    Male   45        36-47     Primary       Second  \n",
       "2    88.5     Rural    Male   36        36-47     Primary       Fourth  \n",
       "3   101.3     Rural  Female   51        48-59     Primary       Fourth  \n",
       "4   105.0     Rural  Female   56        48-59     Primary       Fourth  "
      ]
     },
     "execution_count": 11,
     "metadata": {},
     "output_type": "execute_result"
    }
   ],
   "source": [
    "df.head()"
   ]
  },
  {
   "cell_type": "code",
   "execution_count": 27,
   "id": "655f4d27-5ee5-49cf-b225-0e3ecdfc1fbf",
   "metadata": {},
   "outputs": [
    {
     "data": {
      "text/html": [
       "<div>\n",
       "<style scoped>\n",
       "    .dataframe tbody tr th:only-of-type {\n",
       "        vertical-align: middle;\n",
       "    }\n",
       "\n",
       "    .dataframe tbody tr th {\n",
       "        vertical-align: top;\n",
       "    }\n",
       "\n",
       "    .dataframe thead th {\n",
       "        text-align: right;\n",
       "    }\n",
       "</style>\n",
       "<table border=\"1\" class=\"dataframe\">\n",
       "  <thead>\n",
       "    <tr style=\"text-align: right;\">\n",
       "      <th></th>\n",
       "      <th>Child participated in POLIO campaign August 2013</th>\n",
       "      <th>diarrhea_status</th>\n",
       "      <th>weight</th>\n",
       "      <th>height</th>\n",
       "      <th>residence</th>\n",
       "      <th>Sex</th>\n",
       "      <th>age</th>\n",
       "      <th>age_category</th>\n",
       "      <th>education</th>\n",
       "      <th>wealth_index</th>\n",
       "    </tr>\n",
       "  </thead>\n",
       "  <tbody>\n",
       "    <tr>\n",
       "      <th>0</th>\n",
       "      <td>1</td>\n",
       "      <td>No</td>\n",
       "      <td>16.2</td>\n",
       "      <td>102.4</td>\n",
       "      <td>Rural</td>\n",
       "      <td>Female</td>\n",
       "      <td>45</td>\n",
       "      <td>36-47</td>\n",
       "      <td>Secondary+</td>\n",
       "      <td>Richest</td>\n",
       "    </tr>\n",
       "    <tr>\n",
       "      <th>1</th>\n",
       "      <td>1</td>\n",
       "      <td>No</td>\n",
       "      <td>13.5</td>\n",
       "      <td>92.5</td>\n",
       "      <td>Rural</td>\n",
       "      <td>Male</td>\n",
       "      <td>45</td>\n",
       "      <td>36-47</td>\n",
       "      <td>Primary</td>\n",
       "      <td>Second</td>\n",
       "    </tr>\n",
       "    <tr>\n",
       "      <th>2</th>\n",
       "      <td>1</td>\n",
       "      <td>No</td>\n",
       "      <td>13.4</td>\n",
       "      <td>88.5</td>\n",
       "      <td>Rural</td>\n",
       "      <td>Male</td>\n",
       "      <td>36</td>\n",
       "      <td>36-47</td>\n",
       "      <td>Primary</td>\n",
       "      <td>Fourth</td>\n",
       "    </tr>\n",
       "    <tr>\n",
       "      <th>3</th>\n",
       "      <td>1</td>\n",
       "      <td>No</td>\n",
       "      <td>15.0</td>\n",
       "      <td>101.3</td>\n",
       "      <td>Rural</td>\n",
       "      <td>Female</td>\n",
       "      <td>51</td>\n",
       "      <td>48-59</td>\n",
       "      <td>Primary</td>\n",
       "      <td>Fourth</td>\n",
       "    </tr>\n",
       "    <tr>\n",
       "      <th>4</th>\n",
       "      <td>1</td>\n",
       "      <td>No</td>\n",
       "      <td>15.2</td>\n",
       "      <td>105.0</td>\n",
       "      <td>Rural</td>\n",
       "      <td>Female</td>\n",
       "      <td>56</td>\n",
       "      <td>48-59</td>\n",
       "      <td>Primary</td>\n",
       "      <td>Fourth</td>\n",
       "    </tr>\n",
       "  </tbody>\n",
       "</table>\n",
       "</div>"
      ],
      "text/plain": [
       "   Child participated in POLIO campaign August 2013  diarrhea_status  weight  \\\n",
       "0                                                 1               No    16.2   \n",
       "1                                                 1               No    13.5   \n",
       "2                                                 1               No    13.4   \n",
       "3                                                 1               No    15.0   \n",
       "4                                                 1               No    15.2   \n",
       "\n",
       "   height residence     Sex  age age_category   education wealth_index  \n",
       "0   102.4     Rural  Female   45        36-47  Secondary+      Richest  \n",
       "1    92.5     Rural    Male   45        36-47     Primary       Second  \n",
       "2    88.5     Rural    Male   36        36-47     Primary       Fourth  \n",
       "3   101.3     Rural  Female   51        48-59     Primary       Fourth  \n",
       "4   105.0     Rural  Female   56        48-59     Primary       Fourth  "
      ]
     },
     "execution_count": 27,
     "metadata": {},
     "output_type": "execute_result"
    }
   ],
   "source": [
    "import pandas as pd\n",
    "df=pd.read_csv('childhealthdata.csv')\n",
    "df.head()"
   ]
  },
  {
   "cell_type": "code",
   "execution_count": 1,
   "id": "8b672277-62cc-48df-be2d-4444a5b553dc",
   "metadata": {},
   "outputs": [
    {
     "data": {
      "text/html": [
       "<div>\n",
       "<style scoped>\n",
       "    .dataframe tbody tr th:only-of-type {\n",
       "        vertical-align: middle;\n",
       "    }\n",
       "\n",
       "    .dataframe tbody tr th {\n",
       "        vertical-align: top;\n",
       "    }\n",
       "\n",
       "    .dataframe thead th {\n",
       "        text-align: right;\n",
       "    }\n",
       "</style>\n",
       "<table border=\"1\" class=\"dataframe\">\n",
       "  <thead>\n",
       "    <tr style=\"text-align: right;\">\n",
       "      <th></th>\n",
       "      <th>Child participated in POLIO campaign August 2013</th>\n",
       "      <th>diarrhea_status</th>\n",
       "      <th>weight</th>\n",
       "      <th>height</th>\n",
       "      <th>residence</th>\n",
       "      <th>Sex</th>\n",
       "      <th>age</th>\n",
       "      <th>age_category</th>\n",
       "      <th>education</th>\n",
       "      <th>wealth_index</th>\n",
       "    </tr>\n",
       "  </thead>\n",
       "  <tbody>\n",
       "    <tr>\n",
       "      <th>794</th>\n",
       "      <td>1</td>\n",
       "      <td>No</td>\n",
       "      <td>8.3</td>\n",
       "      <td>67.0</td>\n",
       "      <td>Urban</td>\n",
       "      <td>Female</td>\n",
       "      <td>7</td>\n",
       "      <td>6-11</td>\n",
       "      <td>Primary</td>\n",
       "      <td>Fourth</td>\n",
       "    </tr>\n",
       "    <tr>\n",
       "      <th>795</th>\n",
       "      <td>2</td>\n",
       "      <td>No</td>\n",
       "      <td>3.5</td>\n",
       "      <td>45.0</td>\n",
       "      <td>Urban</td>\n",
       "      <td>Male</td>\n",
       "      <td>0</td>\n",
       "      <td>0-5</td>\n",
       "      <td>Secondary+</td>\n",
       "      <td>Fourth</td>\n",
       "    </tr>\n",
       "    <tr>\n",
       "      <th>796</th>\n",
       "      <td>1</td>\n",
       "      <td>No</td>\n",
       "      <td>15.1</td>\n",
       "      <td>86.0</td>\n",
       "      <td>Urban</td>\n",
       "      <td>Female</td>\n",
       "      <td>56</td>\n",
       "      <td>48-59</td>\n",
       "      <td>Primary</td>\n",
       "      <td>Fourth</td>\n",
       "    </tr>\n",
       "    <tr>\n",
       "      <th>797</th>\n",
       "      <td>1</td>\n",
       "      <td>No</td>\n",
       "      <td>10.7</td>\n",
       "      <td>71.2</td>\n",
       "      <td>Urban</td>\n",
       "      <td>Female</td>\n",
       "      <td>18</td>\n",
       "      <td>12-23</td>\n",
       "      <td>Primary</td>\n",
       "      <td>Fourth</td>\n",
       "    </tr>\n",
       "    <tr>\n",
       "      <th>798</th>\n",
       "      <td>1</td>\n",
       "      <td>No</td>\n",
       "      <td>10.3</td>\n",
       "      <td>73.0</td>\n",
       "      <td>Urban</td>\n",
       "      <td>Female</td>\n",
       "      <td>7</td>\n",
       "      <td>6-11</td>\n",
       "      <td>Primary</td>\n",
       "      <td>Middle</td>\n",
       "    </tr>\n",
       "  </tbody>\n",
       "</table>\n",
       "</div>"
      ],
      "text/plain": [
       "     Child participated in POLIO campaign August 2013  diarrhea_status  \\\n",
       "794                                                 1               No   \n",
       "795                                                 2               No   \n",
       "796                                                 1               No   \n",
       "797                                                 1               No   \n",
       "798                                                 1               No   \n",
       "\n",
       "     weight  height residence     Sex  age age_category   education  \\\n",
       "794     8.3    67.0     Urban  Female    7         6-11     Primary   \n",
       "795     3.5    45.0     Urban    Male    0          0-5  Secondary+   \n",
       "796    15.1    86.0     Urban  Female   56        48-59     Primary   \n",
       "797    10.7    71.2     Urban  Female   18        12-23     Primary   \n",
       "798    10.3    73.0     Urban  Female    7         6-11     Primary   \n",
       "\n",
       "    wealth_index  \n",
       "794       Fourth  \n",
       "795       Fourth  \n",
       "796       Fourth  \n",
       "797       Fourth  \n",
       "798       Middle  "
      ]
     },
     "execution_count": 1,
     "metadata": {},
     "output_type": "execute_result"
    }
   ],
   "source": [
    "import pandas as pd\n",
    "df=pd.read_csv('childhealthdata.csv')\n",
    "df.tail()"
   ]
  },
  {
   "cell_type": "code",
   "execution_count": 1,
   "id": "933bbd48-d21e-4591-9059-26860e49733b",
   "metadata": {},
   "outputs": [
    {
     "name": "stdout",
     "output_type": "stream",
     "text": [
      "x is old\n"
     ]
    }
   ],
   "source": [
    "x=10\n",
    "if x>8:\n",
    "   print('x is old')\n",
    "else:\n",
    "    print('x is new')"
   ]
  },
  {
   "cell_type": "code",
   "execution_count": 5,
   "id": "846ac68e-d367-4d53-8706-041136bcbaa4",
   "metadata": {},
   "outputs": [
    {
     "data": {
      "text/html": [
       "<div>\n",
       "<style scoped>\n",
       "    .dataframe tbody tr th:only-of-type {\n",
       "        vertical-align: middle;\n",
       "    }\n",
       "\n",
       "    .dataframe tbody tr th {\n",
       "        vertical-align: top;\n",
       "    }\n",
       "\n",
       "    .dataframe thead th {\n",
       "        text-align: right;\n",
       "    }\n",
       "</style>\n",
       "<table border=\"1\" class=\"dataframe\">\n",
       "  <thead>\n",
       "    <tr style=\"text-align: right;\">\n",
       "      <th></th>\n",
       "      <th>Child participated in POLIO campaign August 2013</th>\n",
       "      <th>diarrhea_status</th>\n",
       "      <th>weight</th>\n",
       "      <th>height</th>\n",
       "      <th>residence</th>\n",
       "      <th>Sex</th>\n",
       "      <th>age</th>\n",
       "      <th>age_category</th>\n",
       "      <th>education</th>\n",
       "      <th>wealth_index</th>\n",
       "    </tr>\n",
       "  </thead>\n",
       "  <tbody>\n",
       "    <tr>\n",
       "      <th>0</th>\n",
       "      <td>1</td>\n",
       "      <td>No</td>\n",
       "      <td>16.2</td>\n",
       "      <td>102.4</td>\n",
       "      <td>Rural</td>\n",
       "      <td>Female</td>\n",
       "      <td>45</td>\n",
       "      <td>36-47</td>\n",
       "      <td>Secondary+</td>\n",
       "      <td>Richest</td>\n",
       "    </tr>\n",
       "    <tr>\n",
       "      <th>1</th>\n",
       "      <td>1</td>\n",
       "      <td>No</td>\n",
       "      <td>13.5</td>\n",
       "      <td>92.5</td>\n",
       "      <td>Rural</td>\n",
       "      <td>Male</td>\n",
       "      <td>45</td>\n",
       "      <td>36-47</td>\n",
       "      <td>Primary</td>\n",
       "      <td>Second</td>\n",
       "    </tr>\n",
       "    <tr>\n",
       "      <th>2</th>\n",
       "      <td>1</td>\n",
       "      <td>No</td>\n",
       "      <td>13.4</td>\n",
       "      <td>88.5</td>\n",
       "      <td>Rural</td>\n",
       "      <td>Male</td>\n",
       "      <td>36</td>\n",
       "      <td>36-47</td>\n",
       "      <td>Primary</td>\n",
       "      <td>Fourth</td>\n",
       "    </tr>\n",
       "    <tr>\n",
       "      <th>3</th>\n",
       "      <td>1</td>\n",
       "      <td>No</td>\n",
       "      <td>15.0</td>\n",
       "      <td>101.3</td>\n",
       "      <td>Rural</td>\n",
       "      <td>Female</td>\n",
       "      <td>51</td>\n",
       "      <td>48-59</td>\n",
       "      <td>Primary</td>\n",
       "      <td>Fourth</td>\n",
       "    </tr>\n",
       "    <tr>\n",
       "      <th>4</th>\n",
       "      <td>1</td>\n",
       "      <td>No</td>\n",
       "      <td>15.2</td>\n",
       "      <td>105.0</td>\n",
       "      <td>Rural</td>\n",
       "      <td>Female</td>\n",
       "      <td>56</td>\n",
       "      <td>48-59</td>\n",
       "      <td>Primary</td>\n",
       "      <td>Fourth</td>\n",
       "    </tr>\n",
       "  </tbody>\n",
       "</table>\n",
       "</div>"
      ],
      "text/plain": [
       "   Child participated in POLIO campaign August 2013  diarrhea_status  weight  \\\n",
       "0                                                 1               No    16.2   \n",
       "1                                                 1               No    13.5   \n",
       "2                                                 1               No    13.4   \n",
       "3                                                 1               No    15.0   \n",
       "4                                                 1               No    15.2   \n",
       "\n",
       "   height residence     Sex  age age_category   education wealth_index  \n",
       "0   102.4     Rural  Female   45        36-47  Secondary+      Richest  \n",
       "1    92.5     Rural    Male   45        36-47     Primary       Second  \n",
       "2    88.5     Rural    Male   36        36-47     Primary       Fourth  \n",
       "3   101.3     Rural  Female   51        48-59     Primary       Fourth  \n",
       "4   105.0     Rural  Female   56        48-59     Primary       Fourth  "
      ]
     },
     "execution_count": 5,
     "metadata": {},
     "output_type": "execute_result"
    }
   ],
   "source": [
    "import pandas as pd\n",
    "df=pd.read_csv('childhealthdata.csv')\n",
    "df_above_30=df[df['age']>30]\n",
    "df_above_30.head()"
   ]
  },
  {
   "cell_type": "code",
   "execution_count": 9,
   "id": "cf4da413-20ee-4a3e-982c-c73df08674cf",
   "metadata": {},
   "outputs": [
    {
     "data": {
      "text/html": [
       "<div>\n",
       "<style scoped>\n",
       "    .dataframe tbody tr th:only-of-type {\n",
       "        vertical-align: middle;\n",
       "    }\n",
       "\n",
       "    .dataframe tbody tr th {\n",
       "        vertical-align: top;\n",
       "    }\n",
       "\n",
       "    .dataframe thead th {\n",
       "        text-align: right;\n",
       "    }\n",
       "</style>\n",
       "<table border=\"1\" class=\"dataframe\">\n",
       "  <thead>\n",
       "    <tr style=\"text-align: right;\">\n",
       "      <th></th>\n",
       "      <th>Child participated in POLIO campaign August 2013</th>\n",
       "      <th>diarrhea_status</th>\n",
       "      <th>weight</th>\n",
       "      <th>height</th>\n",
       "      <th>residence</th>\n",
       "      <th>Sex</th>\n",
       "      <th>age</th>\n",
       "      <th>age_category</th>\n",
       "      <th>education</th>\n",
       "      <th>wealth_index</th>\n",
       "    </tr>\n",
       "  </thead>\n",
       "  <tbody>\n",
       "    <tr>\n",
       "      <th>5</th>\n",
       "      <td>1</td>\n",
       "      <td>Yes</td>\n",
       "      <td>9.9</td>\n",
       "      <td>84.5</td>\n",
       "      <td>Rural</td>\n",
       "      <td>Female</td>\n",
       "      <td>20</td>\n",
       "      <td>12-23</td>\n",
       "      <td>Primary</td>\n",
       "      <td>Fourth</td>\n",
       "    </tr>\n",
       "    <tr>\n",
       "      <th>6</th>\n",
       "      <td>2</td>\n",
       "      <td>No</td>\n",
       "      <td>7.1</td>\n",
       "      <td>70.4</td>\n",
       "      <td>Rural</td>\n",
       "      <td>Female</td>\n",
       "      <td>4</td>\n",
       "      <td>0-5</td>\n",
       "      <td>Primary</td>\n",
       "      <td>Fourth</td>\n",
       "    </tr>\n",
       "    <tr>\n",
       "      <th>7</th>\n",
       "      <td>1</td>\n",
       "      <td>No</td>\n",
       "      <td>13.8</td>\n",
       "      <td>89.5</td>\n",
       "      <td>Rural</td>\n",
       "      <td>Male</td>\n",
       "      <td>27</td>\n",
       "      <td>24-35</td>\n",
       "      <td>Primary</td>\n",
       "      <td>Richest</td>\n",
       "    </tr>\n",
       "    <tr>\n",
       "      <th>9</th>\n",
       "      <td>1</td>\n",
       "      <td>Yes</td>\n",
       "      <td>8.2</td>\n",
       "      <td>73.9</td>\n",
       "      <td>Rural</td>\n",
       "      <td>Female</td>\n",
       "      <td>18</td>\n",
       "      <td>12-23</td>\n",
       "      <td>Primary</td>\n",
       "      <td>Poorest</td>\n",
       "    </tr>\n",
       "    <tr>\n",
       "      <th>12</th>\n",
       "      <td>1</td>\n",
       "      <td>Yes</td>\n",
       "      <td>8.0</td>\n",
       "      <td>77.7</td>\n",
       "      <td>Rural</td>\n",
       "      <td>Female</td>\n",
       "      <td>26</td>\n",
       "      <td>24-35</td>\n",
       "      <td>Primary</td>\n",
       "      <td>Poorest</td>\n",
       "    </tr>\n",
       "  </tbody>\n",
       "</table>\n",
       "</div>"
      ],
      "text/plain": [
       "    Child participated in POLIO campaign August 2013  diarrhea_status  weight  \\\n",
       "5                                                  1              Yes     9.9   \n",
       "6                                                  2               No     7.1   \n",
       "7                                                  1               No    13.8   \n",
       "9                                                  1              Yes     8.2   \n",
       "12                                                 1              Yes     8.0   \n",
       "\n",
       "    height residence     Sex  age age_category education wealth_index  \n",
       "5     84.5     Rural  Female   20        12-23   Primary       Fourth  \n",
       "6     70.4     Rural  Female    4          0-5   Primary       Fourth  \n",
       "7     89.5     Rural    Male   27        24-35   Primary      Richest  \n",
       "9     73.9     Rural  Female   18        12-23   Primary      Poorest  \n",
       "12    77.7     Rural  Female   26        24-35   Primary      Poorest  "
      ]
     },
     "execution_count": 9,
     "metadata": {},
     "output_type": "execute_result"
    }
   ],
   "source": [
    "df_30_and_less=df[df['age']<=30]\n",
    "df_30_and_less.head()"
   ]
  },
  {
   "cell_type": "code",
   "execution_count": 11,
   "id": "a93ec6b3-cc27-47f7-80f2-601fb3f3cdce",
   "metadata": {},
   "outputs": [
    {
     "data": {
      "text/html": [
       "<div>\n",
       "<style scoped>\n",
       "    .dataframe tbody tr th:only-of-type {\n",
       "        vertical-align: middle;\n",
       "    }\n",
       "\n",
       "    .dataframe tbody tr th {\n",
       "        vertical-align: top;\n",
       "    }\n",
       "\n",
       "    .dataframe thead th {\n",
       "        text-align: right;\n",
       "    }\n",
       "</style>\n",
       "<table border=\"1\" class=\"dataframe\">\n",
       "  <thead>\n",
       "    <tr style=\"text-align: right;\">\n",
       "      <th></th>\n",
       "      <th>Child participated in POLIO campaign August 2013</th>\n",
       "      <th>diarrhea_status</th>\n",
       "      <th>weight</th>\n",
       "      <th>height</th>\n",
       "      <th>residence</th>\n",
       "      <th>Sex</th>\n",
       "      <th>age</th>\n",
       "      <th>age_category</th>\n",
       "      <th>education</th>\n",
       "      <th>wealth_index</th>\n",
       "    </tr>\n",
       "  </thead>\n",
       "  <tbody>\n",
       "    <tr>\n",
       "      <th>5</th>\n",
       "      <td>1</td>\n",
       "      <td>Yes</td>\n",
       "      <td>9.9</td>\n",
       "      <td>84.5</td>\n",
       "      <td>Rural</td>\n",
       "      <td>Female</td>\n",
       "      <td>20</td>\n",
       "      <td>12-23</td>\n",
       "      <td>Primary</td>\n",
       "      <td>Fourth</td>\n",
       "    </tr>\n",
       "    <tr>\n",
       "      <th>6</th>\n",
       "      <td>2</td>\n",
       "      <td>No</td>\n",
       "      <td>7.1</td>\n",
       "      <td>70.4</td>\n",
       "      <td>Rural</td>\n",
       "      <td>Female</td>\n",
       "      <td>4</td>\n",
       "      <td>0-5</td>\n",
       "      <td>Primary</td>\n",
       "      <td>Fourth</td>\n",
       "    </tr>\n",
       "    <tr>\n",
       "      <th>9</th>\n",
       "      <td>1</td>\n",
       "      <td>Yes</td>\n",
       "      <td>8.2</td>\n",
       "      <td>73.9</td>\n",
       "      <td>Rural</td>\n",
       "      <td>Female</td>\n",
       "      <td>18</td>\n",
       "      <td>12-23</td>\n",
       "      <td>Primary</td>\n",
       "      <td>Poorest</td>\n",
       "    </tr>\n",
       "    <tr>\n",
       "      <th>14</th>\n",
       "      <td>1</td>\n",
       "      <td>No</td>\n",
       "      <td>7.2</td>\n",
       "      <td>68.4</td>\n",
       "      <td>Rural</td>\n",
       "      <td>Male</td>\n",
       "      <td>6</td>\n",
       "      <td>6-11</td>\n",
       "      <td>Secondary+</td>\n",
       "      <td>Second</td>\n",
       "    </tr>\n",
       "    <tr>\n",
       "      <th>16</th>\n",
       "      <td>1</td>\n",
       "      <td>No</td>\n",
       "      <td>6.9</td>\n",
       "      <td>64.1</td>\n",
       "      <td>Rural</td>\n",
       "      <td>Female</td>\n",
       "      <td>4</td>\n",
       "      <td>0-5</td>\n",
       "      <td>Primary</td>\n",
       "      <td>Poorest</td>\n",
       "    </tr>\n",
       "  </tbody>\n",
       "</table>\n",
       "</div>"
      ],
      "text/plain": [
       "    Child participated in POLIO campaign August 2013  diarrhea_status  weight  \\\n",
       "5                                                  1              Yes     9.9   \n",
       "6                                                  2               No     7.1   \n",
       "9                                                  1              Yes     8.2   \n",
       "14                                                 1               No     7.2   \n",
       "16                                                 1               No     6.9   \n",
       "\n",
       "    height residence     Sex  age age_category   education wealth_index  \n",
       "5     84.5     Rural  Female   20        12-23     Primary       Fourth  \n",
       "6     70.4     Rural  Female    4          0-5     Primary       Fourth  \n",
       "9     73.9     Rural  Female   18        12-23     Primary      Poorest  \n",
       "14    68.4     Rural    Male    6         6-11  Secondary+       Second  \n",
       "16    64.1     Rural  Female    4          0-5     Primary      Poorest  "
      ]
     },
     "execution_count": 11,
     "metadata": {},
     "output_type": "execute_result"
    }
   ],
   "source": [
    "df_20_and_less=df[df['age']<=20]\n",
    "df_20_and_less.head()"
   ]
  },
  {
   "cell_type": "code",
   "execution_count": 35,
   "id": "085ebf2d-265c-4f94-a286-a9b1ffe7a77b",
   "metadata": {},
   "outputs": [
    {
     "data": {
      "text/html": [
       "<div>\n",
       "<style scoped>\n",
       "    .dataframe tbody tr th:only-of-type {\n",
       "        vertical-align: middle;\n",
       "    }\n",
       "\n",
       "    .dataframe tbody tr th {\n",
       "        vertical-align: top;\n",
       "    }\n",
       "\n",
       "    .dataframe thead th {\n",
       "        text-align: right;\n",
       "    }\n",
       "</style>\n",
       "<table border=\"1\" class=\"dataframe\">\n",
       "  <thead>\n",
       "    <tr style=\"text-align: right;\">\n",
       "      <th></th>\n",
       "      <th>Child participated in POLIO campaign August 2013</th>\n",
       "      <th>diarrhea_status</th>\n",
       "      <th>weight</th>\n",
       "      <th>height</th>\n",
       "      <th>residence</th>\n",
       "      <th>Sex</th>\n",
       "      <th>age</th>\n",
       "      <th>age_category</th>\n",
       "      <th>education</th>\n",
       "      <th>wealth_index</th>\n",
       "    </tr>\n",
       "  </thead>\n",
       "  <tbody>\n",
       "    <tr>\n",
       "      <th>9</th>\n",
       "      <td>1</td>\n",
       "      <td>Yes</td>\n",
       "      <td>8.2</td>\n",
       "      <td>73.9</td>\n",
       "      <td>Rural</td>\n",
       "      <td>Female</td>\n",
       "      <td>18</td>\n",
       "      <td>12-23</td>\n",
       "      <td>Primary</td>\n",
       "      <td>Poorest</td>\n",
       "    </tr>\n",
       "    <tr>\n",
       "      <th>207</th>\n",
       "      <td>1</td>\n",
       "      <td>Yes</td>\n",
       "      <td>9.7</td>\n",
       "      <td>75.4</td>\n",
       "      <td>Rural</td>\n",
       "      <td>Female</td>\n",
       "      <td>18</td>\n",
       "      <td>12-23</td>\n",
       "      <td>Secondary+</td>\n",
       "      <td>Poorest</td>\n",
       "    </tr>\n",
       "    <tr>\n",
       "      <th>273</th>\n",
       "      <td>1</td>\n",
       "      <td>No</td>\n",
       "      <td>10.4</td>\n",
       "      <td>81.5</td>\n",
       "      <td>Urban</td>\n",
       "      <td>Female</td>\n",
       "      <td>18</td>\n",
       "      <td>12-23</td>\n",
       "      <td>Secondary+</td>\n",
       "      <td>Middle</td>\n",
       "    </tr>\n",
       "    <tr>\n",
       "      <th>652</th>\n",
       "      <td>1</td>\n",
       "      <td>No</td>\n",
       "      <td>10.0</td>\n",
       "      <td>80.5</td>\n",
       "      <td>Urban</td>\n",
       "      <td>Female</td>\n",
       "      <td>18</td>\n",
       "      <td>12-23</td>\n",
       "      <td>Secondary+</td>\n",
       "      <td>Richest</td>\n",
       "    </tr>\n",
       "    <tr>\n",
       "      <th>671</th>\n",
       "      <td>2</td>\n",
       "      <td>No</td>\n",
       "      <td>10.1</td>\n",
       "      <td>78.3</td>\n",
       "      <td>Urban</td>\n",
       "      <td>Female</td>\n",
       "      <td>18</td>\n",
       "      <td>12-23</td>\n",
       "      <td>Primary</td>\n",
       "      <td>Fourth</td>\n",
       "    </tr>\n",
       "  </tbody>\n",
       "</table>\n",
       "</div>"
      ],
      "text/plain": [
       "     Child participated in POLIO campaign August 2013  diarrhea_status  \\\n",
       "9                                                   1              Yes   \n",
       "207                                                 1              Yes   \n",
       "273                                                 1               No   \n",
       "652                                                 1               No   \n",
       "671                                                 2               No   \n",
       "\n",
       "     weight  height residence     Sex  age age_category   education  \\\n",
       "9       8.2    73.9     Rural  Female   18        12-23     Primary   \n",
       "207     9.7    75.4     Rural  Female   18        12-23  Secondary+   \n",
       "273    10.4    81.5     Urban  Female   18        12-23  Secondary+   \n",
       "652    10.0    80.5     Urban  Female   18        12-23  Secondary+   \n",
       "671    10.1    78.3     Urban  Female   18        12-23     Primary   \n",
       "\n",
       "    wealth_index  \n",
       "9        Poorest  \n",
       "207      Poorest  \n",
       "273       Middle  \n",
       "652      Richest  \n",
       "671       Fourth  "
      ]
     },
     "execution_count": 35,
     "metadata": {},
     "output_type": "execute_result"
    }
   ],
   "source": [
    "df_18=df[(df['age']==18)&(df['Sex']=='Female')]\n",
    "df_18.head()"
   ]
  },
  {
   "cell_type": "code",
   "execution_count": 27,
   "id": "7f410dc6-c165-48e9-887e-7789728b1173",
   "metadata": {},
   "outputs": [
    {
     "data": {
      "text/html": [
       "<div>\n",
       "<style scoped>\n",
       "    .dataframe tbody tr th:only-of-type {\n",
       "        vertical-align: middle;\n",
       "    }\n",
       "\n",
       "    .dataframe tbody tr th {\n",
       "        vertical-align: top;\n",
       "    }\n",
       "\n",
       "    .dataframe thead th {\n",
       "        text-align: right;\n",
       "    }\n",
       "</style>\n",
       "<table border=\"1\" class=\"dataframe\">\n",
       "  <thead>\n",
       "    <tr style=\"text-align: right;\">\n",
       "      <th></th>\n",
       "      <th>Child participated in POLIO campaign August 2013</th>\n",
       "      <th>diarrhea_status</th>\n",
       "      <th>weight</th>\n",
       "      <th>height</th>\n",
       "      <th>residence</th>\n",
       "      <th>Sex</th>\n",
       "      <th>age</th>\n",
       "      <th>age_category</th>\n",
       "      <th>education</th>\n",
       "      <th>wealth_index</th>\n",
       "    </tr>\n",
       "  </thead>\n",
       "  <tbody>\n",
       "    <tr>\n",
       "      <th>512</th>\n",
       "      <td>1</td>\n",
       "      <td>No</td>\n",
       "      <td>16.8</td>\n",
       "      <td>104.8</td>\n",
       "      <td>Rural</td>\n",
       "      <td>Female</td>\n",
       "      <td>59</td>\n",
       "      <td>48-59</td>\n",
       "      <td>Secondary+</td>\n",
       "      <td>Second</td>\n",
       "    </tr>\n",
       "    <tr>\n",
       "      <th>75</th>\n",
       "      <td>2</td>\n",
       "      <td>No</td>\n",
       "      <td>15.8</td>\n",
       "      <td>104.4</td>\n",
       "      <td>Rural</td>\n",
       "      <td>Male</td>\n",
       "      <td>59</td>\n",
       "      <td>48-59</td>\n",
       "      <td>Primary</td>\n",
       "      <td>Second</td>\n",
       "    </tr>\n",
       "    <tr>\n",
       "      <th>310</th>\n",
       "      <td>1</td>\n",
       "      <td>No</td>\n",
       "      <td>17.0</td>\n",
       "      <td>105.3</td>\n",
       "      <td>Urban</td>\n",
       "      <td>Male</td>\n",
       "      <td>59</td>\n",
       "      <td>48-59</td>\n",
       "      <td>Secondary+</td>\n",
       "      <td>Richest</td>\n",
       "    </tr>\n",
       "    <tr>\n",
       "      <th>196</th>\n",
       "      <td>1</td>\n",
       "      <td>No</td>\n",
       "      <td>16.0</td>\n",
       "      <td>102.4</td>\n",
       "      <td>Rural</td>\n",
       "      <td>Male</td>\n",
       "      <td>59</td>\n",
       "      <td>48-59</td>\n",
       "      <td>Primary</td>\n",
       "      <td>Poorest</td>\n",
       "    </tr>\n",
       "    <tr>\n",
       "      <th>723</th>\n",
       "      <td>1</td>\n",
       "      <td>No</td>\n",
       "      <td>15.6</td>\n",
       "      <td>88.5</td>\n",
       "      <td>Urban</td>\n",
       "      <td>Female</td>\n",
       "      <td>59</td>\n",
       "      <td>48-59</td>\n",
       "      <td>Primary</td>\n",
       "      <td>Second</td>\n",
       "    </tr>\n",
       "  </tbody>\n",
       "</table>\n",
       "</div>"
      ],
      "text/plain": [
       "     Child participated in POLIO campaign August 2013  diarrhea_status  \\\n",
       "512                                                 1               No   \n",
       "75                                                  2               No   \n",
       "310                                                 1               No   \n",
       "196                                                 1               No   \n",
       "723                                                 1               No   \n",
       "\n",
       "     weight  height residence     Sex  age age_category   education  \\\n",
       "512    16.8   104.8     Rural  Female   59        48-59  Secondary+   \n",
       "75     15.8   104.4     Rural    Male   59        48-59     Primary   \n",
       "310    17.0   105.3     Urban    Male   59        48-59  Secondary+   \n",
       "196    16.0   102.4     Rural    Male   59        48-59     Primary   \n",
       "723    15.6    88.5     Urban  Female   59        48-59     Primary   \n",
       "\n",
       "    wealth_index  \n",
       "512       Second  \n",
       "75        Second  \n",
       "310      Richest  \n",
       "196      Poorest  \n",
       "723       Second  "
      ]
     },
     "execution_count": 27,
     "metadata": {},
     "output_type": "execute_result"
    }
   ],
   "source": [
    "sorted_df=df.sort_values(by='age',ascending=False)\n",
    "sorted_df.head()"
   ]
  },
  {
   "cell_type": "code",
   "execution_count": 33,
   "id": "64570425-5e41-43ba-89be-f7427ba14ff5",
   "metadata": {},
   "outputs": [
    {
     "data": {
      "text/html": [
       "<div>\n",
       "<style scoped>\n",
       "    .dataframe tbody tr th:only-of-type {\n",
       "        vertical-align: middle;\n",
       "    }\n",
       "\n",
       "    .dataframe tbody tr th {\n",
       "        vertical-align: top;\n",
       "    }\n",
       "\n",
       "    .dataframe thead th {\n",
       "        text-align: right;\n",
       "    }\n",
       "</style>\n",
       "<table border=\"1\" class=\"dataframe\">\n",
       "  <thead>\n",
       "    <tr style=\"text-align: right;\">\n",
       "      <th></th>\n",
       "      <th>Child participated in POLIO campaign August 2013</th>\n",
       "      <th>diarrhea_status</th>\n",
       "      <th>weight</th>\n",
       "      <th>height</th>\n",
       "      <th>residence</th>\n",
       "      <th>Sex</th>\n",
       "      <th>age</th>\n",
       "      <th>age_category</th>\n",
       "      <th>education</th>\n",
       "      <th>wealth_index</th>\n",
       "    </tr>\n",
       "  </thead>\n",
       "  <tbody>\n",
       "    <tr>\n",
       "      <th>496</th>\n",
       "      <td>2</td>\n",
       "      <td>No</td>\n",
       "      <td>4.0</td>\n",
       "      <td>51.2</td>\n",
       "      <td>Rural</td>\n",
       "      <td>Male</td>\n",
       "      <td>0</td>\n",
       "      <td>0-5</td>\n",
       "      <td>Secondary+</td>\n",
       "      <td>Poorest</td>\n",
       "    </tr>\n",
       "    <tr>\n",
       "      <th>36</th>\n",
       "      <td>2</td>\n",
       "      <td>No</td>\n",
       "      <td>5.2</td>\n",
       "      <td>51.0</td>\n",
       "      <td>Rural</td>\n",
       "      <td>Male</td>\n",
       "      <td>0</td>\n",
       "      <td>0-5</td>\n",
       "      <td>Primary</td>\n",
       "      <td>Second</td>\n",
       "    </tr>\n",
       "    <tr>\n",
       "      <th>456</th>\n",
       "      <td>2</td>\n",
       "      <td>No</td>\n",
       "      <td>3.2</td>\n",
       "      <td>48.2</td>\n",
       "      <td>Rural</td>\n",
       "      <td>Female</td>\n",
       "      <td>0</td>\n",
       "      <td>0-5</td>\n",
       "      <td>Primary</td>\n",
       "      <td>Poorest</td>\n",
       "    </tr>\n",
       "    <tr>\n",
       "      <th>548</th>\n",
       "      <td>2</td>\n",
       "      <td>Yes</td>\n",
       "      <td>3.5</td>\n",
       "      <td>58.0</td>\n",
       "      <td>Rural</td>\n",
       "      <td>Male</td>\n",
       "      <td>0</td>\n",
       "      <td>0-5</td>\n",
       "      <td>Secondary+</td>\n",
       "      <td>Fourth</td>\n",
       "    </tr>\n",
       "    <tr>\n",
       "      <th>153</th>\n",
       "      <td>2</td>\n",
       "      <td>No</td>\n",
       "      <td>4.1</td>\n",
       "      <td>51.6</td>\n",
       "      <td>Rural</td>\n",
       "      <td>Female</td>\n",
       "      <td>0</td>\n",
       "      <td>0-5</td>\n",
       "      <td>Secondary+</td>\n",
       "      <td>Fourth</td>\n",
       "    </tr>\n",
       "  </tbody>\n",
       "</table>\n",
       "</div>"
      ],
      "text/plain": [
       "     Child participated in POLIO campaign August 2013  diarrhea_status  \\\n",
       "496                                                 2               No   \n",
       "36                                                  2               No   \n",
       "456                                                 2               No   \n",
       "548                                                 2              Yes   \n",
       "153                                                 2               No   \n",
       "\n",
       "     weight  height residence     Sex  age age_category   education  \\\n",
       "496     4.0    51.2     Rural    Male    0          0-5  Secondary+   \n",
       "36      5.2    51.0     Rural    Male    0          0-5     Primary   \n",
       "456     3.2    48.2     Rural  Female    0          0-5     Primary   \n",
       "548     3.5    58.0     Rural    Male    0          0-5  Secondary+   \n",
       "153     4.1    51.6     Rural  Female    0          0-5  Secondary+   \n",
       "\n",
       "    wealth_index  \n",
       "496      Poorest  \n",
       "36        Second  \n",
       "456      Poorest  \n",
       "548       Fourth  \n",
       "153       Fourth  "
      ]
     },
     "execution_count": 33,
     "metadata": {},
     "output_type": "execute_result"
    }
   ],
   "source": [
    "sorted_df=df.sort_values(by='age',ascending=True)\n",
    "sorted_df.head()\n"
   ]
  },
  {
   "cell_type": "code",
   "execution_count": 39,
   "id": "84451f0c-5d3a-4fce-b6f0-e2a558fab3ba",
   "metadata": {},
   "outputs": [
    {
     "data": {
      "text/plain": [
       "Sex\n",
       "Female    398\n",
       "Male      401\n",
       "dtype: int64"
      ]
     },
     "execution_count": 39,
     "metadata": {},
     "output_type": "execute_result"
    }
   ],
   "source": [
    "df.groupby('Sex').size()"
   ]
  },
  {
   "cell_type": "code",
   "execution_count": 41,
   "id": "1c23c3be-2635-442a-9396-31b4e4c2299d",
   "metadata": {},
   "outputs": [
    {
     "data": {
      "text/html": [
       "<div>\n",
       "<style scoped>\n",
       "    .dataframe tbody tr th:only-of-type {\n",
       "        vertical-align: middle;\n",
       "    }\n",
       "\n",
       "    .dataframe tbody tr th {\n",
       "        vertical-align: top;\n",
       "    }\n",
       "\n",
       "    .dataframe thead th {\n",
       "        text-align: right;\n",
       "    }\n",
       "</style>\n",
       "<table border=\"1\" class=\"dataframe\">\n",
       "  <thead>\n",
       "    <tr style=\"text-align: right;\">\n",
       "      <th></th>\n",
       "      <th>Child participated in POLIO campaign August 2013</th>\n",
       "      <th>diarrhea_status</th>\n",
       "      <th>weight</th>\n",
       "      <th>height</th>\n",
       "      <th>residence</th>\n",
       "      <th>Sex</th>\n",
       "      <th>age</th>\n",
       "      <th>age_category</th>\n",
       "      <th>education</th>\n",
       "      <th>wealth_index</th>\n",
       "      <th>is_adult</th>\n",
       "    </tr>\n",
       "  </thead>\n",
       "  <tbody>\n",
       "    <tr>\n",
       "      <th>0</th>\n",
       "      <td>1</td>\n",
       "      <td>No</td>\n",
       "      <td>16.2</td>\n",
       "      <td>102.4</td>\n",
       "      <td>Rural</td>\n",
       "      <td>Female</td>\n",
       "      <td>45</td>\n",
       "      <td>36-47</td>\n",
       "      <td>Secondary+</td>\n",
       "      <td>Richest</td>\n",
       "      <td>Yes</td>\n",
       "    </tr>\n",
       "    <tr>\n",
       "      <th>1</th>\n",
       "      <td>1</td>\n",
       "      <td>No</td>\n",
       "      <td>13.5</td>\n",
       "      <td>92.5</td>\n",
       "      <td>Rural</td>\n",
       "      <td>Male</td>\n",
       "      <td>45</td>\n",
       "      <td>36-47</td>\n",
       "      <td>Primary</td>\n",
       "      <td>Second</td>\n",
       "      <td>Yes</td>\n",
       "    </tr>\n",
       "    <tr>\n",
       "      <th>2</th>\n",
       "      <td>1</td>\n",
       "      <td>No</td>\n",
       "      <td>13.4</td>\n",
       "      <td>88.5</td>\n",
       "      <td>Rural</td>\n",
       "      <td>Male</td>\n",
       "      <td>36</td>\n",
       "      <td>36-47</td>\n",
       "      <td>Primary</td>\n",
       "      <td>Fourth</td>\n",
       "      <td>Yes</td>\n",
       "    </tr>\n",
       "    <tr>\n",
       "      <th>3</th>\n",
       "      <td>1</td>\n",
       "      <td>No</td>\n",
       "      <td>15.0</td>\n",
       "      <td>101.3</td>\n",
       "      <td>Rural</td>\n",
       "      <td>Female</td>\n",
       "      <td>51</td>\n",
       "      <td>48-59</td>\n",
       "      <td>Primary</td>\n",
       "      <td>Fourth</td>\n",
       "      <td>Yes</td>\n",
       "    </tr>\n",
       "    <tr>\n",
       "      <th>4</th>\n",
       "      <td>1</td>\n",
       "      <td>No</td>\n",
       "      <td>15.2</td>\n",
       "      <td>105.0</td>\n",
       "      <td>Rural</td>\n",
       "      <td>Female</td>\n",
       "      <td>56</td>\n",
       "      <td>48-59</td>\n",
       "      <td>Primary</td>\n",
       "      <td>Fourth</td>\n",
       "      <td>Yes</td>\n",
       "    </tr>\n",
       "  </tbody>\n",
       "</table>\n",
       "</div>"
      ],
      "text/plain": [
       "   Child participated in POLIO campaign August 2013  diarrhea_status  weight  \\\n",
       "0                                                 1               No    16.2   \n",
       "1                                                 1               No    13.5   \n",
       "2                                                 1               No    13.4   \n",
       "3                                                 1               No    15.0   \n",
       "4                                                 1               No    15.2   \n",
       "\n",
       "   height residence     Sex  age age_category   education wealth_index  \\\n",
       "0   102.4     Rural  Female   45        36-47  Secondary+      Richest   \n",
       "1    92.5     Rural    Male   45        36-47     Primary       Second   \n",
       "2    88.5     Rural    Male   36        36-47     Primary       Fourth   \n",
       "3   101.3     Rural  Female   51        48-59     Primary       Fourth   \n",
       "4   105.0     Rural  Female   56        48-59     Primary       Fourth   \n",
       "\n",
       "  is_adult  \n",
       "0      Yes  \n",
       "1      Yes  \n",
       "2      Yes  \n",
       "3      Yes  \n",
       "4      Yes  "
      ]
     },
     "execution_count": 41,
     "metadata": {},
     "output_type": "execute_result"
    }
   ],
   "source": [
    "df.loc[df['age']>=18,'is_adult']='Yes'\n",
    "df.loc[df['age']<18,'is_adult']='No'\n",
    "df.head()"
   ]
  },
  {
   "cell_type": "code",
   "execution_count": 45,
   "id": "e8346967-a7d6-40df-b437-b270617bc356",
   "metadata": {},
   "outputs": [],
   "source": [
    "df.drop_duplicates(inplace=True)"
   ]
  },
  {
   "cell_type": "code",
   "execution_count": 51,
   "id": "e9058663-3dbd-4789-9370-8674532f8577",
   "metadata": {},
   "outputs": [
    {
     "data": {
      "text/html": [
       "<div>\n",
       "<style scoped>\n",
       "    .dataframe tbody tr th:only-of-type {\n",
       "        vertical-align: middle;\n",
       "    }\n",
       "\n",
       "    .dataframe tbody tr th {\n",
       "        vertical-align: top;\n",
       "    }\n",
       "\n",
       "    .dataframe thead th {\n",
       "        text-align: right;\n",
       "    }\n",
       "</style>\n",
       "<table border=\"1\" class=\"dataframe\">\n",
       "  <thead>\n",
       "    <tr style=\"text-align: right;\">\n",
       "      <th></th>\n",
       "      <th>Child participated in POLIO campaign August 2013</th>\n",
       "      <th>diarrhea_status</th>\n",
       "      <th>weight</th>\n",
       "      <th>height</th>\n",
       "      <th>residence</th>\n",
       "      <th>Sex</th>\n",
       "      <th>age</th>\n",
       "      <th>age_category</th>\n",
       "      <th>education</th>\n",
       "      <th>wealth_index</th>\n",
       "      <th>is_adult</th>\n",
       "    </tr>\n",
       "  </thead>\n",
       "  <tbody>\n",
       "    <tr>\n",
       "      <th>0</th>\n",
       "      <td>1</td>\n",
       "      <td>No</td>\n",
       "      <td>16.2</td>\n",
       "      <td>102.4</td>\n",
       "      <td>Rural</td>\n",
       "      <td>FEMALE</td>\n",
       "      <td>45</td>\n",
       "      <td>36-47</td>\n",
       "      <td>Secondary+</td>\n",
       "      <td>Richest</td>\n",
       "      <td>Yes</td>\n",
       "    </tr>\n",
       "    <tr>\n",
       "      <th>1</th>\n",
       "      <td>1</td>\n",
       "      <td>No</td>\n",
       "      <td>13.5</td>\n",
       "      <td>92.5</td>\n",
       "      <td>Rural</td>\n",
       "      <td>MALE</td>\n",
       "      <td>45</td>\n",
       "      <td>36-47</td>\n",
       "      <td>Primary</td>\n",
       "      <td>Second</td>\n",
       "      <td>Yes</td>\n",
       "    </tr>\n",
       "    <tr>\n",
       "      <th>2</th>\n",
       "      <td>1</td>\n",
       "      <td>No</td>\n",
       "      <td>13.4</td>\n",
       "      <td>88.5</td>\n",
       "      <td>Rural</td>\n",
       "      <td>MALE</td>\n",
       "      <td>36</td>\n",
       "      <td>36-47</td>\n",
       "      <td>Primary</td>\n",
       "      <td>Fourth</td>\n",
       "      <td>Yes</td>\n",
       "    </tr>\n",
       "    <tr>\n",
       "      <th>3</th>\n",
       "      <td>1</td>\n",
       "      <td>No</td>\n",
       "      <td>15.0</td>\n",
       "      <td>101.3</td>\n",
       "      <td>Rural</td>\n",
       "      <td>FEMALE</td>\n",
       "      <td>51</td>\n",
       "      <td>48-59</td>\n",
       "      <td>Primary</td>\n",
       "      <td>Fourth</td>\n",
       "      <td>Yes</td>\n",
       "    </tr>\n",
       "    <tr>\n",
       "      <th>4</th>\n",
       "      <td>1</td>\n",
       "      <td>No</td>\n",
       "      <td>15.2</td>\n",
       "      <td>105.0</td>\n",
       "      <td>Rural</td>\n",
       "      <td>FEMALE</td>\n",
       "      <td>56</td>\n",
       "      <td>48-59</td>\n",
       "      <td>Primary</td>\n",
       "      <td>Fourth</td>\n",
       "      <td>Yes</td>\n",
       "    </tr>\n",
       "  </tbody>\n",
       "</table>\n",
       "</div>"
      ],
      "text/plain": [
       "   Child participated in POLIO campaign August 2013  diarrhea_status  weight  \\\n",
       "0                                                 1               No    16.2   \n",
       "1                                                 1               No    13.5   \n",
       "2                                                 1               No    13.4   \n",
       "3                                                 1               No    15.0   \n",
       "4                                                 1               No    15.2   \n",
       "\n",
       "   height residence     Sex  age age_category   education wealth_index  \\\n",
       "0   102.4     Rural  FEMALE   45        36-47  Secondary+      Richest   \n",
       "1    92.5     Rural    MALE   45        36-47     Primary       Second   \n",
       "2    88.5     Rural    MALE   36        36-47     Primary       Fourth   \n",
       "3   101.3     Rural  FEMALE   51        48-59     Primary       Fourth   \n",
       "4   105.0     Rural  FEMALE   56        48-59     Primary       Fourth   \n",
       "\n",
       "  is_adult  \n",
       "0      Yes  \n",
       "1      Yes  \n",
       "2      Yes  \n",
       "3      Yes  \n",
       "4      Yes  "
      ]
     },
     "execution_count": 51,
     "metadata": {},
     "output_type": "execute_result"
    }
   ],
   "source": [
    "df['Sex']=df['Sex'].str.upper()#or lower\n",
    "df.head()"
   ]
  },
  {
   "cell_type": "code",
   "execution_count": 53,
   "id": "a96ed92e-d8b9-4365-95b9-074cccbffdf2",
   "metadata": {},
   "outputs": [
    {
     "data": {
      "text/plain": [
       "0      FEMALE\n",
       "1        MALE\n",
       "2        MALE\n",
       "3      FEMALE\n",
       "4      FEMALE\n",
       "        ...  \n",
       "794    FEMALE\n",
       "795      MALE\n",
       "796    FEMALE\n",
       "797    FEMALE\n",
       "798    FEMALE\n",
       "Name: Sex, Length: 799, dtype: object"
      ]
     },
     "execution_count": 53,
     "metadata": {},
     "output_type": "execute_result"
    }
   ],
   "source": [
    "df['Sex']"
   ]
  },
  {
   "cell_type": "code",
   "execution_count": 55,
   "id": "5c556196-d050-405b-98ba-2d33ae37061b",
   "metadata": {},
   "outputs": [
    {
     "ename": "NameError",
     "evalue": "name 'df1' is not defined",
     "output_type": "error",
     "traceback": [
      "\u001b[1;31m---------------------------------------------------------------------------\u001b[0m",
      "\u001b[1;31mNameError\u001b[0m                                 Traceback (most recent call last)",
      "Cell \u001b[1;32mIn[55], line 1\u001b[0m\n\u001b[1;32m----> 1\u001b[0m merged_df\u001b[38;5;241m=\u001b[39mpd\u001b[38;5;241m.\u001b[39mmerge(df1,df2,on\u001b[38;5;241m=\u001b[39m\u001b[38;5;124m'\u001b[39m\u001b[38;5;124mcommon_column\u001b[39m\u001b[38;5;124m'\u001b[39m)\n",
      "\u001b[1;31mNameError\u001b[0m: name 'df1' is not defined"
     ]
    }
   ],
   "source": [
    "merged_df=pd.merge(df1,df2,on='common_column')"
   ]
  },
  {
   "cell_type": "code",
   "execution_count": 61,
   "id": "33c2693e-89d4-4a6b-9c17-a4f40eaafcc8",
   "metadata": {},
   "outputs": [
    {
     "data": {
      "text/plain": [
       "age\n",
       "0      7\n",
       "1     10\n",
       "2     10\n",
       "3     12\n",
       "4     17\n",
       "5     24\n",
       "6     22\n",
       "7     11\n",
       "8     16\n",
       "9     14\n",
       "10    12\n",
       "11     7\n",
       "12    12\n",
       "13    13\n",
       "14    12\n",
       "15    18\n",
       "16    10\n",
       "17     8\n",
       "18    14\n",
       "19    11\n",
       "20    23\n",
       "21     8\n",
       "22    11\n",
       "23     8\n",
       "24    13\n",
       "25    18\n",
       "26    10\n",
       "27    13\n",
       "28    12\n",
       "29    11\n",
       "30     9\n",
       "31    12\n",
       "32    12\n",
       "33    14\n",
       "34    14\n",
       "35    20\n",
       "36    16\n",
       "37    19\n",
       "38    18\n",
       "39    20\n",
       "40    23\n",
       "41    14\n",
       "42    14\n",
       "43    19\n",
       "44    14\n",
       "45    16\n",
       "46     9\n",
       "47    14\n",
       "48    12\n",
       "49    11\n",
       "50     9\n",
       "51    16\n",
       "52    16\n",
       "53     8\n",
       "54    10\n",
       "55     6\n",
       "56    17\n",
       "57     8\n",
       "58     9\n",
       "59    13\n",
       "dtype: int64"
      ]
     },
     "execution_count": 61,
     "metadata": {},
     "output_type": "execute_result"
    }
   ],
   "source": [
    "import pandas as pd\n",
    "df.groupby('age').size()"
   ]
  },
  {
   "cell_type": "code",
   "execution_count": 63,
   "id": "ae5da693-5e49-4906-a9a9-726056399c90",
   "metadata": {},
   "outputs": [
    {
     "data": {
      "text/html": [
       "<div>\n",
       "<style scoped>\n",
       "    .dataframe tbody tr th:only-of-type {\n",
       "        vertical-align: middle;\n",
       "    }\n",
       "\n",
       "    .dataframe tbody tr th {\n",
       "        vertical-align: top;\n",
       "    }\n",
       "\n",
       "    .dataframe thead th {\n",
       "        text-align: right;\n",
       "    }\n",
       "</style>\n",
       "<table border=\"1\" class=\"dataframe\">\n",
       "  <thead>\n",
       "    <tr style=\"text-align: right;\">\n",
       "      <th></th>\n",
       "      <th>Child participated in POLIO campaign August 2013</th>\n",
       "      <th>diarrhea_status</th>\n",
       "      <th>weight</th>\n",
       "      <th>height</th>\n",
       "      <th>residence</th>\n",
       "      <th>Sex</th>\n",
       "      <th>age</th>\n",
       "      <th>age_category</th>\n",
       "      <th>education</th>\n",
       "      <th>wealth_index</th>\n",
       "      <th>is_adult</th>\n",
       "    </tr>\n",
       "  </thead>\n",
       "  <tbody>\n",
       "    <tr>\n",
       "      <th>496</th>\n",
       "      <td>2</td>\n",
       "      <td>No</td>\n",
       "      <td>4.0</td>\n",
       "      <td>51.2</td>\n",
       "      <td>Rural</td>\n",
       "      <td>MALE</td>\n",
       "      <td>0</td>\n",
       "      <td>0-5</td>\n",
       "      <td>Secondary+</td>\n",
       "      <td>Poorest</td>\n",
       "      <td>No</td>\n",
       "    </tr>\n",
       "    <tr>\n",
       "      <th>36</th>\n",
       "      <td>2</td>\n",
       "      <td>No</td>\n",
       "      <td>5.2</td>\n",
       "      <td>51.0</td>\n",
       "      <td>Rural</td>\n",
       "      <td>MALE</td>\n",
       "      <td>0</td>\n",
       "      <td>0-5</td>\n",
       "      <td>Primary</td>\n",
       "      <td>Second</td>\n",
       "      <td>No</td>\n",
       "    </tr>\n",
       "    <tr>\n",
       "      <th>456</th>\n",
       "      <td>2</td>\n",
       "      <td>No</td>\n",
       "      <td>3.2</td>\n",
       "      <td>48.2</td>\n",
       "      <td>Rural</td>\n",
       "      <td>FEMALE</td>\n",
       "      <td>0</td>\n",
       "      <td>0-5</td>\n",
       "      <td>Primary</td>\n",
       "      <td>Poorest</td>\n",
       "      <td>No</td>\n",
       "    </tr>\n",
       "    <tr>\n",
       "      <th>548</th>\n",
       "      <td>2</td>\n",
       "      <td>Yes</td>\n",
       "      <td>3.5</td>\n",
       "      <td>58.0</td>\n",
       "      <td>Rural</td>\n",
       "      <td>MALE</td>\n",
       "      <td>0</td>\n",
       "      <td>0-5</td>\n",
       "      <td>Secondary+</td>\n",
       "      <td>Fourth</td>\n",
       "      <td>No</td>\n",
       "    </tr>\n",
       "    <tr>\n",
       "      <th>153</th>\n",
       "      <td>2</td>\n",
       "      <td>No</td>\n",
       "      <td>4.1</td>\n",
       "      <td>51.6</td>\n",
       "      <td>Rural</td>\n",
       "      <td>FEMALE</td>\n",
       "      <td>0</td>\n",
       "      <td>0-5</td>\n",
       "      <td>Secondary+</td>\n",
       "      <td>Fourth</td>\n",
       "      <td>No</td>\n",
       "    </tr>\n",
       "  </tbody>\n",
       "</table>\n",
       "</div>"
      ],
      "text/plain": [
       "     Child participated in POLIO campaign August 2013  diarrhea_status  \\\n",
       "496                                                 2               No   \n",
       "36                                                  2               No   \n",
       "456                                                 2               No   \n",
       "548                                                 2              Yes   \n",
       "153                                                 2               No   \n",
       "\n",
       "     weight  height residence     Sex  age age_category   education  \\\n",
       "496     4.0    51.2     Rural    MALE    0          0-5  Secondary+   \n",
       "36      5.2    51.0     Rural    MALE    0          0-5     Primary   \n",
       "456     3.2    48.2     Rural  FEMALE    0          0-5     Primary   \n",
       "548     3.5    58.0     Rural    MALE    0          0-5  Secondary+   \n",
       "153     4.1    51.6     Rural  FEMALE    0          0-5  Secondary+   \n",
       "\n",
       "    wealth_index is_adult  \n",
       "496      Poorest       No  \n",
       "36        Second       No  \n",
       "456      Poorest       No  \n",
       "548       Fourth       No  \n",
       "153       Fourth       No  "
      ]
     },
     "execution_count": 63,
     "metadata": {},
     "output_type": "execute_result"
    }
   ],
   "source": [
    "sorted_df=df.sort_values(by='age',ascending=True)\n",
    "sorted_df.head()\n"
   ]
  },
  {
   "cell_type": "code",
   "execution_count": 65,
   "id": "06c50bad-ac11-4898-9143-545daf9d78a9",
   "metadata": {},
   "outputs": [
    {
     "name": "stdout",
     "output_type": "stream",
     "text": [
      "Requirement already satisfied: matplotlib in c:\\users\\admin\\anaconda3\\lib\\site-packages (3.8.0)\n",
      "Requirement already satisfied: contourpy>=1.0.1 in c:\\users\\admin\\anaconda3\\lib\\site-packages (from matplotlib) (1.2.0)\n",
      "Requirement already satisfied: cycler>=0.10 in c:\\users\\admin\\anaconda3\\lib\\site-packages (from matplotlib) (0.11.0)\n",
      "Requirement already satisfied: fonttools>=4.22.0 in c:\\users\\admin\\anaconda3\\lib\\site-packages (from matplotlib) (4.25.0)\n",
      "Requirement already satisfied: kiwisolver>=1.0.1 in c:\\users\\admin\\anaconda3\\lib\\site-packages (from matplotlib) (1.4.4)\n",
      "Requirement already satisfied: numpy<2,>=1.21 in c:\\users\\admin\\anaconda3\\lib\\site-packages (from matplotlib) (1.26.4)\n",
      "Requirement already satisfied: packaging>=20.0 in c:\\users\\admin\\anaconda3\\lib\\site-packages (from matplotlib) (23.1)\n",
      "Requirement already satisfied: pillow>=6.2.0 in c:\\users\\admin\\anaconda3\\lib\\site-packages (from matplotlib) (10.2.0)\n",
      "Requirement already satisfied: pyparsing>=2.3.1 in c:\\users\\admin\\anaconda3\\lib\\site-packages (from matplotlib) (3.0.9)\n",
      "Requirement already satisfied: python-dateutil>=2.7 in c:\\users\\admin\\anaconda3\\lib\\site-packages (from matplotlib) (2.8.2)\n",
      "Requirement already satisfied: six>=1.5 in c:\\users\\admin\\anaconda3\\lib\\site-packages (from python-dateutil>=2.7->matplotlib) (1.16.0)\n"
     ]
    }
   ],
   "source": [
    "!pip install matplotlib"
   ]
  },
  {
   "cell_type": "code",
   "execution_count": 113,
   "id": "abc277cb-45b3-4743-9dde-e3099178bc1c",
   "metadata": {},
   "outputs": [
    {
     "name": "stdout",
     "output_type": "stream",
     "text": [
      "Requirement already satisfied: matplotlib in c:\\users\\admin\\anaconda3\\lib\\site-packages (3.8.0)\n",
      "Requirement already satisfied: contourpy>=1.0.1 in c:\\users\\admin\\anaconda3\\lib\\site-packages (from matplotlib) (1.2.0)\n",
      "Requirement already satisfied: cycler>=0.10 in c:\\users\\admin\\anaconda3\\lib\\site-packages (from matplotlib) (0.11.0)\n",
      "Requirement already satisfied: fonttools>=4.22.0 in c:\\users\\admin\\anaconda3\\lib\\site-packages (from matplotlib) (4.25.0)\n",
      "Requirement already satisfied: kiwisolver>=1.0.1 in c:\\users\\admin\\anaconda3\\lib\\site-packages (from matplotlib) (1.4.4)\n",
      "Requirement already satisfied: numpy<2,>=1.21 in c:\\users\\admin\\anaconda3\\lib\\site-packages (from matplotlib) (1.26.4)\n",
      "Requirement already satisfied: packaging>=20.0 in c:\\users\\admin\\anaconda3\\lib\\site-packages (from matplotlib) (23.1)\n",
      "Requirement already satisfied: pillow>=6.2.0 in c:\\users\\admin\\anaconda3\\lib\\site-packages (from matplotlib) (10.2.0)\n",
      "Requirement already satisfied: pyparsing>=2.3.1 in c:\\users\\admin\\anaconda3\\lib\\site-packages (from matplotlib) (3.0.9)\n",
      "Requirement already satisfied: python-dateutil>=2.7 in c:\\users\\admin\\anaconda3\\lib\\site-packages (from matplotlib) (2.8.2)\n",
      "Requirement already satisfied: six>=1.5 in c:\\users\\admin\\anaconda3\\lib\\site-packages (from python-dateutil>=2.7->matplotlib) (1.16.0)\n"
     ]
    }
   ],
   "source": [
    "\n",
    "import matplotlib.pyplot as plt\n",
    "!pip install matplotlib\n",
    "df=pd.read_csv('childhealthdata.csv')\n"
   ]
  },
  {
   "cell_type": "code",
   "execution_count": 99,
   "id": "2bd423fd-d4bd-4aec-9319-b3225fd43a80",
   "metadata": {},
   "outputs": [
    {
     "data": {
      "text/html": [
       "<div>\n",
       "<style scoped>\n",
       "    .dataframe tbody tr th:only-of-type {\n",
       "        vertical-align: middle;\n",
       "    }\n",
       "\n",
       "    .dataframe tbody tr th {\n",
       "        vertical-align: top;\n",
       "    }\n",
       "\n",
       "    .dataframe thead th {\n",
       "        text-align: right;\n",
       "    }\n",
       "</style>\n",
       "<table border=\"1\" class=\"dataframe\">\n",
       "  <thead>\n",
       "    <tr style=\"text-align: right;\">\n",
       "      <th></th>\n",
       "      <th>Child participated in POLIO campaign August 2013</th>\n",
       "      <th>diarrhea_status</th>\n",
       "      <th>weight</th>\n",
       "      <th>height</th>\n",
       "      <th>residence</th>\n",
       "      <th>Sex</th>\n",
       "      <th>age</th>\n",
       "      <th>age_category</th>\n",
       "      <th>education</th>\n",
       "      <th>wealth_index</th>\n",
       "    </tr>\n",
       "  </thead>\n",
       "  <tbody>\n",
       "    <tr>\n",
       "      <th>0</th>\n",
       "      <td>1</td>\n",
       "      <td>No</td>\n",
       "      <td>16.2</td>\n",
       "      <td>102.4</td>\n",
       "      <td>Rural</td>\n",
       "      <td>Female</td>\n",
       "      <td>45</td>\n",
       "      <td>36-47</td>\n",
       "      <td>Secondary+</td>\n",
       "      <td>Richest</td>\n",
       "    </tr>\n",
       "    <tr>\n",
       "      <th>1</th>\n",
       "      <td>1</td>\n",
       "      <td>No</td>\n",
       "      <td>13.5</td>\n",
       "      <td>92.5</td>\n",
       "      <td>Rural</td>\n",
       "      <td>Male</td>\n",
       "      <td>45</td>\n",
       "      <td>36-47</td>\n",
       "      <td>Primary</td>\n",
       "      <td>Second</td>\n",
       "    </tr>\n",
       "    <tr>\n",
       "      <th>2</th>\n",
       "      <td>1</td>\n",
       "      <td>No</td>\n",
       "      <td>13.4</td>\n",
       "      <td>88.5</td>\n",
       "      <td>Rural</td>\n",
       "      <td>Male</td>\n",
       "      <td>36</td>\n",
       "      <td>36-47</td>\n",
       "      <td>Primary</td>\n",
       "      <td>Fourth</td>\n",
       "    </tr>\n",
       "    <tr>\n",
       "      <th>3</th>\n",
       "      <td>1</td>\n",
       "      <td>No</td>\n",
       "      <td>15.0</td>\n",
       "      <td>101.3</td>\n",
       "      <td>Rural</td>\n",
       "      <td>Female</td>\n",
       "      <td>51</td>\n",
       "      <td>48-59</td>\n",
       "      <td>Primary</td>\n",
       "      <td>Fourth</td>\n",
       "    </tr>\n",
       "    <tr>\n",
       "      <th>4</th>\n",
       "      <td>1</td>\n",
       "      <td>No</td>\n",
       "      <td>15.2</td>\n",
       "      <td>105.0</td>\n",
       "      <td>Rural</td>\n",
       "      <td>Female</td>\n",
       "      <td>56</td>\n",
       "      <td>48-59</td>\n",
       "      <td>Primary</td>\n",
       "      <td>Fourth</td>\n",
       "    </tr>\n",
       "  </tbody>\n",
       "</table>\n",
       "</div>"
      ],
      "text/plain": [
       "   Child participated in POLIO campaign August 2013  diarrhea_status  weight  \\\n",
       "0                                                 1               No    16.2   \n",
       "1                                                 1               No    13.5   \n",
       "2                                                 1               No    13.4   \n",
       "3                                                 1               No    15.0   \n",
       "4                                                 1               No    15.2   \n",
       "\n",
       "   height residence     Sex  age age_category   education wealth_index  \n",
       "0   102.4     Rural  Female   45        36-47  Secondary+      Richest  \n",
       "1    92.5     Rural    Male   45        36-47     Primary       Second  \n",
       "2    88.5     Rural    Male   36        36-47     Primary       Fourth  \n",
       "3   101.3     Rural  Female   51        48-59     Primary       Fourth  \n",
       "4   105.0     Rural  Female   56        48-59     Primary       Fourth  "
      ]
     },
     "execution_count": 99,
     "metadata": {},
     "output_type": "execute_result"
    }
   ],
   "source": [
    "Data=pd.read_csv('childhealthdata.csv')\n",
    "Data.head()"
   ]
  },
  {
   "cell_type": "code",
   "execution_count": 101,
   "id": "224e7d4b-5b7e-4248-b74c-a212f9ab5ee7",
   "metadata": {},
   "outputs": [
    {
     "data": {
      "text/plain": [
       "(799, 10)"
      ]
     },
     "execution_count": 101,
     "metadata": {},
     "output_type": "execute_result"
    }
   ],
   "source": [
    "Data=pd.read_csv('childhealthdata.csv')\n",
    "Data.shape"
   ]
  },
  {
   "cell_type": "code",
   "execution_count": 105,
   "id": "4abd6523-c0db-45cf-b3b8-8454129a711e",
   "metadata": {},
   "outputs": [
    {
     "data": {
      "text/html": [
       "<div>\n",
       "<style scoped>\n",
       "    .dataframe tbody tr th:only-of-type {\n",
       "        vertical-align: middle;\n",
       "    }\n",
       "\n",
       "    .dataframe tbody tr th {\n",
       "        vertical-align: top;\n",
       "    }\n",
       "\n",
       "    .dataframe thead th {\n",
       "        text-align: right;\n",
       "    }\n",
       "</style>\n",
       "<table border=\"1\" class=\"dataframe\">\n",
       "  <thead>\n",
       "    <tr style=\"text-align: right;\">\n",
       "      <th></th>\n",
       "      <th>Child participated in POLIO campaign August 2013</th>\n",
       "      <th>diarrhea_status</th>\n",
       "      <th>weight</th>\n",
       "      <th>height</th>\n",
       "      <th>residence</th>\n",
       "      <th>Sex</th>\n",
       "      <th>age</th>\n",
       "      <th>age_category</th>\n",
       "      <th>education</th>\n",
       "      <th>wealth_index</th>\n",
       "    </tr>\n",
       "  </thead>\n",
       "  <tbody>\n",
       "    <tr>\n",
       "      <th>794</th>\n",
       "      <td>1</td>\n",
       "      <td>No</td>\n",
       "      <td>8.3</td>\n",
       "      <td>67.0</td>\n",
       "      <td>Urban</td>\n",
       "      <td>Female</td>\n",
       "      <td>7</td>\n",
       "      <td>6-11</td>\n",
       "      <td>Primary</td>\n",
       "      <td>Fourth</td>\n",
       "    </tr>\n",
       "    <tr>\n",
       "      <th>795</th>\n",
       "      <td>2</td>\n",
       "      <td>No</td>\n",
       "      <td>3.5</td>\n",
       "      <td>45.0</td>\n",
       "      <td>Urban</td>\n",
       "      <td>Male</td>\n",
       "      <td>0</td>\n",
       "      <td>0-5</td>\n",
       "      <td>Secondary+</td>\n",
       "      <td>Fourth</td>\n",
       "    </tr>\n",
       "    <tr>\n",
       "      <th>796</th>\n",
       "      <td>1</td>\n",
       "      <td>No</td>\n",
       "      <td>15.1</td>\n",
       "      <td>86.0</td>\n",
       "      <td>Urban</td>\n",
       "      <td>Female</td>\n",
       "      <td>56</td>\n",
       "      <td>48-59</td>\n",
       "      <td>Primary</td>\n",
       "      <td>Fourth</td>\n",
       "    </tr>\n",
       "    <tr>\n",
       "      <th>797</th>\n",
       "      <td>1</td>\n",
       "      <td>No</td>\n",
       "      <td>10.7</td>\n",
       "      <td>71.2</td>\n",
       "      <td>Urban</td>\n",
       "      <td>Female</td>\n",
       "      <td>18</td>\n",
       "      <td>12-23</td>\n",
       "      <td>Primary</td>\n",
       "      <td>Fourth</td>\n",
       "    </tr>\n",
       "    <tr>\n",
       "      <th>798</th>\n",
       "      <td>1</td>\n",
       "      <td>No</td>\n",
       "      <td>10.3</td>\n",
       "      <td>73.0</td>\n",
       "      <td>Urban</td>\n",
       "      <td>Female</td>\n",
       "      <td>7</td>\n",
       "      <td>6-11</td>\n",
       "      <td>Primary</td>\n",
       "      <td>Middle</td>\n",
       "    </tr>\n",
       "  </tbody>\n",
       "</table>\n",
       "</div>"
      ],
      "text/plain": [
       "     Child participated in POLIO campaign August 2013  diarrhea_status  \\\n",
       "794                                                 1               No   \n",
       "795                                                 2               No   \n",
       "796                                                 1               No   \n",
       "797                                                 1               No   \n",
       "798                                                 1               No   \n",
       "\n",
       "     weight  height residence     Sex  age age_category   education  \\\n",
       "794     8.3    67.0     Urban  Female    7         6-11     Primary   \n",
       "795     3.5    45.0     Urban    Male    0          0-5  Secondary+   \n",
       "796    15.1    86.0     Urban  Female   56        48-59     Primary   \n",
       "797    10.7    71.2     Urban  Female   18        12-23     Primary   \n",
       "798    10.3    73.0     Urban  Female    7         6-11     Primary   \n",
       "\n",
       "    wealth_index  \n",
       "794       Fourth  \n",
       "795       Fourth  \n",
       "796       Fourth  \n",
       "797       Fourth  \n",
       "798       Middle  "
      ]
     },
     "execution_count": 105,
     "metadata": {},
     "output_type": "execute_result"
    }
   ],
   "source": [
    "Data.tail()"
   ]
  },
  {
   "cell_type": "code",
   "execution_count": 107,
   "id": "3d640243-c408-4072-8f77-963f79ccd11f",
   "metadata": {},
   "outputs": [
    {
     "data": {
      "text/html": [
       "<div>\n",
       "<style scoped>\n",
       "    .dataframe tbody tr th:only-of-type {\n",
       "        vertical-align: middle;\n",
       "    }\n",
       "\n",
       "    .dataframe tbody tr th {\n",
       "        vertical-align: top;\n",
       "    }\n",
       "\n",
       "    .dataframe thead th {\n",
       "        text-align: right;\n",
       "    }\n",
       "</style>\n",
       "<table border=\"1\" class=\"dataframe\">\n",
       "  <thead>\n",
       "    <tr style=\"text-align: right;\">\n",
       "      <th></th>\n",
       "      <th>Child participated in POLIO campaign August 2013</th>\n",
       "      <th>diarrhea_status</th>\n",
       "      <th>weight</th>\n",
       "      <th>height</th>\n",
       "      <th>residence</th>\n",
       "      <th>Sex</th>\n",
       "      <th>age</th>\n",
       "      <th>age_category</th>\n",
       "      <th>education</th>\n",
       "      <th>wealth_index</th>\n",
       "    </tr>\n",
       "  </thead>\n",
       "  <tbody>\n",
       "    <tr>\n",
       "      <th>0</th>\n",
       "      <td>1</td>\n",
       "      <td>No</td>\n",
       "      <td>16.2</td>\n",
       "      <td>102.4</td>\n",
       "      <td>Rural</td>\n",
       "      <td>Female</td>\n",
       "      <td>45</td>\n",
       "      <td>36-47</td>\n",
       "      <td>Secondary+</td>\n",
       "      <td>Richest</td>\n",
       "    </tr>\n",
       "    <tr>\n",
       "      <th>1</th>\n",
       "      <td>1</td>\n",
       "      <td>No</td>\n",
       "      <td>13.5</td>\n",
       "      <td>92.5</td>\n",
       "      <td>Rural</td>\n",
       "      <td>Male</td>\n",
       "      <td>45</td>\n",
       "      <td>36-47</td>\n",
       "      <td>Primary</td>\n",
       "      <td>Second</td>\n",
       "    </tr>\n",
       "    <tr>\n",
       "      <th>2</th>\n",
       "      <td>1</td>\n",
       "      <td>No</td>\n",
       "      <td>13.4</td>\n",
       "      <td>88.5</td>\n",
       "      <td>Rural</td>\n",
       "      <td>Male</td>\n",
       "      <td>36</td>\n",
       "      <td>36-47</td>\n",
       "      <td>Primary</td>\n",
       "      <td>Fourth</td>\n",
       "    </tr>\n",
       "    <tr>\n",
       "      <th>3</th>\n",
       "      <td>1</td>\n",
       "      <td>No</td>\n",
       "      <td>15.0</td>\n",
       "      <td>101.3</td>\n",
       "      <td>Rural</td>\n",
       "      <td>Female</td>\n",
       "      <td>51</td>\n",
       "      <td>48-59</td>\n",
       "      <td>Primary</td>\n",
       "      <td>Fourth</td>\n",
       "    </tr>\n",
       "    <tr>\n",
       "      <th>4</th>\n",
       "      <td>1</td>\n",
       "      <td>No</td>\n",
       "      <td>15.2</td>\n",
       "      <td>105.0</td>\n",
       "      <td>Rural</td>\n",
       "      <td>Female</td>\n",
       "      <td>56</td>\n",
       "      <td>48-59</td>\n",
       "      <td>Primary</td>\n",
       "      <td>Fourth</td>\n",
       "    </tr>\n",
       "  </tbody>\n",
       "</table>\n",
       "</div>"
      ],
      "text/plain": [
       "   Child participated in POLIO campaign August 2013  diarrhea_status  weight  \\\n",
       "0                                                 1               No    16.2   \n",
       "1                                                 1               No    13.5   \n",
       "2                                                 1               No    13.4   \n",
       "3                                                 1               No    15.0   \n",
       "4                                                 1               No    15.2   \n",
       "\n",
       "   height residence     Sex  age age_category   education wealth_index  \n",
       "0   102.4     Rural  Female   45        36-47  Secondary+      Richest  \n",
       "1    92.5     Rural    Male   45        36-47     Primary       Second  \n",
       "2    88.5     Rural    Male   36        36-47     Primary       Fourth  \n",
       "3   101.3     Rural  Female   51        48-59     Primary       Fourth  \n",
       "4   105.0     Rural  Female   56        48-59     Primary       Fourth  "
      ]
     },
     "execution_count": 107,
     "metadata": {},
     "output_type": "execute_result"
    }
   ],
   "source": [
    "Data.head()"
   ]
  },
  {
   "cell_type": "code",
   "execution_count": 111,
   "id": "d9c75d05-4462-4cdc-b99a-16f9803f07cd",
   "metadata": {},
   "outputs": [
    {
     "data": {
      "text/plain": [
       "Index(['Child participated in POLIO campaign August 2013', ' diarrhea_status',\n",
       "       'weight', 'height', 'residence', 'Sex', 'age', 'age_category',\n",
       "       'education', 'wealth_index'],\n",
       "      dtype='object')"
      ]
     },
     "execution_count": 111,
     "metadata": {},
     "output_type": "execute_result"
    }
   ],
   "source": [
    "Data.columns"
   ]
  },
  {
   "cell_type": "code",
   "execution_count": 127,
   "id": "5d27dc65-e4f1-4724-8b3e-8baae5f89f07",
   "metadata": {},
   "outputs": [
    {
     "data": {
      "image/png": "[encoded data removed]",
      "text/plain": [
       "<Figure size 800x600 with 1 Axes>"
      ]
     },
     "metadata": {},
     "output_type": "display_data"
    }
   ],
   "source": [
    "import matplotlib.pyplot as plt\n",
    "gender_counts=Data['Sex'].value_counts()\n",
    "plt.figure(figsize=(8,6))\n",
    "plt.pie(gender_counts,labels=gender_counts.index,autopct='%1.1f%%',startangle=140)\n",
    "plt.title('Distribution by gender')\n",
    "plt.axis('equal')\n",
    "plt.show()"
   ]
  },
  {
   "cell_type": "code",
   "execution_count": 155,
   "id": "8c96a62e-65ee-4ed2-9d47-43a6bcab1a5a",
   "metadata": {},
   "outputs": [
    {
     "data": {
      "image/png": "[encoded data removed]",
      "text/plain": [
       "<Figure size 200x800 with 1 Axes>"
      ]
     },
     "metadata": {},
     "output_type": "display_data"
    }
   ],
   "source": [
    "education_counts=Data['education'].value_counts()\n",
    "plt.figure(figsize=(2,8))\n",
    "plt.bar(education_counts.index,education_counts.values,color='black')\n",
    "plt.ylabel('Count')\n",
    "plt.title('Distribution by education')\n",
    "plt.xticks(rotation=45)#Rotate labels if needed for better readability\n",
    "plt.show()"
   ]
  },
  {
   "cell_type": "code",
   "execution_count": 151,
   "id": "0b9008cd-b90f-402b-b022-a2955cab2b54",
   "metadata": {},
   "outputs": [
    {
     "data": {
      "image/png": "[encoded data removed]",
      "text/plain": [
       "<Figure size 600x400 with 1 Axes>"
      ]
     },
     "metadata": {},
     "output_type": "display_data"
    }
   ],
   "source": [
    "plt.figure(figsize=(6,4))\n",
    "plt.hist(Data['age'],bins=15,color='darkblue',edgecolor='black')\n",
    "plt.title('Distribition of age')\n",
    "plt.xlabel('Age')\n",
    "plt.ylabel('Frequency')\n",
    "plt.show()"
   ]
  },
  {
   "cell_type": "code",
   "execution_count": 3,
   "id": "b5980205-c354-4ec9-abf7-b807043333f8",
   "metadata": {},
   "outputs": [
    {
     "ename": "NameError",
     "evalue": "name 'pd' is not defined",
     "output_type": "error",
     "traceback": [
      "\u001b[1;31m---------------------------------------------------------------------------\u001b[0m",
      "\u001b[1;31mNameError\u001b[0m                                 Traceback (most recent call last)",
      "Cell \u001b[1;32mIn[3], line 3\u001b[0m\n\u001b[0;32m      1\u001b[0m data\u001b[38;5;241m=\u001b[39m{\u001b[38;5;124m'\u001b[39m\u001b[38;5;124mmonth\u001b[39m\u001b[38;5;124m'\u001b[39m:[\u001b[38;5;124m'\u001b[39m\u001b[38;5;124mJanuary\u001b[39m\u001b[38;5;124m'\u001b[39m,\u001b[38;5;124m'\u001b[39m\u001b[38;5;124mFebruary\u001b[39m\u001b[38;5;124m'\u001b[39m,\u001b[38;5;124m'\u001b[39m\u001b[38;5;124mMarch\u001b[39m\u001b[38;5;124m'\u001b[39m,\u001b[38;5;124m'\u001b[39m\u001b[38;5;124mApril\u001b[39m\u001b[38;5;124m'\u001b[39m,\u001b[38;5;124m'\u001b[39m\u001b[38;5;124mMay\u001b[39m\u001b[38;5;124m'\u001b[39m,\u001b[38;5;124m'\u001b[39m\u001b[38;5;124mJune\u001b[39m\u001b[38;5;124m'\u001b[39m,\u001b[38;5;124m'\u001b[39m\u001b[38;5;124mJuly\u001b[39m\u001b[38;5;124m'\u001b[39m,\u001b[38;5;124m'\u001b[39m\u001b[38;5;124mAugust\u001b[39m\u001b[38;5;124m'\u001b[39m,\u001b[38;5;124m'\u001b[39m\u001b[38;5;124mSeptember\u001b[39m\u001b[38;5;124m'\u001b[39m,\u001b[38;5;124m'\u001b[39m\u001b[38;5;124mOctober\u001b[39m\u001b[38;5;124m'\u001b[39m,\u001b[38;5;124m'\u001b[39m\u001b[38;5;124mNovember\u001b[39m\u001b[38;5;124m'\u001b[39m,\u001b[38;5;124m'\u001b[39m\u001b[38;5;124mDecember\u001b[39m\u001b[38;5;124m'\u001b[39m],\n\u001b[0;32m      2\u001b[0m       \u001b[38;5;124m'\u001b[39m\u001b[38;5;124mreported_cases\u001b[39m\u001b[38;5;124m'\u001b[39m:[\u001b[38;5;241m90\u001b[39m,\u001b[38;5;241m80\u001b[39m,\u001b[38;5;241m70\u001b[39m,\u001b[38;5;241m75\u001b[39m,\u001b[38;5;241m90\u001b[39m,\u001b[38;5;241m85\u001b[39m,\u001b[38;5;241m80\u001b[39m,\u001b[38;5;241m100\u001b[39m,\u001b[38;5;241m90\u001b[39m,\u001b[38;5;241m85\u001b[39m,\u001b[38;5;241m100\u001b[39m,\u001b[38;5;241m140\u001b[39m]}\n\u001b[1;32m----> 3\u001b[0m df\u001b[38;5;241m=\u001b[39mpd\u001b[38;5;241m.\u001b[39mDataFrame(data)\n\u001b[0;32m      4\u001b[0m pltfigure(figsize\u001b[38;5;241m=\u001b[39m(\u001b[38;5;241m10\u001b[39m,\u001b[38;5;241m6\u001b[39m))\n\u001b[0;32m      5\u001b[0m plt\u001b[38;5;241m.\u001b[39mplot(df[\u001b[38;5;124m'\u001b[39m\u001b[38;5;124mmonth\u001b[39m\u001b[38;5;124m'\u001b[39m],df[\u001b[38;5;124m'\u001b[39m\u001b[38;5;124mreported_cases\u001b[39m\u001b[38;5;124m'\u001b[39m],marker\u001b[38;5;241m=\u001b[39m\u001b[38;5;124m'\u001b[39m\u001b[38;5;124mo\u001b[39m\u001b[38;5;124m'\u001b[39m)\n",
      "\u001b[1;31mNameError\u001b[0m: name 'pd' is not defined"
     ]
    }
   ],
   "source": [
    "data={'month':['January','February','March','April','May','June','July','August','September','October','November','December'],\n",
    "      'reported_cases':[90,80,70,75,90,85,80,100,90,85,100,140]}\n",
    "df=pd.DataFrame(data)\n",
    "pltfigure(figsize=(10,6))\n",
    "plt.plot(df['month'],df['reported_cases'],marker='o')\n",
    "plt.xlabel('month')\n",
    "plt.ylabel('Reported Cases')\n",
    "plt.title('Reported Cases Over Time')\n",
    "plt.grid(True)\n",
    "plt.xticks(rotation=45)\n",
    "plt.show()"
   ]
  },
  {
   "cell_type": "code",
   "execution_count": 38,
   "id": "bd0a2d94-97af-4243-8318-4d03f0d76530",
   "metadata": {},
   "outputs": [
    {
     "name": "stdout",
     "output_type": "stream",
     "text": [
      "201.41666666666666\n"
     ]
    }
   ],
   "source": [
    "\n",
    "m=[182,199,160,227,173,210,227,205,275,208,169,182]\n",
    "average_cholestrol_levels=sum(m)/12\n",
    "print(average_cholestrol_levels)\n",
    "\n"
   ]
  },
  {
   "cell_type": "code",
   "execution_count": 55,
   "id": "db893dd2-257e-4939-8ac6-9ea7750da3d2",
   "metadata": {},
   "outputs": [
    {
     "name": "stdout",
     "output_type": "stream",
     "text": [
      "201.41666666666666\n"
     ]
    }
   ],
   "source": [
    "import numpy as np\n",
    "m=[182,199,160,227,173,210,227,205,275,208,169,182]\n",
    "mean_cholestrol=np.mean(m)\n",
    "print(mean_cholestrol)"
   ]
  },
  {
   "cell_type": "code",
   "execution_count": 91,
   "id": "3ff78d4a-3c12-4d9d-b741-dbafa4b3403f",
   "metadata": {},
   "outputs": [
    {
     "data": {
      "text/html": [
       "<div>\n",
       "<style scoped>\n",
       "    .dataframe tbody tr th:only-of-type {\n",
       "        vertical-align: middle;\n",
       "    }\n",
       "\n",
       "    .dataframe tbody tr th {\n",
       "        vertical-align: top;\n",
       "    }\n",
       "\n",
       "    .dataframe thead th {\n",
       "        text-align: right;\n",
       "    }\n",
       "</style>\n",
       "<table border=\"1\" class=\"dataframe\">\n",
       "  <thead>\n",
       "    <tr style=\"text-align: right;\">\n",
       "      <th></th>\n",
       "      <th>Child participated in POLIO campaign August 2013</th>\n",
       "      <th>diarrhea_status</th>\n",
       "      <th>weight</th>\n",
       "      <th>height</th>\n",
       "      <th>residence</th>\n",
       "      <th>Sex</th>\n",
       "      <th>age</th>\n",
       "      <th>age_category</th>\n",
       "      <th>education</th>\n",
       "      <th>wealth_index</th>\n",
       "    </tr>\n",
       "  </thead>\n",
       "  <tbody>\n",
       "    <tr>\n",
       "      <th>0</th>\n",
       "      <td>1</td>\n",
       "      <td>No</td>\n",
       "      <td>16.2</td>\n",
       "      <td>102.4</td>\n",
       "      <td>Rural</td>\n",
       "      <td>Female</td>\n",
       "      <td>45</td>\n",
       "      <td>36-47</td>\n",
       "      <td>Secondary+</td>\n",
       "      <td>Richest</td>\n",
       "    </tr>\n",
       "    <tr>\n",
       "      <th>1</th>\n",
       "      <td>1</td>\n",
       "      <td>No</td>\n",
       "      <td>13.5</td>\n",
       "      <td>92.5</td>\n",
       "      <td>Rural</td>\n",
       "      <td>Male</td>\n",
       "      <td>45</td>\n",
       "      <td>36-47</td>\n",
       "      <td>Primary</td>\n",
       "      <td>Second</td>\n",
       "    </tr>\n",
       "    <tr>\n",
       "      <th>2</th>\n",
       "      <td>1</td>\n",
       "      <td>No</td>\n",
       "      <td>13.4</td>\n",
       "      <td>88.5</td>\n",
       "      <td>Rural</td>\n",
       "      <td>Male</td>\n",
       "      <td>36</td>\n",
       "      <td>36-47</td>\n",
       "      <td>Primary</td>\n",
       "      <td>Fourth</td>\n",
       "    </tr>\n",
       "    <tr>\n",
       "      <th>3</th>\n",
       "      <td>1</td>\n",
       "      <td>No</td>\n",
       "      <td>15.0</td>\n",
       "      <td>101.3</td>\n",
       "      <td>Rural</td>\n",
       "      <td>Female</td>\n",
       "      <td>51</td>\n",
       "      <td>48-59</td>\n",
       "      <td>Primary</td>\n",
       "      <td>Fourth</td>\n",
       "    </tr>\n",
       "    <tr>\n",
       "      <th>4</th>\n",
       "      <td>1</td>\n",
       "      <td>No</td>\n",
       "      <td>15.2</td>\n",
       "      <td>105.0</td>\n",
       "      <td>Rural</td>\n",
       "      <td>Female</td>\n",
       "      <td>56</td>\n",
       "      <td>48-59</td>\n",
       "      <td>Primary</td>\n",
       "      <td>Fourth</td>\n",
       "    </tr>\n",
       "  </tbody>\n",
       "</table>\n",
       "</div>"
      ],
      "text/plain": [
       "   Child participated in POLIO campaign August 2013  diarrhea_status  weight  \\\n",
       "0                                                 1               No    16.2   \n",
       "1                                                 1               No    13.5   \n",
       "2                                                 1               No    13.4   \n",
       "3                                                 1               No    15.0   \n",
       "4                                                 1               No    15.2   \n",
       "\n",
       "   height residence     Sex  age age_category   education wealth_index  \n",
       "0   102.4     Rural  Female   45        36-47  Secondary+      Richest  \n",
       "1    92.5     Rural    Male   45        36-47     Primary       Second  \n",
       "2    88.5     Rural    Male   36        36-47     Primary       Fourth  \n",
       "3   101.3     Rural  Female   51        48-59     Primary       Fourth  \n",
       "4   105.0     Rural  Female   56        48-59     Primary       Fourth  "
      ]
     },
     "execution_count": 91,
     "metadata": {},
     "output_type": "execute_result"
    }
   ],
   "source": [
    "import pandas as pd\n",
    "df=pd.read_csv('childhealthdata.csv')\n",
    "df.head()"
   ]
  },
  {
   "cell_type": "code",
   "execution_count": 95,
   "id": "0e77934f-f6ef-4396-9c17-86c2c4788cd6",
   "metadata": {},
   "outputs": [
    {
     "name": "stdout",
     "output_type": "stream",
     "text": [
      "11.591113892365458\n"
     ]
    }
   ],
   "source": [
    "df=pd.read_csv('childhealthdata.csv')\n",
    "df.head()\n",
    "mean_weight=df['weight'].mean()\n",
    "print(mean_weight)"
   ]
  },
  {
   "cell_type": "code",
   "execution_count": 103,
   "id": "243033ab-1699-42e7-ba4d-0655f9d8e5df",
   "metadata": {},
   "outputs": [
    {
     "ename": "SyntaxError",
     "evalue": "unterminated string literal (detected at line 1) (2301882060.py, line 1)",
     "output_type": "error",
     "traceback": [
      "\u001b[1;36m  Cell \u001b[1;32mIn[103], line 1\u001b[1;36m\u001b[0m\n\u001b[1;33m    mean_weight=round(df[\"weight'].mean())\u001b[0m\n\u001b[1;37m                         ^\u001b[0m\n\u001b[1;31mSyntaxError\u001b[0m\u001b[1;31m:\u001b[0m unterminated string literal (detected at line 1)\n"
     ]
    }
   ],
   "source": [
    "\n",
    "mean_weight=round(df[weight'].mean())\n",
    "print(mean_weight)\n",
    "                  "
   ]
  },
  {
   "cell_type": "code",
   "execution_count": 1,
   "id": "16a0d9c9-895d-4af7-a19f-773a56469efc",
   "metadata": {},
   "outputs": [
    {
     "ename": "NameError",
     "evalue": "name 'pd' is not defined",
     "output_type": "error",
     "traceback": [
      "\u001b[1;31m---------------------------------------------------------------------------\u001b[0m",
      "\u001b[1;31mNameError\u001b[0m                                 Traceback (most recent call last)",
      "Cell \u001b[1;32mIn[1], line 1\u001b[0m\n\u001b[1;32m----> 1\u001b[0m df\u001b[38;5;241m=\u001b[39mpd\u001b[38;5;241m.\u001b[39mread_csv(\u001b[38;5;124m'\u001b[39m\u001b[38;5;124mchildhealthdata.csv\u001b[39m\u001b[38;5;124m'\u001b[39m)\n\u001b[0;32m      2\u001b[0m df\u001b[38;5;241m.\u001b[39mhead()\n\u001b[0;32m      3\u001b[0m mean_weight\u001b[38;5;241m=\u001b[39mdf[\u001b[38;5;124m'\u001b[39m\u001b[38;5;124mweight\u001b[39m\u001b[38;5;124m'\u001b[39m]\u001b[38;5;241m.\u001b[39mmean()\n",
      "\u001b[1;31mNameError\u001b[0m: name 'pd' is not defined"
     ]
    }
   ],
   "source": [
    "df=pd.read_csv('childhealthdata.csv')\n",
    "df.head()\n",
    "mean_weight=df['weight'].mean()\n",
    "print(mean_weight)"
   ]
  },
  {
   "cell_type": "code",
   "execution_count": 2,
   "id": "e0de885d-dd35-42c1-a484-f0efeb05f41a",
   "metadata": {},
   "outputs": [
    {
     "name": "stdout",
     "output_type": "stream",
     "text": [
      "201.41666666666666\n"
     ]
    }
   ],
   "source": [
    "import numpy as np\n",
    "m=[182,199,160,227,173,210,227,205,275,208,169,182]\n",
    "mean_cholestrol=np.mean(m)\n",
    "print(mean_cholestrol)"
   ]
  },
  {
   "cell_type": "code",
   "execution_count": 2,
   "id": "ee03a56c-c1a7-4bc9-b8a5-32040269e641",
   "metadata": {},
   "outputs": [
    {
     "ename": "NameError",
     "evalue": "name 'df' is not defined",
     "output_type": "error",
     "traceback": [
      "\u001b[1;31m---------------------------------------------------------------------------\u001b[0m",
      "\u001b[1;31mNameError\u001b[0m                                 Traceback (most recent call last)",
      "Cell \u001b[1;32mIn[2], line 1\u001b[0m\n\u001b[1;32m----> 1\u001b[0m mean_weight\u001b[38;5;241m=\u001b[39m\u001b[38;5;28mround\u001b[39m(df[\u001b[38;5;124m'\u001b[39m\u001b[38;5;124mweight\u001b[39m\u001b[38;5;124m'\u001b[39m]\u001b[38;5;241m.\u001b[39mmean())\n\u001b[0;32m      2\u001b[0m \u001b[38;5;28mprint\u001b[39m(mean_weight)\n",
      "\u001b[1;31mNameError\u001b[0m: name 'df' is not defined"
     ]
    }
   ],
   "source": [
    "mean_weight=round(df['weight'].mean())\n",
    "print(mean_weight)\n",
    "                  "
   ]
  },
  {
   "cell_type": "code",
   "execution_count": 4,
   "id": "45669ff7-2ff8-49d4-8127-730df0d57e66",
   "metadata": {},
   "outputs": [
    {
     "name": "stdout",
     "output_type": "stream",
     "text": [
      "201.41666666666666\n"
     ]
    }
   ],
   "source": [
    "import numpy as np\n",
    "m=[182,199,160,227,173,210,227,205,275,208,169,182]\n",
    "mean_cholestrol=np.mean(m)\n",
    "print(mean_cholestrol)"
   ]
  },
  {
   "cell_type": "code",
   "execution_count": 4,
   "id": "3b372366-ccad-4b54-90f9-d63cae34d64a",
   "metadata": {},
   "outputs": [
    {
     "ename": "NameError",
     "evalue": "name 'Data' is not defined",
     "output_type": "error",
     "traceback": [
      "\u001b[1;31m---------------------------------------------------------------------------\u001b[0m",
      "\u001b[1;31mNameError\u001b[0m                                 Traceback (most recent call last)",
      "Cell \u001b[1;32mIn[4], line 2\u001b[0m\n\u001b[0;32m      1\u001b[0m \u001b[38;5;28;01mimport\u001b[39;00m \u001b[38;5;21;01mmatplotlib\u001b[39;00m\u001b[38;5;21;01m.\u001b[39;00m\u001b[38;5;21;01mpyplot\u001b[39;00m \u001b[38;5;28;01mas\u001b[39;00m \u001b[38;5;21;01mplt\u001b[39;00m\n\u001b[1;32m----> 2\u001b[0m gender_counts\u001b[38;5;241m=\u001b[39mData[\u001b[38;5;124m'\u001b[39m\u001b[38;5;124mSex\u001b[39m\u001b[38;5;124m'\u001b[39m]\u001b[38;5;241m.\u001b[39mvalue_counts()\n\u001b[0;32m      3\u001b[0m plt\u001b[38;5;241m.\u001b[39mfigure(figsize\u001b[38;5;241m=\u001b[39m(\u001b[38;5;241m8\u001b[39m,\u001b[38;5;241m6\u001b[39m))\n\u001b[0;32m      4\u001b[0m plt\u001b[38;5;241m.\u001b[39mpie(gender_counts,labels\u001b[38;5;241m=\u001b[39mgender_counts\u001b[38;5;241m.\u001b[39mindex,autopct\u001b[38;5;241m=\u001b[39m\u001b[38;5;124m'\u001b[39m\u001b[38;5;132;01m%1.1f\u001b[39;00m\u001b[38;5;132;01m%%\u001b[39;00m\u001b[38;5;124m'\u001b[39m,startangle\u001b[38;5;241m=\u001b[39m\u001b[38;5;241m140\u001b[39m)\n",
      "\u001b[1;31mNameError\u001b[0m: name 'Data' is not defined"
     ]
    }
   ],
   "source": [
    "import matplotlib.pyplot as plt\n",
    "gender_counts=Data['Sex'].value_counts()\n",
    "plt.figure(figsize=(8,6))\n",
    "plt.pie(gender_counts,labels=gender_counts.index,autopct='%1.1f%%',startangle=140)\n",
    "plt.title('Distribution by gender')\n",
    "plt.axis('equal')\n",
    "plt.show()"
   ]
  },
  {
   "cell_type": "code",
   "execution_count": 19,
   "id": "f6c04fde-071b-42d7-aabf-d5f3c1b2b597",
   "metadata": {},
   "outputs": [
    {
     "ename": "NameError",
     "evalue": "name 'pd' is not defined",
     "output_type": "error",
     "traceback": [
      "\u001b[1;31m---------------------------------------------------------------------------\u001b[0m",
      "\u001b[1;31mNameError\u001b[0m                                 Traceback (most recent call last)",
      "Cell \u001b[1;32mIn[19], line 2\u001b[0m\n\u001b[0;32m      1\u001b[0m \u001b[38;5;66;03m#calculate quantiles\u001b[39;00m\n\u001b[1;32m----> 2\u001b[0m data\u001b[38;5;241m=\u001b[39mpd\u001b[38;5;241m.\u001b[39mread_csv(\u001b[38;5;124m'\u001b[39m\u001b[38;5;124mchildhealthdata.csv\u001b[39m\u001b[38;5;124m'\u001b[39m)\n\u001b[0;32m      3\u001b[0m quantiles_25_75\u001b[38;5;241m=\u001b[39mdata[\u001b[38;5;124m'\u001b[39m\u001b[38;5;124mweight\u001b[39m\u001b[38;5;124m'\u001b[39m]\u001b[38;5;241m.\u001b[39mquantile([\u001b[38;5;241m0.25\u001b[39m,\u001b[38;5;241m0.75\u001b[39m])\n\u001b[0;32m      4\u001b[0m \u001b[38;5;28mprint\u001b[39m(quantiles_25_75)\n",
      "\u001b[1;31mNameError\u001b[0m: name 'pd' is not defined"
     ]
    }
   ],
   "source": [
    "#calculate quantiles\n",
    "data=pd.read_csv('childhealthdata.csv')\n",
    "quantiles_25_75=data['weight'].quantile([0.25,0.75])\n",
    "print(quantiles_25_75)"
   ]
  },
  {
   "cell_type": "code",
   "execution_count": 4,
   "id": "f8a29082-f42b-45e2-97fb-81039421919d",
   "metadata": {},
   "outputs": [
    {
     "data": {
      "text/html": [
       "<div>\n",
       "<style scoped>\n",
       "    .dataframe tbody tr th:only-of-type {\n",
       "        vertical-align: middle;\n",
       "    }\n",
       "\n",
       "    .dataframe tbody tr th {\n",
       "        vertical-align: top;\n",
       "    }\n",
       "\n",
       "    .dataframe thead th {\n",
       "        text-align: right;\n",
       "    }\n",
       "</style>\n",
       "<table border=\"1\" class=\"dataframe\">\n",
       "  <thead>\n",
       "    <tr style=\"text-align: right;\">\n",
       "      <th></th>\n",
       "      <th>Child participated in POLIO campaign August 2013</th>\n",
       "      <th>diarrhea_status</th>\n",
       "      <th>weight</th>\n",
       "      <th>height</th>\n",
       "      <th>residence</th>\n",
       "      <th>Sex</th>\n",
       "      <th>age</th>\n",
       "      <th>age_category</th>\n",
       "      <th>education</th>\n",
       "      <th>wealth_index</th>\n",
       "    </tr>\n",
       "  </thead>\n",
       "  <tbody>\n",
       "    <tr>\n",
       "      <th>0</th>\n",
       "      <td>1</td>\n",
       "      <td>No</td>\n",
       "      <td>16.2</td>\n",
       "      <td>102.4</td>\n",
       "      <td>Rural</td>\n",
       "      <td>Female</td>\n",
       "      <td>45</td>\n",
       "      <td>36-47</td>\n",
       "      <td>Secondary+</td>\n",
       "      <td>Richest</td>\n",
       "    </tr>\n",
       "    <tr>\n",
       "      <th>1</th>\n",
       "      <td>1</td>\n",
       "      <td>No</td>\n",
       "      <td>13.5</td>\n",
       "      <td>92.5</td>\n",
       "      <td>Rural</td>\n",
       "      <td>Male</td>\n",
       "      <td>45</td>\n",
       "      <td>36-47</td>\n",
       "      <td>Primary</td>\n",
       "      <td>Second</td>\n",
       "    </tr>\n",
       "    <tr>\n",
       "      <th>2</th>\n",
       "      <td>1</td>\n",
       "      <td>No</td>\n",
       "      <td>13.4</td>\n",
       "      <td>88.5</td>\n",
       "      <td>Rural</td>\n",
       "      <td>Male</td>\n",
       "      <td>36</td>\n",
       "      <td>36-47</td>\n",
       "      <td>Primary</td>\n",
       "      <td>Fourth</td>\n",
       "    </tr>\n",
       "    <tr>\n",
       "      <th>3</th>\n",
       "      <td>1</td>\n",
       "      <td>No</td>\n",
       "      <td>15.0</td>\n",
       "      <td>101.3</td>\n",
       "      <td>Rural</td>\n",
       "      <td>Female</td>\n",
       "      <td>51</td>\n",
       "      <td>48-59</td>\n",
       "      <td>Primary</td>\n",
       "      <td>Fourth</td>\n",
       "    </tr>\n",
       "    <tr>\n",
       "      <th>4</th>\n",
       "      <td>1</td>\n",
       "      <td>No</td>\n",
       "      <td>15.2</td>\n",
       "      <td>105.0</td>\n",
       "      <td>Rural</td>\n",
       "      <td>Female</td>\n",
       "      <td>56</td>\n",
       "      <td>48-59</td>\n",
       "      <td>Primary</td>\n",
       "      <td>Fourth</td>\n",
       "    </tr>\n",
       "  </tbody>\n",
       "</table>\n",
       "</div>"
      ],
      "text/plain": [
       "   Child participated in POLIO campaign August 2013  diarrhea_status  weight  \\\n",
       "0                                                 1               No    16.2   \n",
       "1                                                 1               No    13.5   \n",
       "2                                                 1               No    13.4   \n",
       "3                                                 1               No    15.0   \n",
       "4                                                 1               No    15.2   \n",
       "\n",
       "   height residence     Sex  age age_category   education wealth_index  \n",
       "0   102.4     Rural  Female   45        36-47  Secondary+      Richest  \n",
       "1    92.5     Rural    Male   45        36-47     Primary       Second  \n",
       "2    88.5     Rural    Male   36        36-47     Primary       Fourth  \n",
       "3   101.3     Rural  Female   51        48-59     Primary       Fourth  \n",
       "4   105.0     Rural  Female   56        48-59     Primary       Fourth  "
      ]
     },
     "execution_count": 4,
     "metadata": {},
     "output_type": "execute_result"
    }
   ],
   "source": [
    "import pandas as pd\n",
    "df=pd.read_csv('childhealthdata.csv')\n",
    "df.head()"
   ]
  },
  {
   "cell_type": "code",
   "execution_count": 6,
   "id": "5adb8f60-1a8f-4024-8fcd-5173c1212f9a",
   "metadata": {},
   "outputs": [
    {
     "ename": "NameError",
     "evalue": "name 'child' is not defined",
     "output_type": "error",
     "traceback": [
      "\u001b[1;31m---------------------------------------------------------------------------\u001b[0m",
      "\u001b[1;31mNameError\u001b[0m                                 Traceback (most recent call last)",
      "Cell \u001b[1;32mIn[6], line 2\u001b[0m\n\u001b[0;32m      1\u001b[0m \u001b[38;5;66;03m#calculate quantiles\u001b[39;00m\n\u001b[1;32m----> 2\u001b[0m quantiles_25_75\u001b[38;5;241m=\u001b[39mchild[\u001b[38;5;124m'\u001b[39m\u001b[38;5;124mweight\u001b[39m\u001b[38;5;124m'\u001b[39m]\u001b[38;5;241m.\u001b[39mquantiles([\u001b[38;5;241m0.25\u001b[39m,\u001b[38;5;241m0.75\u001b[39m])\n\u001b[0;32m      3\u001b[0m \u001b[38;5;28mprint\u001b[39m(quantiles_25_75)\n",
      "\u001b[1;31mNameError\u001b[0m: name 'child' is not defined"
     ]
    }
   ],
   "source": [
    "#calculate quantiles\n",
    "quantiles_25_75=child['weight'].quantiles([0.25,0.75])\n",
    "print(quantiles_25_75)"
   ]
  },
  {
   "cell_type": "code",
   "execution_count": 1,
   "id": "ed6c546e-20a6-41f3-b747-21f81040f52b",
   "metadata": {},
   "outputs": [
    {
     "ename": "NameError",
     "evalue": "name 'childchildhealthdata' is not defined",
     "output_type": "error",
     "traceback": [
      "\u001b[1;31m---------------------------------------------------------------------------\u001b[0m",
      "\u001b[1;31mNameError\u001b[0m                                 Traceback (most recent call last)",
      "Cell \u001b[1;32mIn[1], line 1\u001b[0m\n\u001b[1;32m----> 1\u001b[0m quantiles_25_75\u001b[38;5;241m=\u001b[39mchildchildhealthdata[\u001b[38;5;124m'\u001b[39m\u001b[38;5;124mweight\u001b[39m\u001b[38;5;124m'\u001b[39m]\u001b[38;5;241m.\u001b[39mquantiles([\u001b[38;5;241m0.25\u001b[39m,\u001b[38;5;241m0.75\u001b[39m])\n\u001b[0;32m      2\u001b[0m \u001b[38;5;28mprint\u001b[39m(quantiles_25_75)\n",
      "\u001b[1;31mNameError\u001b[0m: name 'childchildhealthdata' is not defined"
     ]
    }
   ],
   "source": [
    "quantiles_25_75=childchildhealthdata['weight'].quantiles([0.25,0.75])\n",
    "print(quantiles_25_75)"
   ]
  },
  {
   "cell_type": "code",
   "execution_count": 11,
   "id": "b8335bad-63a9-40be-8f05-336848a27266",
   "metadata": {},
   "outputs": [
    {
     "name": "stdout",
     "output_type": "stream",
     "text": [
      "   integers                                   range\n",
      "0         3                               (0, 1, 2)\n",
      "1         5                         (0, 1, 2, 3, 4)\n",
      "2         7                   (0, 1, 2, 3, 4, 5, 6)\n",
      "3        10          (0, 1, 2, 3, 4, 5, 6, 7, 8, 9)\n",
      "4        12  (0, 1, 2, 3, 4, 5, 6, 7, 8, 9, 10, 11)\n"
     ]
    }
   ],
   "source": [
    "import pandas as pd\n",
    "data={'integers':[3,5,7,10,12]}\n",
    "df=pd.DataFrame(data)\n",
    "df['range']=df['integers'].apply(lambda x:range(x))\n",
    "print(df)"
   ]
  },
  {
   "cell_type": "code",
   "execution_count": 6,
   "id": "5071b8af-5164-45c8-8344-9c8d3074e373",
   "metadata": {},
   "outputs": [
    {
     "name": "stdout",
     "output_type": "stream",
     "text": [
      "     Gender   Height Weight  Index  Unnamed: 4  Unnamed: 5 female  male\n",
      "0       NaN  15    8     89      4         NaN         NaN    158   158\n",
      "1       NaN  15    8     89      4         NaN         NaN    158   158\n",
      "2       1.0      178    127      4         NaN         NaN    178   178\n",
      "3       1.0     none    139      5         NaN         NaN   none  none\n",
      "4       1.0     none    104      5         NaN         NaN    181   181\n",
      "..      ...      ...    ...    ...         ...         ...    ...   ...\n",
      "399     NaN      190   none      5         NaN         NaN    NaN   NaN\n",
      "400     NaN      164    130      5         NaN         NaN    NaN   NaN\n",
      "401     NaN      185    138      5         NaN         NaN    NaN   NaN\n",
      "402     NaN      188    158      5         NaN         NaN    NaN   NaN\n",
      "403     NaN      161    155      5         NaN         NaN    NaN   NaN\n",
      "\n",
      "[404 rows x 8 columns]\n"
     ]
    }
   ],
   "source": [
    "import pandas as pd\n",
    "import numpy as np\n",
    "df=pd.read_csv('dirtybmi_22.csv')\n",
    "#Custom mapping for conversion\n",
    "mapping={'True':1,'False':0,'Female':1,'male':0}\n",
    "#Applying the mapping to the column\n",
    "df['Gender']=df['Gender'].map(mapping)\n",
    "print(df)"
   ]
  },
  {
   "cell_type": "code",
   "execution_count": 3,
   "id": "e76ccad2-403e-4532-848a-170c8c615ce2",
   "metadata": {},
   "outputs": [
    {
     "name": "stdout",
     "output_type": "stream",
     "text": [
      "     Gender   Height Weight  Index  Unnamed: 4  Unnamed: 5 female  male\n",
      "0       NaN  15    8     89      4         NaN         NaN    158   158\n",
      "1       NaN  15    8     89      4         NaN         NaN    158   158\n",
      "2       1.0      178    127      4         NaN         NaN    178   178\n",
      "3       1.0     none    139      5         NaN         NaN   none  none\n",
      "4       1.0     none    104      5         NaN         NaN    181   181\n",
      "..      ...      ...    ...    ...         ...         ...    ...   ...\n",
      "399     NaN      190   none      5         NaN         NaN    NaN   NaN\n",
      "400     NaN      164    130      5         NaN         NaN    NaN   NaN\n",
      "401     NaN      185    138      5         NaN         NaN    NaN   NaN\n",
      "402     NaN      188    158      5         NaN         NaN    NaN   NaN\n",
      "403     NaN      161    155      5         NaN         NaN    NaN   NaN\n",
      "\n",
      "[404 rows x 8 columns]\n"
     ]
    }
   ],
   "source": [
    "import pandas as pd\n",
    "import numpy as np\n",
    "df=pd.read_csv('dirtybmi_22.csv')\n",
    "#Custom mapping for conversion\n",
    "mapping={'True':1,'False':0,'Female':1,'male':0}\n",
    "#Applying the mapping to the column\n",
    "df['Gender']=df['Gender'].map(mapping)\n",
    "print(df)"
   ]
  },
  {
   "cell_type": "code",
   "execution_count": 4,
   "id": "e3d4e4f8-85a5-4dd4-bc1c-779f54345fb9",
   "metadata": {},
   "outputs": [
    {
     "name": "stdout",
     "output_type": "stream",
     "text": [
      "     Gender   Height Weight  Index  Unnamed: 4  Unnamed: 5 female  male\n",
      "0       NaN  15    8     89      4         NaN         NaN    158   158\n",
      "1       NaN  15    8     89      4         NaN         NaN    158   158\n",
      "2       1.0      178    127      4         NaN         NaN    178   178\n",
      "3       1.0     none    139      5         NaN         NaN   none  none\n",
      "4       1.0     none    104      5         NaN         NaN    181   181\n",
      "..      ...      ...    ...    ...         ...         ...    ...   ...\n",
      "399     NaN      190   none      5         NaN         NaN    NaN   NaN\n",
      "400     NaN      164    130      5         NaN         NaN    NaN   NaN\n",
      "401     NaN      185    138      5         NaN         NaN    NaN   NaN\n",
      "402     NaN      188    158      5         NaN         NaN    NaN   NaN\n",
      "403     NaN      161    155      5         NaN         NaN    NaN   NaN\n",
      "\n",
      "[404 rows x 8 columns]\n"
     ]
    }
   ],
   "source": [
    "import pandas as pd\n",
    "import numpy as np\n",
    "df=pd.read_csv('dirtybmi_22.csv')\n",
    "#Custom mapping for conversion\n",
    "mapping={'True':1,'False':0,'Female':1,'male':0}\n",
    "#Applying the mapping to the column\n",
    "df['Gender']=df['Gender'].map(mapping)\n",
    "print(df)"
   ]
  },
  {
   "cell_type": "code",
   "execution_count": 14,
   "id": "6201deda-2fd8-4121-9c72-764715384d59",
   "metadata": {},
   "outputs": [
    {
     "name": "stdout",
     "output_type": "stream",
     "text": [
      "<class 'pandas.core.frame.DataFrame'>\n",
      "RangeIndex: 404 entries, 0 to 403\n",
      "Data columns (total 8 columns):\n",
      " #   Column      Non-Null Count  Dtype   \n",
      "---  ------      --------------  -----   \n",
      " 0   Gender      404 non-null    category\n",
      " 1   Height      404 non-null    string  \n",
      " 2   Weight      404 non-null    string  \n",
      " 3   Index       404 non-null    int32   \n",
      " 4   Unnamed: 4  0 non-null      float64 \n",
      " 5   Unnamed: 5  0 non-null      float64 \n",
      " 6   female      204 non-null    category\n",
      " 7   male        204 non-null    category\n",
      "dtypes: category(3), float64(2), int32(1), string(2)\n",
      "memory usage: 20.9 KB\n"
     ]
    }
   ],
   "source": [
    "import pandas as pd\n",
    "import numpy as np\n",
    "df1=pd.read_csv('dirtybmi_22.csv')\n",
    "df1['Gender']=df1['Gender'].astype('category')\n",
    "df1['Height']=df1['Height'].astype('string')\n",
    "df1['Weight']=df1['Weight'].astype('string')\n",
    "df1['Index']=df1['Index'].astype('int')\n",
    "df1['female']=df1['female'].astype('category')\n",
    "df1['male']=df1['male'].astype('category')\n",
    "df1.info()\n",
    "                        \n"
   ]
  },
  {
   "cell_type": "code",
   "execution_count": 16,
   "id": "3e07f21a-0c9b-4869-891e-73b09c79b4a2",
   "metadata": {},
   "outputs": [
    {
     "name": "stdout",
     "output_type": "stream",
     "text": [
      "Original DataFrame:\n",
      "      Name      City\n",
      "0     Rose   Makweni\n",
      "1    Jane   Kwavonza\n",
      "2  Charlie     Kitui\n",
      "3   Faith   Mselele \n"
     ]
    }
   ],
   "source": [
    "import pandas as pd\n",
    "data={'Name':[' Rose','Jane ','Charlie',' Faith '],'City':[' Makweni', 'Kwavonza', 'Kitui','Mselele ']}\n",
    "df=pd.DataFrame(data)\n",
    "print('Original DataFrame:')\n",
    "print(df)"
   ]
  },
  {
   "cell_type": "code",
   "execution_count": 18,
   "id": "deffaad5-f729-47a2-86f4-3d9f3d8b9e37",
   "metadata": {},
   "outputs": [
    {
     "name": "stdout",
     "output_type": "stream",
     "text": [
      "\n",
      "Trimmed DataFrame:\n",
      "      Name      City\n",
      "0     Rose   Makweni\n",
      "1     Jane  Kwavonza\n",
      "2  Charlie     Kitui\n",
      "3    Faith   Mselele\n"
     ]
    }
   ],
   "source": [
    "df['Name']=df['Name'].str.strip()\n",
    "df['City']=df['City'].str.strip()\n",
    "print('\\nTrimmed DataFrame:')\n",
    "print(df)\n"
   ]
  },
  {
   "cell_type": "code",
   "execution_count": 20,
   "id": "55400e13-dc62-4829-a62d-343b02d98c8a",
   "metadata": {},
   "outputs": [
    {
     "name": "stdout",
     "output_type": "stream",
     "text": [
      "0      False\n",
      "1      False\n",
      "2      False\n",
      "3      False\n",
      "4      False\n",
      "       ...  \n",
      "794    False\n",
      "795    False\n",
      "796    False\n",
      "797    False\n",
      "798    False\n",
      "Length: 799, dtype: bool\n"
     ]
    }
   ],
   "source": [
    "import pandas as pd\n",
    "from scipy import stats\n",
    "df=pd.read_csv('childhealthdata.csv')\n",
    "duplicates=df.duplicated()\n",
    "print(duplicates)"
   ]
  },
  {
   "cell_type": "code",
   "execution_count": 27,
   "id": "a210f8bf-ae31-449a-ab25-98446822f6fe",
   "metadata": {},
   "outputs": [
    {
     "name": "stdout",
     "output_type": "stream",
     "text": [
      "\n",
      "Rows with out-of-range'height':\n",
      "     Child participated in POLIO campaign August 2013  diarrhea_status  \\\n",
      "43                                                  1               No   \n",
      "103                                                 1               No   \n",
      "127                                                 1               No   \n",
      "158                                                 1               No   \n",
      "396                                                 1               No   \n",
      "450                                                 1               No   \n",
      "456                                                 2               No   \n",
      "531                                                 1               No   \n",
      "577                                                 2               No   \n",
      "678                                                 1               No   \n",
      "733                                                 1               No   \n",
      "757                                                 1               No   \n",
      "795                                                 2               No   \n",
      "\n",
      "     weight  height residence     Sex  age age_category   education  \\\n",
      "43     20.5   112.0     Rural    Male   53        48-59     Primary   \n",
      "103    14.6   114.3     Rural    Male   56        48-59     Primary   \n",
      "127    20.3   110.4     Rural  Female   50        48-59     Primary   \n",
      "158    13.3   111.9     Rural    Male   58        48-59  Secondary+   \n",
      "396    19.3   112.8     Urban    Male   56        48-59  Secondary+   \n",
      "450    12.0   124.8     Rural    Male   52        48-59     Primary   \n",
      "456     3.2    48.2     Rural  Female    0          0-5     Primary   \n",
      "531    20.1   110.1     Rural    Male   58        48-59  Secondary+   \n",
      "577     4.8    48.2     Rural  Female    1          0-5     Primary   \n",
      "678    18.2   112.7     Urban  Female   50        48-59  Secondary+   \n",
      "733    18.7   112.1     Urban  Female   58        48-59  Secondary+   \n",
      "757    19.9   117.9     Urban  Female   58        48-59     Primary   \n",
      "795     3.5    45.0     Urban    Male    0          0-5  Secondary+   \n",
      "\n",
      "    wealth_index  \n",
      "43       Richest  \n",
      "103       Fourth  \n",
      "127       Middle  \n",
      "158       Middle  \n",
      "396      Richest  \n",
      "450       Middle  \n",
      "456      Poorest  \n",
      "531       Second  \n",
      "577      Poorest  \n",
      "678      Poorest  \n",
      "733       Fourth  \n",
      "757       Second  \n",
      "795       Fourth  \n",
      "\n",
      "Rows with out-of-range'weight':\n",
      "     Child participated in POLIO campaign August 2013  diarrhea_status  \\\n",
      "43                                                  1               No   \n",
      "127                                                 1               No   \n",
      "150                                                 2               No   \n",
      "334                                                 2              Yes   \n",
      "456                                                 2               No   \n",
      "493                                                 2               No   \n",
      "494                                                 2               No   \n",
      "531                                                 1               No   \n",
      "548                                                 2              Yes   \n",
      "627                                                 1               No   \n",
      "795                                                 2               No   \n",
      "\n",
      "     weight  height residence     Sex  age age_category   education  \\\n",
      "43     20.5   112.0     Rural    Male   53        48-59     Primary   \n",
      "127    20.3   110.4     Rural  Female   50        48-59     Primary   \n",
      "150     3.8    62.3     Rural    Male    4          0-5     Primary   \n",
      "334     3.2    71.4     Urban    Male    7         6-11     Primary   \n",
      "456     3.2    48.2     Rural  Female    0          0-5     Primary   \n",
      "493     3.1    51.0     Rural    Male    2          0-5         NaN   \n",
      "494     3.1    51.5     Rural  Female    2          0-5         NaN   \n",
      "531    20.1   110.1     Rural    Male   58        48-59  Secondary+   \n",
      "548     3.5    58.0     Rural    Male    0          0-5  Secondary+   \n",
      "627    25.0    98.5     Rural    Male   37        36-47  Secondary+   \n",
      "795     3.5    45.0     Urban    Male    0          0-5  Secondary+   \n",
      "\n",
      "    wealth_index  \n",
      "43       Richest  \n",
      "127       Middle  \n",
      "150       Second  \n",
      "334       Middle  \n",
      "456      Poorest  \n",
      "493      Poorest  \n",
      "494      Poorest  \n",
      "531       Second  \n",
      "548       Fourth  \n",
      "627      Poorest  \n",
      "795       Fourth  \n"
     ]
    }
   ],
   "source": [
    "import pandas as pd\n",
    "from scipy import stats\n",
    "csv_file='childhealthdata.csv'\n",
    "df=pd.read_csv(csv_file)\n",
    "\n",
    "height_min, height_max=50,110\n",
    "weight_min, weight_max=4,20\n",
    "\n",
    "out_of_range_height=df[(df['height']<height_min)|(df['height']>height_max)]\n",
    "out_of_range_weight=df[(df['weight']<weight_min)|(df['weight']>weight_max)]\n",
    "\n",
    "print(\"\\nRows with out-of-range'height':\")\n",
    "print(out_of_range_height)\n",
    "\n",
    "print(\"\\nRows with out-of-range'weight':\")\n",
    "print(out_of_range_weight)"
   ]
  },
  {
   "cell_type": "code",
   "execution_count": 35,
   "id": "10a95061-05b0-4668-9f8f-bd953769e874",
   "metadata": {},
   "outputs": [
    {
     "name": "stdout",
     "output_type": "stream",
     "text": [
      "0      False\n",
      "1       True\n",
      "2      False\n",
      "3      False\n",
      "4      False\n",
      "       ...  \n",
      "399    False\n",
      "400    False\n",
      "401    False\n",
      "402    False\n",
      "403    False\n",
      "Length: 404, dtype: bool\n"
     ]
    }
   ],
   "source": [
    "import pandas as pd\n",
    "from scipy import stats\n",
    "df=pd.read_csv('dirtybmi_22.csv')\n",
    "duplicates=df.duplicated()\n",
    "print(duplicates)"
   ]
  },
  {
   "cell_type": "code",
   "execution_count": 37,
   "id": "94b71867-2a2e-4afe-8309-952ccc3d3acb",
   "metadata": {},
   "outputs": [
    {
     "name": "stdout",
     "output_type": "stream",
     "text": [
      "<bound method DataFrame.drop_duplicates of         Gender   Height Weight  Index  Unnamed: 4  Unnamed: 5 female  male\n",
      "0    Fema   le  15    8     89      4         NaN         NaN    158   158\n",
      "1    Fema   le  15    8     89      4         NaN         NaN    158   158\n",
      "2       Female      178    127      4         NaN         NaN    178   178\n",
      "3       Female     none    139      5         NaN         NaN   none  none\n",
      "4       Female     none    104      5         NaN         NaN    181   181\n",
      "..         ...      ...    ...    ...         ...         ...    ...   ...\n",
      "399       Male      190   none      5         NaN         NaN    NaN   NaN\n",
      "400       Male      164    130      5         NaN         NaN    NaN   NaN\n",
      "401       Male      185    138      5         NaN         NaN    NaN   NaN\n",
      "402       Male      188    158      5         NaN         NaN    NaN   NaN\n",
      "403       Male      161    155      5         NaN         NaN    NaN   NaN\n",
      "\n",
      "[404 rows x 8 columns]>\n"
     ]
    }
   ],
   "source": [
    "df.drop_duplicates\n",
    "clean=df.drop_duplicates\n",
    "print(clean)\n"
   ]
  },
  {
   "cell_type": "code",
   "execution_count": 1,
   "id": "8b3366bf-af89-4917-bf19-b69e12a220c3",
   "metadata": {},
   "outputs": [
    {
     "data": {
      "text/html": [
       "<div>\n",
       "<style scoped>\n",
       "    .dataframe tbody tr th:only-of-type {\n",
       "        vertical-align: middle;\n",
       "    }\n",
       "\n",
       "    .dataframe tbody tr th {\n",
       "        vertical-align: top;\n",
       "    }\n",
       "\n",
       "    .dataframe thead th {\n",
       "        text-align: right;\n",
       "    }\n",
       "</style>\n",
       "<table border=\"1\" class=\"dataframe\">\n",
       "  <thead>\n",
       "    <tr style=\"text-align: right;\">\n",
       "      <th></th>\n",
       "      <th>Gender</th>\n",
       "      <th>Height</th>\n",
       "      <th>Weight</th>\n",
       "      <th>Index</th>\n",
       "      <th>Unnamed: 4</th>\n",
       "      <th>Unnamed: 5</th>\n",
       "      <th>female</th>\n",
       "      <th>male</th>\n",
       "    </tr>\n",
       "  </thead>\n",
       "  <tbody>\n",
       "    <tr>\n",
       "      <th>0</th>\n",
       "      <td>Fema   le</td>\n",
       "      <td>15    8</td>\n",
       "      <td>89</td>\n",
       "      <td>4</td>\n",
       "      <td>NaN</td>\n",
       "      <td>NaN</td>\n",
       "      <td>158</td>\n",
       "      <td>158</td>\n",
       "    </tr>\n",
       "    <tr>\n",
       "      <th>1</th>\n",
       "      <td>Fema   le</td>\n",
       "      <td>15    8</td>\n",
       "      <td>89</td>\n",
       "      <td>4</td>\n",
       "      <td>NaN</td>\n",
       "      <td>NaN</td>\n",
       "      <td>158</td>\n",
       "      <td>158</td>\n",
       "    </tr>\n",
       "    <tr>\n",
       "      <th>2</th>\n",
       "      <td>Female</td>\n",
       "      <td>178</td>\n",
       "      <td>127</td>\n",
       "      <td>4</td>\n",
       "      <td>NaN</td>\n",
       "      <td>NaN</td>\n",
       "      <td>178</td>\n",
       "      <td>178</td>\n",
       "    </tr>\n",
       "    <tr>\n",
       "      <th>3</th>\n",
       "      <td>Female</td>\n",
       "      <td>none</td>\n",
       "      <td>139</td>\n",
       "      <td>5</td>\n",
       "      <td>NaN</td>\n",
       "      <td>NaN</td>\n",
       "      <td>none</td>\n",
       "      <td>none</td>\n",
       "    </tr>\n",
       "    <tr>\n",
       "      <th>4</th>\n",
       "      <td>Female</td>\n",
       "      <td>none</td>\n",
       "      <td>104</td>\n",
       "      <td>5</td>\n",
       "      <td>NaN</td>\n",
       "      <td>NaN</td>\n",
       "      <td>181</td>\n",
       "      <td>181</td>\n",
       "    </tr>\n",
       "  </tbody>\n",
       "</table>\n",
       "</div>"
      ],
      "text/plain": [
       "      Gender   Height Weight  Index  Unnamed: 4  Unnamed: 5 female  male\n",
       "0  Fema   le  15    8     89      4         NaN         NaN    158   158\n",
       "1  Fema   le  15    8     89      4         NaN         NaN    158   158\n",
       "2     Female      178    127      4         NaN         NaN    178   178\n",
       "3     Female     none    139      5         NaN         NaN   none  none\n",
       "4     Female     none    104      5         NaN         NaN    181   181"
      ]
     },
     "execution_count": 1,
     "metadata": {},
     "output_type": "execute_result"
    }
   ],
   "source": [
    "import pandas as pd\n",
    "df=pd.read_csv('dirtybmi_22.csv')\n",
    "df.head()"
   ]
  },
  {
   "cell_type": "code",
   "execution_count": 2,
   "id": "451e80c3-4c93-4c39-9313-07542c2739ed",
   "metadata": {},
   "outputs": [
    {
     "name": "stdout",
     "output_type": "stream",
     "text": [
      "\n",
      "Trimmed DataFrame:\n",
      "        Gender   Height Weight  Index  Unnamed: 4  Unnamed: 5 female  male\n",
      "0    Fema   le  15    8     89      4         NaN         NaN    158   158\n",
      "1    Fema   le  15    8     89      4         NaN         NaN    158   158\n",
      "2       Female      178    127      4         NaN         NaN    178   178\n",
      "3       Female     none    139      5         NaN         NaN   none  none\n",
      "4       Female     none    104      5         NaN         NaN    181   181\n",
      "..         ...      ...    ...    ...         ...         ...    ...   ...\n",
      "399       Male      190   none      5         NaN         NaN    NaN   NaN\n",
      "400       Male      164    130      5         NaN         NaN    NaN   NaN\n",
      "401       Male      185    138      5         NaN         NaN    NaN   NaN\n",
      "402       Male      188    158      5         NaN         NaN    NaN   NaN\n",
      "403       Male      161    155      5         NaN         NaN    NaN   NaN\n",
      "\n",
      "[404 rows x 8 columns]\n"
     ]
    }
   ],
   "source": [
    "df['Gender']=df['Gender'].str.strip()\n",
    "df['Height']=df['Height'].str.strip()\n",
    "print('\\nTrimmed DataFrame:')\n",
    "print(df)"
   ]
  },
  {
   "cell_type": "code",
   "execution_count": 7,
   "id": "b1a3332c-9718-4105-b881-da45f578cafe",
   "metadata": {},
   "outputs": [
    {
     "data": {
      "text/html": [
       "<div>\n",
       "<style scoped>\n",
       "    .dataframe tbody tr th:only-of-type {\n",
       "        vertical-align: middle;\n",
       "    }\n",
       "\n",
       "    .dataframe tbody tr th {\n",
       "        vertical-align: top;\n",
       "    }\n",
       "\n",
       "    .dataframe thead th {\n",
       "        text-align: right;\n",
       "    }\n",
       "</style>\n",
       "<table border=\"1\" class=\"dataframe\">\n",
       "  <thead>\n",
       "    <tr style=\"text-align: right;\">\n",
       "      <th></th>\n",
       "      <th>Patient ID</th>\n",
       "      <th>Name</th>\n",
       "      <th>Gender</th>\n",
       "      <th>Bloodtype</th>\n",
       "      <th>Diagnosis Code</th>\n",
       "    </tr>\n",
       "  </thead>\n",
       "  <tbody>\n",
       "    <tr>\n",
       "      <th>0</th>\n",
       "      <td>1</td>\n",
       "      <td>Alice</td>\n",
       "      <td>Female</td>\n",
       "      <td>A+</td>\n",
       "      <td>A00</td>\n",
       "    </tr>\n",
       "    <tr>\n",
       "      <th>1</th>\n",
       "      <td>2</td>\n",
       "      <td>Bob</td>\n",
       "      <td>Male</td>\n",
       "      <td>B-</td>\n",
       "      <td>B99</td>\n",
       "    </tr>\n",
       "    <tr>\n",
       "      <th>2</th>\n",
       "      <td>3</td>\n",
       "      <td>Charlie</td>\n",
       "      <td>Other</td>\n",
       "      <td>O+</td>\n",
       "      <td>C30</td>\n",
       "    </tr>\n",
       "    <tr>\n",
       "      <th>3</th>\n",
       "      <td>4</td>\n",
       "      <td>David</td>\n",
       "      <td>Uknown</td>\n",
       "      <td>AB-</td>\n",
       "      <td>XYZ</td>\n",
       "    </tr>\n",
       "  </tbody>\n",
       "</table>\n",
       "</div>"
      ],
      "text/plain": [
       "   Patient ID     Name  Gender Bloodtype Diagnosis Code\n",
       "0           1    Alice  Female        A+            A00\n",
       "1           2      Bob    Male        B-            B99\n",
       "2           3  Charlie   Other        O+            C30\n",
       "3           4    David  Uknown       AB-            XYZ"
      ]
     },
     "execution_count": 7,
     "metadata": {},
     "output_type": "execute_result"
    }
   ],
   "source": [
    "\n",
    "import pandas as pd\n",
    "#sample health data \n",
    "data={'Patient ID':[1,2,3,4],\n",
    "      'Name':['Alice','Bob','Charlie','David'],\n",
    "      'Gender':['Female','Male','Other','Uknown'],\n",
    "      'Bloodtype':['A+','B-','O+','AB-'],\n",
    "      'Diagnosis Code':['A00','B99','C30','XYZ']}\n",
    "df=pd.DataFrame(data)\n",
    "#Define valid values for each field\n",
    "valid_genders={'Male','Female','Other'}\n",
    "valid_blood_types={'A+','A-','B+','B-','O+','O-','AB+','AB-'}\n",
    "valid_diagnosis_code={'A00','B99','C30'}\n",
    "df.head()"
   ]
  },
  {
   "cell_type": "code",
   "execution_count": 8,
   "id": "b4cd9a04-14b5-4288-b732-9cc00e0afaf2",
   "metadata": {},
   "outputs": [
    {
     "data": {
      "text/html": [
       "<div>\n",
       "<style scoped>\n",
       "    .dataframe tbody tr th:only-of-type {\n",
       "        vertical-align: middle;\n",
       "    }\n",
       "\n",
       "    .dataframe tbody tr th {\n",
       "        vertical-align: top;\n",
       "    }\n",
       "\n",
       "    .dataframe thead th {\n",
       "        text-align: right;\n",
       "    }\n",
       "</style>\n",
       "<table border=\"1\" class=\"dataframe\">\n",
       "  <thead>\n",
       "    <tr style=\"text-align: right;\">\n",
       "      <th></th>\n",
       "      <th>Patient ID</th>\n",
       "      <th>Name</th>\n",
       "      <th>Gender</th>\n",
       "      <th>Bloodtype</th>\n",
       "      <th>Diagnosis Code</th>\n",
       "    </tr>\n",
       "  </thead>\n",
       "  <tbody>\n",
       "    <tr>\n",
       "      <th>0</th>\n",
       "      <td>1</td>\n",
       "      <td>Alice</td>\n",
       "      <td>Female</td>\n",
       "      <td>A+</td>\n",
       "      <td>A00</td>\n",
       "    </tr>\n",
       "    <tr>\n",
       "      <th>1</th>\n",
       "      <td>2</td>\n",
       "      <td>Bob</td>\n",
       "      <td>Male</td>\n",
       "      <td>B-</td>\n",
       "      <td>B99</td>\n",
       "    </tr>\n",
       "    <tr>\n",
       "      <th>2</th>\n",
       "      <td>3</td>\n",
       "      <td>Charlie</td>\n",
       "      <td>Other</td>\n",
       "      <td>O+</td>\n",
       "      <td>C30</td>\n",
       "    </tr>\n",
       "    <tr>\n",
       "      <th>3</th>\n",
       "      <td>4</td>\n",
       "      <td>David</td>\n",
       "      <td>Uknown</td>\n",
       "      <td>AB-</td>\n",
       "      <td>XYZ</td>\n",
       "    </tr>\n",
       "  </tbody>\n",
       "</table>\n",
       "</div>"
      ],
      "text/plain": [
       "   Patient ID     Name  Gender Bloodtype Diagnosis Code\n",
       "0           1    Alice  Female        A+            A00\n",
       "1           2      Bob    Male        B-            B99\n",
       "2           3  Charlie   Other        O+            C30\n",
       "3           4    David  Uknown       AB-            XYZ"
      ]
     },
     "execution_count": 8,
     "metadata": {},
     "output_type": "execute_result"
    }
   ],
   "source": [
    "#Define valid values for each field\n",
    "valid_genders={'Male','Female','Other'}\n",
    "valid_blood_types={'A+','A-','B+','B-','O+','O-','AB+','AB-'}\n",
    "valid_diagnosis_code={'A00','B99','C30'}#Example ICD-10 codes\n",
    "df.head()"
   ]
  },
  {
   "cell_type": "code",
   "execution_count": 14,
   "id": "ca4612f1-d6ea-456f-830d-7b58436eaa13",
   "metadata": {},
   "outputs": [
    {
     "ename": "NameError",
     "evalue": "name 'invalid_entries' is not defined",
     "output_type": "error",
     "traceback": [
      "\u001b[1;31m---------------------------------------------------------------------------\u001b[0m",
      "\u001b[1;31mNameError\u001b[0m                                 Traceback (most recent call last)",
      "Cell \u001b[1;32mIn[14], line 17\u001b[0m\n\u001b[0;32m     14\u001b[0m         \u001b[38;5;28;01mif\u001b[39;00m \u001b[38;5;129;01mnot\u001b[39;00m check_membership(row[\u001b[38;5;124m'\u001b[39m\u001b[38;5;124mDiagnosis Code\u001b[39m\u001b[38;5;124m'\u001b[39m],valid_diagnosis_codes):\n\u001b[0;32m     15\u001b[0m             errors[\u001b[38;5;124m'\u001b[39m\u001b[38;5;124mDiagnosis Codes\u001b[39m\u001b[38;5;124m'\u001b[39m]\u001b[38;5;241m=\u001b[39mrow[\u001b[38;5;124m'\u001b[39m\u001b[38;5;124mDiagnosis Codes\u001b[39m\u001b[38;5;124m'\u001b[39m]\n\u001b[1;32m---> 17\u001b[0m df_cleaned\u001b[38;5;241m=\u001b[39mdf\u001b[38;5;241m.\u001b[39mdrop(index\u001b[38;5;241m=\u001b[39m[entry[\u001b[38;5;124m'\u001b[39m\u001b[38;5;124mindex\u001b[39m\u001b[38;5;124m'\u001b[39m]\u001b[38;5;28;01mfor\u001b[39;00m entry \u001b[38;5;129;01min\u001b[39;00m invalid_entries])\n\u001b[0;32m     18\u001b[0m \u001b[38;5;28mprint\u001b[39m(df_cleaned)\n",
      "\u001b[1;31mNameError\u001b[0m: name 'invalid_entries' is not defined"
     ]
    }
   ],
   "source": [
    "#Custom function to check membership constraints\n",
    "def check_membership(value,valid_set):\n",
    "    if value not in valid_set:\n",
    "        return false\n",
    "\n",
    "def validate_health_data(df):\n",
    "    invalid_row=[]\n",
    "    for index,row in df.interrows():\n",
    "        errors={}\n",
    "        if not check_memebership(row['Gender'],valid_genders):\n",
    "            errors['Gender']=row['Gender']\n",
    "        if not check_membership(row['Blood Type'],valid_blood_types):\n",
    "            errors['Blood Type']=row['Blood Type']\n",
    "        if not check_membership(row['Diagnosis Code'],valid_diagnosis_codes):\n",
    "            errors['Diagnosis Codes']=row['Diagnosis Codes']\n",
    "            \n",
    "df_cleaned=df.drop(index=[entry['index']for entry in invalid_entries])\n",
    "print(df_cleaned)"
   ]
  },
  {
   "cell_type": "code",
   "execution_count": 16,
   "id": "ca112aa6-e30b-45a8-ab65-3fe1726503d4",
   "metadata": {},
   "outputs": [
    {
     "ename": "SyntaxError",
     "evalue": "invalid syntax (889232416.py, line 1)",
     "output_type": "error",
     "traceback": [
      "\u001b[1;36m  Cell \u001b[1;32mIn[16], line 1\u001b[1;36m\u001b[0m\n\u001b[1;33m    for entry in invalid entries:\u001b[0m\n\u001b[1;37m                         ^\u001b[0m\n\u001b[1;31mSyntaxError\u001b[0m\u001b[1;31m:\u001b[0m invalid syntax\n"
     ]
    }
   ],
   "source": [
    "for entry in invalid entries:\n",
    "    for field in entry['errors']:\n",
    "        if field=='Gender':\n",
    "            df.at[entry['index'],field]='Other'\n",
    "        elif field=='Diagnosis Code':\n",
    "            df.at[entry['index'],field]='A00'\n",
    "print(\"\\nCleaned DataFrame:\")\n",
    "print(df_cleaned)"
   ]
  },
  {
   "cell_type": "code",
   "execution_count": 26,
   "id": "1b14521d-bb68-4c1e-b266-1d962da4880e",
   "metadata": {},
   "outputs": [
    {
     "name": "stdout",
     "output_type": "stream",
     "text": [
      "Invalid Rows:\n",
      "   EmployeeID   Name  Age  Years_of_Experience Is Valid\n",
      "1           2    Bob   25                   27    False\n",
      "5           6  Faith   17                   20    False\n"
     ]
    }
   ],
   "source": [
    "import pandas as pd\n",
    "data={'EmployeeID':[1,2,3,4,5,6],\n",
    "      'Name':['Alice','Bob','Charlie','David','Beatrice','Faith'],\n",
    "      'Age':[30,25,40,22,32,17],\n",
    "      'Years_of_Experience':[5,27,15,1,20,20]}\n",
    "df=pd.DataFrame(data)\n",
    "def validate_experience(row):\n",
    "  if row['Years_of_Experience']>row['Age']:\n",
    "      return False\n",
    "      return True\n",
    "df['Is Valid']=df.apply(validate_experience,axis=1)\n",
    "#Filter invalid rows\n",
    "invalid_rows=df[df['Is Valid']==False]\n",
    "\n",
    "print(\"Invalid Rows:\")\n",
    "print(invalid_rows)"
   ]
  },
  {
   "cell_type": "code",
   "execution_count": 16,
   "id": "d3099b80-0376-431e-8bbf-1314b31894ec",
   "metadata": {},
   "outputs": [],
   "source": [
    "import pandas as pd\n",
    "data={\n",
    "    'Start Date':['2023-01-01','2023-02-01','2023-03-01'],\n",
    "    'End Date':['2023-01-10','2023-01-15','2023-04-01']\n",
    "}\n",
    "\n",
    "df=pd.DataFrame(data)\n",
    "df['Start Date']=pd.to_datetime(df['Start Date'])\n",
    "df['End Date']=pd.to_datetime(df['End Date'])\n",
    " "
   ]
  },
  {
   "cell_type": "code",
   "execution_count": 35,
   "id": "881d97f5-3319-47ef-bd05-179c825c23a9",
   "metadata": {},
   "outputs": [
    {
     "name": "stdout",
     "output_type": "stream",
     "text": [
      "  Start Date   End Date  Valid\n",
      "0 2023-01-01 2023-01-10   True\n",
      "1 2023-02-01 2023-01-15  False\n",
      "2 2023-03-01 2023-04-01   True\n"
     ]
    }
   ],
   "source": [
    "df['Valid']=df['Start Date']<df['End Date']\n",
    "print(df)"
   ]
  },
  {
   "cell_type": "code",
   "execution_count": null,
   "id": "b8cd0584-df03-4ca4-8782-d7611bcf74fe",
   "metadata": {},
   "outputs": [],
   "source": []
  },
  {
   "cell_type": "code",
   "execution_count": 11,
   "id": "7d4b71e6-2e67-40e4-a948-dede46fd9d5b",
   "metadata": {},
   "outputs": [
    {
     "name": "stdout",
     "output_type": "stream",
     "text": [
      "Invalid Rows\n"
     ]
    },
    {
     "ename": "NameError",
     "evalue": "name 'Invalid_rows' is not defined",
     "output_type": "error",
     "traceback": [
      "\u001b[1;31m---------------------------------------------------------------------------\u001b[0m",
      "\u001b[1;31mNameError\u001b[0m                                 Traceback (most recent call last)",
      "Cell \u001b[1;32mIn[11], line 10\u001b[0m\n\u001b[0;32m      8\u001b[0m Invalid_row\u001b[38;5;241m=\u001b[39mdf[df[\u001b[38;5;124m'\u001b[39m\u001b[38;5;124mIs Valid\u001b[39m\u001b[38;5;124m'\u001b[39m]\u001b[38;5;241m==\u001b[39m\u001b[38;5;28;01mFalse\u001b[39;00m]\n\u001b[0;32m      9\u001b[0m \u001b[38;5;28mprint\u001b[39m(\u001b[38;5;124m'\u001b[39m\u001b[38;5;124mInvalid Rows\u001b[39m\u001b[38;5;124m'\u001b[39m)\n\u001b[1;32m---> 10\u001b[0m \u001b[38;5;28mprint\u001b[39m(Invalid_rows)\n",
      "\u001b[1;31mNameError\u001b[0m: name 'Invalid_rows' is not defined"
     ]
    }
   ],
   "source": [
    "import pandas as pd\n",
    "df=pd.read_csv('dirtybmi_22.csv')\n",
    "def validate_Height(row):\n",
    "   if row['Height']>row['Weight']:\n",
    "       return False\n",
    "       return True\n",
    "df['Is Valid']=df.apply(validate_Height,axis=1)\n",
    "Invalid_row=df[df['Is Valid']==False]\n",
    "print('Invalid Rows')\n",
    "print(Invalid_rows)"
   ]
  },
  {
   "cell_type": "code",
   "execution_count": 37,
   "id": "8d2ff3f9-770d-49bf-9360-fc08c64de60a",
   "metadata": {},
   "outputs": [],
   "source": [
    "import pandas as pd\n",
    "import numpy as np\n",
    "#Sample DataFrame with missing values\n",
    "data={\n",
    "    'A':[1,2,np.nan,4,5],\n",
    "    'B':[5,np.nan,np.nan,8,10],\n",
    "    'C':[np.nan,2,3,4,np.nan],\n",
    "    'D':['dog','cat',np.nan,'mouse','rabbit']\n",
    "}"
   ]
  },
  {
   "cell_type": "code",
   "execution_count": 38,
   "id": "c652c6de-5d41-4b97-824b-1d020d30129b",
   "metadata": {},
   "outputs": [
    {
     "name": "stdout",
     "output_type": "stream",
     "text": [
      "original DataFrame.\n",
      "     A     B    C       D\n",
      "0  1.0   5.0  NaN     dog\n",
      "1  2.0   NaN  2.0     cat\n",
      "2  NaN   NaN  3.0     NaN\n",
      "3  4.0   8.0  4.0   mouse\n",
      "4  5.0  10.0  NaN  rabbit\n"
     ]
    }
   ],
   "source": [
    "df=pd.DataFrame(data)\n",
    "print(\"original DataFrame.\")\n",
    "print(df)"
   ]
  },
  {
   "cell_type": "code",
   "execution_count": 43,
   "id": "9810ad46-e8b8-47fa-8167-eed8182ecb4f",
   "metadata": {},
   "outputs": [
    {
     "name": "stdout",
     "output_type": "stream",
     "text": [
      "\n",
      "Detect missing values.\n",
      "       A      B      C      D\n",
      "0  False  False   True  False\n",
      "1  False   True  False  False\n",
      "2   True   True  False   True\n",
      "3  False  False  False  False\n",
      "4  False  False   True  False\n",
      "\n",
      "DataFrame after dropping rows with any missing values:\n",
      "     A    B    C      D\n",
      "3  4.0  8.0  4.0  mouse\n"
     ]
    }
   ],
   "source": [
    "print(\"\\nDetect missing values.\")\n",
    "print(df.isnull())\n",
    "df_dropna=df.dropna()\n",
    "print(\"\\nDataFrame after dropping rows with any missing values:\")\n",
    "print(df_dropna)"
   ]
  },
  {
   "cell_type": "code",
   "execution_count": 42,
   "id": "1449096e-89f7-41ef-a966-447d27f7c09a",
   "metadata": {},
   "outputs": [
    {
     "name": "stdout",
     "output_type": "stream",
     "text": [
      "\n",
      "DataFrame after dropping rows with missing values in columns'A'or'B'.\n",
      "     A     B    C       D\n",
      "0  1.0   5.0  NaN     dog\n",
      "3  4.0   8.0  4.0   mouse\n",
      "4  5.0  10.0  NaN  rabbit\n"
     ]
    }
   ],
   "source": [
    "df_dropna_subset=df.dropna(subset=['A','B'])\n",
    "print(\"\\nDataFrame after dropping rows with missing values in columns'A'or'B'.\")\n",
    "print(df_dropna_subset)"
   ]
  },
  {
   "cell_type": "code",
   "execution_count": 48,
   "id": "f68c1813-37bc-4b89-9067-f552cc46d6a8",
   "metadata": {},
   "outputs": [
    {
     "name": "stdout",
     "output_type": "stream",
     "text": [
      "\n",
      "DataFrame after filling missing values with O:\n",
      "     A     B    C       D\n",
      "0  1.0   5.0  0.0     dog\n",
      "1  2.0   0.0  2.0     cat\n",
      "2  0.0   0.0  3.0       0\n",
      "3  4.0   8.0  4.0   mouse\n",
      "4  5.0  10.0  0.0  rabbit\n"
     ]
    }
   ],
   "source": [
    "df_fillna=df.fillna(0)\n",
    "print(\"\\nDataFrame after filling missing values with O:\")\n",
    "print(df_fillna)"
   ]
  },
  {
   "cell_type": "code",
   "execution_count": 50,
   "id": "899dcd0c-a33f-48e9-95a0-3ff465784c37",
   "metadata": {},
   "outputs": [
    {
     "name": "stdout",
     "output_type": "stream",
     "text": [
      "\n",
      "DataFrame after filling missing values with column mean:\n",
      "     A          B    C       D\n",
      "0  1.0   5.000000  3.0     dog\n",
      "1  2.0   7.666667  2.0     cat\n",
      "2  3.0   7.666667  3.0     NaN\n",
      "3  4.0   8.000000  4.0   mouse\n",
      "4  5.0  10.000000  3.0  rabbit\n"
     ]
    }
   ],
   "source": [
    "df_fillna_mean=df.fillna(df.mean(numeric_only=True))\n",
    "print(\"\\nDataFrame after filling missing values with column mean:\")\n",
    "print(df_fillna_mean)"
   ]
  },
  {
   "cell_type": "code",
   "execution_count": 52,
   "id": "759f9720-eeb8-457e-adbb-55542fb02983",
   "metadata": {},
   "outputs": [
    {
     "name": "stdout",
     "output_type": "stream",
     "text": [
      "\n",
      "DataFrame after forward fill:\n",
      "     A     B    C       D\n",
      "0  1.0   5.0  NaN     dog\n",
      "1  2.0   5.0  2.0     cat\n",
      "2  2.0   5.0  3.0     cat\n",
      "3  4.0   8.0  4.0   mouse\n",
      "4  5.0  10.0  4.0  rabbit\n"
     ]
    }
   ],
   "source": [
    "df_ffill=df.ffill()\n",
    "print(\"\\nDataFrame after forward fill:\")\n",
    "print(df_ffill)"
   ]
  },
  {
   "cell_type": "code",
   "execution_count": 53,
   "id": "33421063-dfd3-4bd8-b547-fe9a0c36cda3",
   "metadata": {},
   "outputs": [
    {
     "name": "stdout",
     "output_type": "stream",
     "text": [
      "\n",
      "DataFrame after interpolation:\n",
      "     A     B    C       D\n",
      "0  1.0   5.0  NaN     dog\n",
      "1  2.0   6.0  2.0     cat\n",
      "2  3.0   7.0  3.0     NaN\n",
      "3  4.0   8.0  4.0   mouse\n",
      "4  5.0  10.0  4.0  rabbit\n"
     ]
    },
    {
     "name": "stderr",
     "output_type": "stream",
     "text": [
      "C:\\Users\\ADMIN\\AppData\\Local\\Temp\\ipykernel_8908\\4014972324.py:1: FutureWarning: DataFrame.interpolate with object dtype is deprecated and will raise in a future version. Call obj.infer_objects(copy=False) before interpolating instead.\n",
      "  df_interpolate=df.interpolate()\n"
     ]
    }
   ],
   "source": [
    "df_interpolate=df.interpolate()\n",
    "print(\"\\nDataFrame after interpolation:\")\n",
    "print(df_interpolate)"
   ]
  },
  {
   "cell_type": "code",
   "execution_count": 3,
   "id": "462a1973-7774-4ec2-b635-131704d0b5ba",
   "metadata": {},
   "outputs": [
    {
     "data": {
      "text/html": [
       "<div>\n",
       "<style scoped>\n",
       "    .dataframe tbody tr th:only-of-type {\n",
       "        vertical-align: middle;\n",
       "    }\n",
       "\n",
       "    .dataframe tbody tr th {\n",
       "        vertical-align: top;\n",
       "    }\n",
       "\n",
       "    .dataframe thead th {\n",
       "        text-align: right;\n",
       "    }\n",
       "</style>\n",
       "<table border=\"1\" class=\"dataframe\">\n",
       "  <thead>\n",
       "    <tr style=\"text-align: right;\">\n",
       "      <th></th>\n",
       "      <th>ID</th>\n",
       "      <th>SurveyYr</th>\n",
       "      <th>Gender</th>\n",
       "      <th>Age</th>\n",
       "      <th>AgeDecade</th>\n",
       "      <th>AgeMonths</th>\n",
       "      <th>Education</th>\n",
       "      <th>MaritalStatus</th>\n",
       "      <th>HHIncome</th>\n",
       "      <th>HHIncomeMid</th>\n",
       "      <th>...</th>\n",
       "      <th>PhysActiveDays</th>\n",
       "      <th>TVHrsDay</th>\n",
       "      <th>SleepHrsNight</th>\n",
       "      <th>SleepTrouble</th>\n",
       "      <th>CompHrsDay</th>\n",
       "      <th>TVHrsDayChild</th>\n",
       "      <th>CompHrsDayChild</th>\n",
       "      <th>SmokeNow</th>\n",
       "      <th>Smoke100</th>\n",
       "      <th>Smoke100n</th>\n",
       "    </tr>\n",
       "  </thead>\n",
       "  <tbody>\n",
       "    <tr>\n",
       "      <th>0</th>\n",
       "      <td>51624</td>\n",
       "      <td>2009_10</td>\n",
       "      <td>male</td>\n",
       "      <td>34</td>\n",
       "      <td>30-39</td>\n",
       "      <td>409.0</td>\n",
       "      <td>High School</td>\n",
       "      <td>Married</td>\n",
       "      <td>25000-34999</td>\n",
       "      <td>30000.0</td>\n",
       "      <td>...</td>\n",
       "      <td>NaN</td>\n",
       "      <td>NaN</td>\n",
       "      <td>4.0</td>\n",
       "      <td>Yes</td>\n",
       "      <td>NaN</td>\n",
       "      <td>NaN</td>\n",
       "      <td>NaN</td>\n",
       "      <td>No</td>\n",
       "      <td>Yes</td>\n",
       "      <td>Smoker</td>\n",
       "    </tr>\n",
       "    <tr>\n",
       "      <th>1</th>\n",
       "      <td>51625</td>\n",
       "      <td>2009_10</td>\n",
       "      <td>male</td>\n",
       "      <td>4</td>\n",
       "      <td>0-9</td>\n",
       "      <td>49.0</td>\n",
       "      <td>NaN</td>\n",
       "      <td>NaN</td>\n",
       "      <td>20000-24999</td>\n",
       "      <td>22500.0</td>\n",
       "      <td>...</td>\n",
       "      <td>NaN</td>\n",
       "      <td>NaN</td>\n",
       "      <td>NaN</td>\n",
       "      <td>NaN</td>\n",
       "      <td>NaN</td>\n",
       "      <td>4.0</td>\n",
       "      <td>1.0</td>\n",
       "      <td>NaN</td>\n",
       "      <td>NaN</td>\n",
       "      <td>NaN</td>\n",
       "    </tr>\n",
       "    <tr>\n",
       "      <th>2</th>\n",
       "      <td>51630</td>\n",
       "      <td>2009_10</td>\n",
       "      <td>female</td>\n",
       "      <td>49</td>\n",
       "      <td>40-49</td>\n",
       "      <td>596.0</td>\n",
       "      <td>Some College</td>\n",
       "      <td>LivePartner</td>\n",
       "      <td>35000-44999</td>\n",
       "      <td>40000.0</td>\n",
       "      <td>...</td>\n",
       "      <td>NaN</td>\n",
       "      <td>NaN</td>\n",
       "      <td>8.0</td>\n",
       "      <td>Yes</td>\n",
       "      <td>NaN</td>\n",
       "      <td>NaN</td>\n",
       "      <td>NaN</td>\n",
       "      <td>Yes</td>\n",
       "      <td>Yes</td>\n",
       "      <td>Smoker</td>\n",
       "    </tr>\n",
       "    <tr>\n",
       "      <th>3</th>\n",
       "      <td>51638</td>\n",
       "      <td>2009_10</td>\n",
       "      <td>male</td>\n",
       "      <td>9</td>\n",
       "      <td>0-9</td>\n",
       "      <td>115.0</td>\n",
       "      <td>NaN</td>\n",
       "      <td>NaN</td>\n",
       "      <td>75000-99999</td>\n",
       "      <td>87500.0</td>\n",
       "      <td>...</td>\n",
       "      <td>NaN</td>\n",
       "      <td>NaN</td>\n",
       "      <td>NaN</td>\n",
       "      <td>NaN</td>\n",
       "      <td>NaN</td>\n",
       "      <td>5.0</td>\n",
       "      <td>0.0</td>\n",
       "      <td>NaN</td>\n",
       "      <td>NaN</td>\n",
       "      <td>NaN</td>\n",
       "    </tr>\n",
       "    <tr>\n",
       "      <th>4</th>\n",
       "      <td>51646</td>\n",
       "      <td>2009_10</td>\n",
       "      <td>male</td>\n",
       "      <td>8</td>\n",
       "      <td>0-9</td>\n",
       "      <td>101.0</td>\n",
       "      <td>NaN</td>\n",
       "      <td>NaN</td>\n",
       "      <td>55000-64999</td>\n",
       "      <td>60000.0</td>\n",
       "      <td>...</td>\n",
       "      <td>NaN</td>\n",
       "      <td>NaN</td>\n",
       "      <td>NaN</td>\n",
       "      <td>NaN</td>\n",
       "      <td>NaN</td>\n",
       "      <td>1.0</td>\n",
       "      <td>6.0</td>\n",
       "      <td>NaN</td>\n",
       "      <td>NaN</td>\n",
       "      <td>NaN</td>\n",
       "    </tr>\n",
       "  </tbody>\n",
       "</table>\n",
       "<p>5 rows × 37 columns</p>\n",
       "</div>"
      ],
      "text/plain": [
       "      ID SurveyYr  Gender  Age AgeDecade  AgeMonths     Education  \\\n",
       "0  51624  2009_10    male   34     30-39      409.0   High School   \n",
       "1  51625  2009_10    male    4       0-9       49.0           NaN   \n",
       "2  51630  2009_10  female   49     40-49      596.0  Some College   \n",
       "3  51638  2009_10    male    9       0-9      115.0           NaN   \n",
       "4  51646  2009_10    male    8       0-9      101.0           NaN   \n",
       "\n",
       "  MaritalStatus     HHIncome  HHIncomeMid  ...  PhysActiveDays  TVHrsDay  \\\n",
       "0       Married  25000-34999      30000.0  ...             NaN       NaN   \n",
       "1           NaN  20000-24999      22500.0  ...             NaN       NaN   \n",
       "2   LivePartner  35000-44999      40000.0  ...             NaN       NaN   \n",
       "3           NaN  75000-99999      87500.0  ...             NaN       NaN   \n",
       "4           NaN  55000-64999      60000.0  ...             NaN       NaN   \n",
       "\n",
       "  SleepHrsNight SleepTrouble  CompHrsDay  TVHrsDayChild  CompHrsDayChild  \\\n",
       "0           4.0          Yes         NaN            NaN              NaN   \n",
       "1           NaN          NaN         NaN            4.0              1.0   \n",
       "2           8.0          Yes         NaN            NaN              NaN   \n",
       "3           NaN          NaN         NaN            5.0              0.0   \n",
       "4           NaN          NaN         NaN            1.0              6.0   \n",
       "\n",
       "  SmokeNow  Smoke100  Smoke100n  \n",
       "0       No       Yes     Smoker  \n",
       "1      NaN       NaN        NaN  \n",
       "2      Yes       Yes     Smoker  \n",
       "3      NaN       NaN        NaN  \n",
       "4      NaN       NaN        NaN  \n",
       "\n",
       "[5 rows x 37 columns]"
      ]
     },
     "execution_count": 3,
     "metadata": {},
     "output_type": "execute_result"
    }
   ],
   "source": [
    "import pandas as pd\n",
    "import numpy as np\n",
    "import matplotlib.pyplot as plt\n",
    "import seaborn as sns\n",
    "from statsmodels.graphics.mosaicplot import mosaic\n",
    "df=pd.read_csv('NHANES.csv')\n",
    "df.head()\n"
   ]
  },
  {
   "cell_type": "code",
   "execution_count": 6,
   "id": "eb6d0d52-a714-4af8-9749-adbde6225c24",
   "metadata": {},
   "outputs": [
    {
     "ename": "NameError",
     "evalue": "name 'df' is not defined",
     "output_type": "error",
     "traceback": [
      "\u001b[1;31m---------------------------------------------------------------------------\u001b[0m",
      "\u001b[1;31mNameError\u001b[0m                                 Traceback (most recent call last)",
      "Cell \u001b[1;32mIn[6], line 1\u001b[0m\n\u001b[1;32m----> 1\u001b[0m NHANES\u001b[38;5;241m=\u001b[39mdf[\u001b[38;5;124m'\u001b[39m\u001b[38;5;124mEducation\u001b[39m\u001b[38;5;124m'\u001b[39m]\u001b[38;5;241m.\u001b[39mvalue_counts\n\u001b[0;32m      2\u001b[0m \u001b[38;5;28mprint\u001b[39m(NHANES)\n",
      "\u001b[1;31mNameError\u001b[0m: name 'df' is not defined"
     ]
    }
   ],
   "source": [
    "NHANES=df['Education'].value_counts\n",
    "print(NHANES)"
   ]
  },
  {
   "cell_type": "code",
   "execution_count": 1,
   "id": "09eec500-ca5e-49d7-8ce3-52f9fd4c4d05",
   "metadata": {},
   "outputs": [
    {
     "data": {
      "text/html": [
       "<div>\n",
       "<style scoped>\n",
       "    .dataframe tbody tr th:only-of-type {\n",
       "        vertical-align: middle;\n",
       "    }\n",
       "\n",
       "    .dataframe tbody tr th {\n",
       "        vertical-align: top;\n",
       "    }\n",
       "\n",
       "    .dataframe thead th {\n",
       "        text-align: right;\n",
       "    }\n",
       "</style>\n",
       "<table border=\"1\" class=\"dataframe\">\n",
       "  <thead>\n",
       "    <tr style=\"text-align: right;\">\n",
       "      <th></th>\n",
       "      <th>ID</th>\n",
       "      <th>SurveyYr</th>\n",
       "      <th>Gender</th>\n",
       "      <th>Age</th>\n",
       "      <th>AgeDecade</th>\n",
       "      <th>AgeMonths</th>\n",
       "      <th>Education</th>\n",
       "      <th>MaritalStatus</th>\n",
       "      <th>HHIncome</th>\n",
       "      <th>HHIncomeMid</th>\n",
       "      <th>...</th>\n",
       "      <th>PhysActiveDays</th>\n",
       "      <th>TVHrsDay</th>\n",
       "      <th>SleepHrsNight</th>\n",
       "      <th>SleepTrouble</th>\n",
       "      <th>CompHrsDay</th>\n",
       "      <th>TVHrsDayChild</th>\n",
       "      <th>CompHrsDayChild</th>\n",
       "      <th>SmokeNow</th>\n",
       "      <th>Smoke100</th>\n",
       "      <th>Smoke100n</th>\n",
       "    </tr>\n",
       "  </thead>\n",
       "  <tbody>\n",
       "    <tr>\n",
       "      <th>0</th>\n",
       "      <td>51624</td>\n",
       "      <td>2009_10</td>\n",
       "      <td>male</td>\n",
       "      <td>34</td>\n",
       "      <td>30-39</td>\n",
       "      <td>409.0</td>\n",
       "      <td>High School</td>\n",
       "      <td>Married</td>\n",
       "      <td>25000-34999</td>\n",
       "      <td>30000.0</td>\n",
       "      <td>...</td>\n",
       "      <td>NaN</td>\n",
       "      <td>NaN</td>\n",
       "      <td>4.0</td>\n",
       "      <td>Yes</td>\n",
       "      <td>NaN</td>\n",
       "      <td>NaN</td>\n",
       "      <td>NaN</td>\n",
       "      <td>No</td>\n",
       "      <td>Yes</td>\n",
       "      <td>Smoker</td>\n",
       "    </tr>\n",
       "    <tr>\n",
       "      <th>1</th>\n",
       "      <td>51625</td>\n",
       "      <td>2009_10</td>\n",
       "      <td>male</td>\n",
       "      <td>4</td>\n",
       "      <td>0-9</td>\n",
       "      <td>49.0</td>\n",
       "      <td>NaN</td>\n",
       "      <td>NaN</td>\n",
       "      <td>20000-24999</td>\n",
       "      <td>22500.0</td>\n",
       "      <td>...</td>\n",
       "      <td>NaN</td>\n",
       "      <td>NaN</td>\n",
       "      <td>NaN</td>\n",
       "      <td>NaN</td>\n",
       "      <td>NaN</td>\n",
       "      <td>4.0</td>\n",
       "      <td>1.0</td>\n",
       "      <td>NaN</td>\n",
       "      <td>NaN</td>\n",
       "      <td>NaN</td>\n",
       "    </tr>\n",
       "    <tr>\n",
       "      <th>2</th>\n",
       "      <td>51630</td>\n",
       "      <td>2009_10</td>\n",
       "      <td>female</td>\n",
       "      <td>49</td>\n",
       "      <td>40-49</td>\n",
       "      <td>596.0</td>\n",
       "      <td>Some College</td>\n",
       "      <td>LivePartner</td>\n",
       "      <td>35000-44999</td>\n",
       "      <td>40000.0</td>\n",
       "      <td>...</td>\n",
       "      <td>NaN</td>\n",
       "      <td>NaN</td>\n",
       "      <td>8.0</td>\n",
       "      <td>Yes</td>\n",
       "      <td>NaN</td>\n",
       "      <td>NaN</td>\n",
       "      <td>NaN</td>\n",
       "      <td>Yes</td>\n",
       "      <td>Yes</td>\n",
       "      <td>Smoker</td>\n",
       "    </tr>\n",
       "    <tr>\n",
       "      <th>3</th>\n",
       "      <td>51638</td>\n",
       "      <td>2009_10</td>\n",
       "      <td>male</td>\n",
       "      <td>9</td>\n",
       "      <td>0-9</td>\n",
       "      <td>115.0</td>\n",
       "      <td>NaN</td>\n",
       "      <td>NaN</td>\n",
       "      <td>75000-99999</td>\n",
       "      <td>87500.0</td>\n",
       "      <td>...</td>\n",
       "      <td>NaN</td>\n",
       "      <td>NaN</td>\n",
       "      <td>NaN</td>\n",
       "      <td>NaN</td>\n",
       "      <td>NaN</td>\n",
       "      <td>5.0</td>\n",
       "      <td>0.0</td>\n",
       "      <td>NaN</td>\n",
       "      <td>NaN</td>\n",
       "      <td>NaN</td>\n",
       "    </tr>\n",
       "    <tr>\n",
       "      <th>4</th>\n",
       "      <td>51646</td>\n",
       "      <td>2009_10</td>\n",
       "      <td>male</td>\n",
       "      <td>8</td>\n",
       "      <td>0-9</td>\n",
       "      <td>101.0</td>\n",
       "      <td>NaN</td>\n",
       "      <td>NaN</td>\n",
       "      <td>55000-64999</td>\n",
       "      <td>60000.0</td>\n",
       "      <td>...</td>\n",
       "      <td>NaN</td>\n",
       "      <td>NaN</td>\n",
       "      <td>NaN</td>\n",
       "      <td>NaN</td>\n",
       "      <td>NaN</td>\n",
       "      <td>1.0</td>\n",
       "      <td>6.0</td>\n",
       "      <td>NaN</td>\n",
       "      <td>NaN</td>\n",
       "      <td>NaN</td>\n",
       "    </tr>\n",
       "  </tbody>\n",
       "</table>\n",
       "<p>5 rows × 37 columns</p>\n",
       "</div>"
      ],
      "text/plain": [
       "      ID SurveyYr  Gender  Age AgeDecade  AgeMonths     Education  \\\n",
       "0  51624  2009_10    male   34     30-39      409.0   High School   \n",
       "1  51625  2009_10    male    4       0-9       49.0           NaN   \n",
       "2  51630  2009_10  female   49     40-49      596.0  Some College   \n",
       "3  51638  2009_10    male    9       0-9      115.0           NaN   \n",
       "4  51646  2009_10    male    8       0-9      101.0           NaN   \n",
       "\n",
       "  MaritalStatus     HHIncome  HHIncomeMid  ...  PhysActiveDays  TVHrsDay  \\\n",
       "0       Married  25000-34999      30000.0  ...             NaN       NaN   \n",
       "1           NaN  20000-24999      22500.0  ...             NaN       NaN   \n",
       "2   LivePartner  35000-44999      40000.0  ...             NaN       NaN   \n",
       "3           NaN  75000-99999      87500.0  ...             NaN       NaN   \n",
       "4           NaN  55000-64999      60000.0  ...             NaN       NaN   \n",
       "\n",
       "  SleepHrsNight SleepTrouble  CompHrsDay  TVHrsDayChild  CompHrsDayChild  \\\n",
       "0           4.0          Yes         NaN            NaN              NaN   \n",
       "1           NaN          NaN         NaN            4.0              1.0   \n",
       "2           8.0          Yes         NaN            NaN              NaN   \n",
       "3           NaN          NaN         NaN            5.0              0.0   \n",
       "4           NaN          NaN         NaN            1.0              6.0   \n",
       "\n",
       "  SmokeNow  Smoke100  Smoke100n  \n",
       "0       No       Yes     Smoker  \n",
       "1      NaN       NaN        NaN  \n",
       "2      Yes       Yes     Smoker  \n",
       "3      NaN       NaN        NaN  \n",
       "4      NaN       NaN        NaN  \n",
       "\n",
       "[5 rows x 37 columns]"
      ]
     },
     "execution_count": 1,
     "metadata": {},
     "output_type": "execute_result"
    }
   ],
   "source": [
    "import pandas as pd\n",
    "import numpy as np\n",
    "import matplotlib.pyplot as plt\n",
    "import seaborn as sns\n",
    "from statsmodels.graphics.mosaicplot import mosaic\n",
    "df=pd.read_csv('NHANES.csv')\n",
    "df.head()\n"
   ]
  },
  {
   "cell_type": "code",
   "execution_count": 8,
   "id": "c96a13bd-1916-435a-a875-db33b8adec8e",
   "metadata": {},
   "outputs": [
    {
     "name": "stdout",
     "output_type": "stream",
     "text": [
      "<bound method IndexOpsMixin.value_counts of 0          High School\n",
      "1                  NaN\n",
      "2         Some College\n",
      "3                  NaN\n",
      "4                  NaN\n",
      "             ...      \n",
      "6774      College Grad\n",
      "6775    9 - 11th Grade\n",
      "6776               NaN\n",
      "6777      College Grad\n",
      "6778      College Grad\n",
      "Name: Education, Length: 6779, dtype: object>\n"
     ]
    }
   ],
   "source": [
    "NHANES=df['Education'].value_counts\n",
    "print(NHANES)"
   ]
  },
  {
   "cell_type": "code",
   "execution_count": 9,
   "id": "76f34444-1a1d-4da8-a9c1-4b9b0b235562",
   "metadata": {},
   "outputs": [
    {
     "name": "stdout",
     "output_type": "stream",
     "text": [
      "col_0           Frequency\n",
      "Education                \n",
      "8th Grade             359\n",
      "9 - 11th Grade        624\n",
      "College Grad         1246\n",
      "High School           993\n",
      "Some College         1423\n"
     ]
    }
   ],
   "source": [
    "freq_table=pd.crosstab(df['Education'],'Frequency')\n",
    "print(freq_table)"
   ]
  },
  {
   "cell_type": "code",
   "execution_count": 9,
   "id": "daa616c1-66a7-4b91-b57d-b8b9e696f253",
   "metadata": {},
   "outputs": [
    {
     "name": "stdout",
     "output_type": "stream",
     "text": [
      "col_0          Frequency\n",
      "MaritalStatus           \n",
      "Divorced             443\n",
      "LivePartner          374\n",
      "Married             2463\n",
      "NeverMarried         899\n",
      "Separated            135\n",
      "Widowed              336\n"
     ]
    }
   ],
   "source": [
    "import pandas as pd\n",
    "freq_table=pd.crosstab(df['MaritalStatus']\n",
    "                       ,'Frequency')\n",
    "print(freq_table)"
   ]
  },
  {
   "cell_type": "code",
   "execution_count": 9,
   "id": "9b284ee1-46f9-4576-b137-1b69c6950b86",
   "metadata": {},
   "outputs": [
    {
     "name": "stdout",
     "output_type": "stream",
     "text": [
      "col_0   Frequency\n",
      "Gender           \n",
      "female       3420\n",
      "male         3359\n"
     ]
    }
   ],
   "source": [
    "freq_table=pd.crosstab(df['Gender'],'Frequency')\n",
    "print(freq_table)"
   ]
  },
  {
   "cell_type": "code",
   "execution_count": 2,
   "id": "0581d2f8-391b-4efa-8d58-1bd444243d4b",
   "metadata": {},
   "outputs": [
    {
     "name": "stdout",
     "output_type": "stream",
     "text": [
      "HHIncome        0-4999  10000-14999  15000-19999  20000-24999  25000-34999  \\\n",
      "Education                                                                    \n",
      "8th Grade           15           35           46           45           55   \n",
      "9 - 11th Grade      26           64           57           61           77   \n",
      "College Grad        13           14           31           25           66   \n",
      "High School         21           95           74           80          119   \n",
      "Some College        23           90           70           86          149   \n",
      "\n",
      "HHIncome        35000-44999  45000-54999  5000-9999  55000-64999  65000-74999  \\\n",
      "Education                                                                       \n",
      "8th Grade                32           17         23           12            8   \n",
      "9 - 11th Grade           56           46         34           32           25   \n",
      "College Grad             85           80          8           75           81   \n",
      "High School             114           86         35           62           46   \n",
      "Some College            136          128         33           92           85   \n",
      "\n",
      "HHIncome        75000-99999  more 99999  \n",
      "Education                                \n",
      "8th Grade                 8           8  \n",
      "9 - 11th Grade           37          32  \n",
      "College Grad            196         497  \n",
      "High School              73          99  \n",
      "Some College            160         252  \n"
     ]
    }
   ],
   "source": [
    "import pandas as pd \n",
    "import numpy as np\n",
    "df=pd.read_csv('NHANES.csv')\n",
    "freq_table=pd.crosstab(df['Education'],\n",
    "df['HHIncome'])\n",
    "print(freq_table)"
   ]
  },
  {
   "cell_type": "code",
   "execution_count": 11,
   "id": "a493f55e-6b16-41f2-8cf8-e7176f0f4a44",
   "metadata": {},
   "outputs": [
    {
     "name": "stdout",
     "output_type": "stream",
     "text": [
      "PhysActive       No   Yes\n",
      "MaritalStatus            \n",
      "Divorced        225   218\n",
      "LivePartner     194   180\n",
      "Married        1204  1259\n",
      "NeverMarried    356   543\n",
      "Separated        75    60\n",
      "Widowed         236   100\n"
     ]
    }
   ],
   "source": [
    "\n",
    "freq_table=pd.crosstab(df['MaritalStatus'],\n",
    "                     df['PhysActive'])\n",
    "\n",
    "print(freq_table)"
   ]
  },
  {
   "cell_type": "code",
   "execution_count": 1,
   "id": "6b70713c-4bad-4a5f-93f2-c3ec7500195c",
   "metadata": {},
   "outputs": [
    {
     "data": {
      "text/plain": [
       "([<matplotlib.patches.Wedge at 0x21e9f24cf90>,\n",
       "  <matplotlib.patches.Wedge at 0x21e9f279cd0>,\n",
       "  <matplotlib.patches.Wedge at 0x21e9f27bc10>,\n",
       "  <matplotlib.patches.Wedge at 0x21e9f27b2d0>],\n",
       " [Text(1.0554422683381766, 0.30990582150899426, 'Cholera'),\n",
       "  Text(-0.4569565739181998, 1.0005951676641962, 'Malaria'),\n",
       "  Text(-0.456956386553231, -1.0005952532309026, 'TB'),\n",
       "  Text(0.9253789873511787, -0.5947047416734687, 'HIV')],\n",
       " [Text(0.5756957827299144, 0.16903953900490593, '9.1%'),\n",
       "  Text(-0.24924904031901807, 0.5457791823622888, '45.5%'),\n",
       "  Text(-0.24924893811994417, -0.5457792290350377, '27.3%'),\n",
       "  Text(0.5047521749188247, -0.3243844045491647, '18.2%')])"
      ]
     },
     "execution_count": 1,
     "metadata": {},
     "output_type": "execute_result"
    },
    {
     "data": {
      "image/png": "[encoded data removed]",
      "text/plain": [
       "<Figure size 640x480 with 1 Axes>"
      ]
     },
     "metadata": {},
     "output_type": "display_data"
    }
   ],
   "source": [
    "import matplotlib.pyplot as plt\n",
    "x=[10,50,30,20]\n",
    "diseases=['Cholera','Malaria','TB','HIV']\n",
    "plt.pie(x,labels=diseases,autopct='%.1f%%')"
   ]
  },
  {
   "cell_type": "code",
   "execution_count": 4,
   "id": "ec2633cf-86b0-4b6d-b21c-47a60cd3ee56",
   "metadata": {},
   "outputs": [
    {
     "data": {
      "image/png": "[encoded data removed]",
      "text/plain": [
       "<Figure size 1000x500 with 1 Axes>"
      ]
     },
     "metadata": {},
     "output_type": "display_data"
    }
   ],
   "source": [
    "import numpy as np\n",
    "import matplotlib.pyplot as plt\n",
    "data={'C':20,'C++':15,'Java':30,'Python':35}\n",
    "courses=list(data.keys())\n",
    "values=list(data.values())\n",
    "fig=plt.figure(figsize=(10,5))\n",
    "plt.bar(courses,values,color='purple',width=0.4)\n",
    "plt.xlabel(\"Courses offered\")\n",
    "plt.ylabel(\"No.of students enrolled\")\n",
    "plt.title(\"Students enrolled in different courses\")\n",
    "plt.show()\n"
   ]
  },
  {
   "cell_type": "code",
   "execution_count": 17,
   "id": "8cbf9640-f8bd-4f3f-8374-35d8a9fd8628",
   "metadata": {},
   "outputs": [
    {
     "data": {
      "image/png": "[encoded data removed]",
      "text/plain": [
       "<Figure size 640x480 with 1 Axes>"
      ]
     },
     "metadata": {},
     "output_type": "display_data"
    }
   ],
   "source": [
    "plt.barh(courses,values,color='green')\n",
    "plt.show()\n"
   ]
  },
  {
   "cell_type": "code",
   "execution_count": 5,
   "id": "85134678-976b-4978-aa03-4ed096d46b82",
   "metadata": {},
   "outputs": [
    {
     "data": {
      "text/plain": [
       "<BarContainer object of 4 artists>"
      ]
     },
     "execution_count": 5,
     "metadata": {},
     "output_type": "execute_result"
    },
    {
     "data": {
      "image/png": "[encoded data removed]",
      "text/plain": [
       "<Figure size 640x480 with 1 Axes>"
      ]
     },
     "metadata": {},
     "output_type": "display_data"
    }
   ],
   "source": [
    "import matplotlib.pyplot as plt\n",
    "x=['A','B','C','D']\n",
    "y1=[10,20,10,40]\n",
    "y2=[20,25,15,25]\n",
    "plt.bar(x,y1,color='purple')\n",
    "plt.bar(x,y2,bottom=y1,color='blue')\n"
   ]
  },
  {
   "cell_type": "code",
   "execution_count": 5,
   "id": "3417391a-7ebe-4255-b824-57678a488f77",
   "metadata": {},
   "outputs": [
    {
     "data": {
      "image/png": "[encoded data removed]",
      "text/plain": [
       "<Figure size 640x480 with 1 Axes>"
      ]
     },
     "metadata": {},
     "output_type": "display_data"
    }
   ],
   "source": [
    "import pandas as pd\n",
    "import numpy as np\n",
    "import matplotlib.pyplot as plt\n",
    "import seaborn as sns\n",
    "from statsmodels.graphics.mosaicplot import mosaic\n",
    "df=pd.read_csv('NHANES.csv')\n",
    "age_directChol=df[['Age','DirectChol']]\n",
    "filtered_data=df[df['Age']>40]\n",
    "plt.scatter(filtered_data['Age'],filtered_data['DirectChol'],color='blue')\n",
    "\n",
    "plt.title('Age vs.DirectChol Level (Ages>40)')\n",
    "plt.xlabel('Age (years)')\n",
    "plt.ylabel('DirectChol Level(mg\\dL)')\n",
    "plt.show()\n",
    "\n",
    "    "
   ]
  },
  {
   "cell_type": "code",
   "execution_count": 6,
   "id": "a124f44e-2b05-4f77-a947-16c8e6c10ee9",
   "metadata": {},
   "outputs": [
    {
     "ename": "NameError",
     "evalue": "name 'data' is not defined",
     "output_type": "error",
     "traceback": [
      "\u001b[1;31m---------------------------------------------------------------------------\u001b[0m",
      "\u001b[1;31mNameError\u001b[0m                                 Traceback (most recent call last)",
      "Cell \u001b[1;32mIn[6], line 1\u001b[0m\n\u001b[1;32m----> 1\u001b[0m work_categories\u001b[38;5;241m=\u001b[39mdata[\u001b[38;5;124m'\u001b[39m\u001b[38;5;124mWork\u001b[39m\u001b[38;5;124m'\u001b[39m]\u001b[38;5;241m.\u001b[39mcat\u001b[38;5;241m.\u001b[39mcategories\n\u001b[0;32m      2\u001b[0m fig,axes\u001b[38;5;241m=\u001b[39mplt\u001b[38;5;241m.\u001b[39msubplots(nrows\u001b[38;5;241m=\u001b[39m\u001b[38;5;28mlen\u001b[39m(work_categories),\n\u001b[0;32m      3\u001b[0m ncols\u001b[38;5;241m=\u001b[39m\u001b[38;5;241m1\u001b[39m,figsize\u001b[38;5;241m=\u001b[39m(\u001b[38;5;241m10\u001b[39m,\u001b[38;5;241m15\u001b[39m),sharex\u001b[38;5;241m=\u001b[39m\u001b[38;5;28;01mTrue\u001b[39;00m)\n\u001b[0;32m      4\u001b[0m \u001b[38;5;28;01mfor\u001b[39;00m ax, category \u001b[38;5;129;01min\u001b[39;00m \u001b[38;5;28mzip\u001b[39m(axes, work_categories):\n",
      "\u001b[1;31mNameError\u001b[0m: name 'data' is not defined"
     ]
    }
   ],
   "source": [
    "work_categories=data['Work'].cat.categories\n",
    "fig,axes=plt.subplots(nrows=len(work_categories),\n",
    "ncols=1,figsize=(10,15),sharex=True)\n",
    "for ax, category in zip(axes, work_categories):\n",
    "    sns.histplot(data[data('Work')==category]['BMI'],\n",
    "bins=20, ax=ax)\n",
    "    ax.set_title(f'Distribution of BMI for{category}')\n",
    "plt.tight_layout()\n",
    "plt.show()"
   ]
  },
  {
   "cell_type": "code",
   "execution_count": 3,
   "id": "5cc0cd5c-90c2-4522-9eaa-c36fcfebd420",
   "metadata": {},
   "outputs": [
    {
     "name": "stdout",
     "output_type": "stream",
     "text": [
      "0.75\n"
     ]
    }
   ],
   "source": [
    "S=[(\"girl\",\"girl\"),(\"boy\",\"boy\"),\n",
    "   (\"boy\",\"girl\"),(\"girl\",\"boy\")]\n",
    "E=[(\"boy\",\"boy\"),(\"boy\",\"girl\"),\n",
    "   (\"girl\",\"boy\")]\n",
    "Pr=len(E)/len(S)\n",
    "print(Pr)"
   ]
  },
  {
   "cell_type": "code",
   "execution_count": 8,
   "id": "72082dfa-f9c4-42b5-9220-fc6a8a71f5fe",
   "metadata": {},
   "outputs": [
    {
     "name": "stdout",
     "output_type": "stream",
     "text": [
      "0.7058823529411765\n",
      "0.71\n"
     ]
    }
   ],
   "source": [
    "import pandas as pd\n",
    "tab=pd.DataFrame({'Fracture yes':\n",
    "                  [27,15,9],'Fracture no':[63,35,  21]})\n",
    "prA=(tab.iloc[2,0]+tab.iloc[2,1])/tab.values.sum()\n",
    "prB=(tab.iloc[0,0]+tab.iloc[0,1])/tab.values.sum()\n",
    "print(prA+prB)\n",
    "print(round(prA+prB,2))\n",
    "\n",
    "                                        \n",
    "\n"
   ]
  },
  {
   "cell_type": "code",
   "execution_count": 14,
   "id": "4bed359b-9445-4671-8dc3-9a8299e376f0",
   "metadata": {},
   "outputs": [
    {
     "name": "stdout",
     "output_type": "stream",
     "text": [
      "0.42\n"
     ]
    }
   ],
   "source": [
    "tabs=pd.DataFrame({'MI yes':[75,20],'MI no':[95,210]})\n",
    "prA=(tabs.iloc[0,0]+tabs.iloc[0,1])/tabs.values.sum()\n",
    "print(round(prA,2))\n"
   ]
  },
  {
   "cell_type": "code",
   "execution_count": 19,
   "id": "6b6031d1-4eee-43d2-9d96-3147fa9d38e1",
   "metadata": {},
   "outputs": [
    {
     "name": "stdout",
     "output_type": "stream",
     "text": [
      "0.75\n"
     ]
    }
   ],
   "source": [
    "prB=(tab.iloc[0,0]+tab.iloc[1,0])/tab.values.sum()\n",
    "complementB=1-prB\n",
    "print(round(complementB,2))"
   ]
  },
  {
   "cell_type": "code",
   "execution_count": 21,
   "id": "8aaac5e5-7c01-46cd-819b-ff27f00bbb95",
   "metadata": {},
   "outputs": [
    {
     "name": "stdout",
     "output_type": "stream",
     "text": [
      "0.48\n"
     ]
    }
   ],
   "source": [
    "prA=(tabs.iloc[0,0]+tabs.iloc[0,1])/tabs.values.sum()\n",
    "prB=(tabs.iloc[0,0]+tabs.iloc[1,0])/tabs.values.sum()\n",
    "prAB=tabs.iloc[0,0]/tabs.values.sum()\n",
    "result=prA+prB-prAB\n",
    "print(round(result,2))"
   ]
  },
  {
   "cell_type": "code",
   "execution_count": 4,
   "id": "152c5b02-dfbe-4868-944e-5dfb765dad81",
   "metadata": {},
   "outputs": [
    {
     "data": {
      "text/plain": [
       "<Figure size 1500x700 with 0 Axes>"
      ]
     },
     "metadata": {},
     "output_type": "display_data"
    },
    {
     "data": {
      "image/png": "[encoded data removed]",
      "text/plain": [
       "<Figure size 640x480 with 3 Axes>"
      ]
     },
     "metadata": {},
     "output_type": "display_data"
    }
   ],
   "source": [
    "import pandas as pd\n",
    "import matplotlib.pyplot as plt\n",
    "from statsmodels.graphics.mosaicplot import mosaic\n",
    "\n",
    "df=pd.read_csv('NHANES.csv')\n",
    "\n",
    "df['Age']=pd.cut(df['Age'],bins=[0,18,35,50,65,100],labels=['0-18','19-35','36-50','51-65','66+'])\n",
    "df['BMI']=pd.cut(df['BMI'],bins=[0,18.5,24.9,29.9,40],labels=['Underweight','Normal','Overweight','Obese'])\n",
    "\n",
    "df['Gender']=df['Gender'].astype('category')\n",
    "plt.figure(figsize=(15,7))\n",
    "mosaic(df,['Gender','Age','BMI'],title='Mosaic Plot of Gender,Age and BMI')\n",
    "plt.show()"
   ]
  },
  {
   "cell_type": "code",
   "execution_count": 5,
   "id": "488d0887-d49b-4248-a03c-594649f300d8",
   "metadata": {},
   "outputs": [
    {
     "name": "stderr",
     "output_type": "stream",
     "text": [
      "C:\\Users\\ADMIN\\anaconda3\\Lib\\site-packages\\seaborn\\_oldcore.py:1119: FutureWarning: use_inf_as_na option is deprecated and will be removed in a future version. Convert inf values to NaN before operating instead.\n",
      "  with pd.option_context('mode.use_inf_as_na', True):\n",
      "C:\\Users\\ADMIN\\anaconda3\\Lib\\site-packages\\seaborn\\_oldcore.py:1119: FutureWarning: use_inf_as_na option is deprecated and will be removed in a future version. Convert inf values to NaN before operating instead.\n",
      "  with pd.option_context('mode.use_inf_as_na', True):\n",
      "C:\\Users\\ADMIN\\anaconda3\\Lib\\site-packages\\seaborn\\_oldcore.py:1119: FutureWarning: use_inf_as_na option is deprecated and will be removed in a future version. Convert inf values to NaN before operating instead.\n",
      "  with pd.option_context('mode.use_inf_as_na', True):\n"
     ]
    },
    {
     "data": {
      "image/png": "[encoded data removed]",
      "text/plain": [
       "<Figure size 1000x1500 with 3 Axes>"
      ]
     },
     "metadata": {},
     "output_type": "display_data"
    }
   ],
   "source": [
    "import pandas as pd\n",
    "import matplotlib.pyplot as plt\n",
    "import seaborn as sns\n",
    "\n",
    "df=pd.read_csv('NHANES.csv')\n",
    "df['Work']=df['Work'].astype('category')\n",
    "work_categories=df['Work'].cat.categories\n",
    "fig,axes=plt.subplots(nrows=len(work_categories),ncols=1,figsize=(10,15),sharex=True)\n",
    "for ax,category in zip(axes,work_categories):\n",
    "    sns.histplot(df[df['Work']==category]['BMI'],bins=20,ax=ax)\n",
    "    ax.set_title(f'Distribution of BMI for {category}')\n",
    "\n",
    "plt.tight_layout()\n",
    "plt.show()"
   ]
  },
  {
   "cell_type": "code",
   "execution_count": 13,
   "id": "c23e3e2c-5a21-4c45-89e4-8533532ed118",
   "metadata": {},
   "outputs": [
    {
     "name": "stdout",
     "output_type": "stream",
     "text": [
      "86.9\n"
     ]
    }
   ],
   "source": [
    "mam=pd.DataFrame({'Disease yes':\n",
    "                  [398,60],'Disease no':[2749,31799]})\n",
    "sen=mam.iloc[0,0]/(mam.iloc[0,0]\n",
    "                   +mam.iloc[1,0])\n",
    "print(round(sen*100,2))"
   ]
  },
  {
   "cell_type": "code",
   "execution_count": 2,
   "id": "78652657-c0f5-4dcd-bffb-5da6541650f6",
   "metadata": {},
   "outputs": [
    {
     "data": {
      "text/plain": [
       "0.10737418240000003"
      ]
     },
     "execution_count": 2,
     "metadata": {},
     "output_type": "execute_result"
    }
   ],
   "source": [
    "from scipy import stats\n",
    "stats.binom.pmf(0,10,0.2)\n"
   ]
  },
  {
   "cell_type": "code",
   "execution_count": 4,
   "id": "1490bf13-51dc-4207-9c35-18adf017301c",
   "metadata": {},
   "outputs": [
    {
     "data": {
      "text/plain": [
       "0.20132659199999992"
      ]
     },
     "execution_count": 4,
     "metadata": {},
     "output_type": "execute_result"
    }
   ],
   "source": [
    "stats.binom.pmf(3,10,0.2)"
   ]
  },
  {
   "cell_type": "code",
   "execution_count": 5,
   "id": "2eb1b4a6-456d-438d-8d4e-b7158e22ac4e",
   "metadata": {},
   "outputs": [
    {
     "data": {
      "text/plain": [
       "1.0240000000000006e-07"
      ]
     },
     "execution_count": 5,
     "metadata": {},
     "output_type": "execute_result"
    }
   ],
   "source": [
    "stats.binom.pmf(10,10,0.2)"
   ]
  },
  {
   "cell_type": "code",
   "execution_count": 8,
   "id": "4cdb15c7-85f3-430e-b28c-cda2309a01fd",
   "metadata": {},
   "outputs": [
    {
     "data": {
      "text/plain": [
       "array([1.43489070e-08, 5.02211745e-07, 8.29393397e-05, 5.80575378e-04,\n",
       "       2.98028694e-03, 1.15900048e-02, 3.47700143e-02, 8.11300333e-02,\n",
       "       1.47235986e-01, 2.06130381e-01, 2.18623131e-01, 1.70040213e-01,\n",
       "       9.15601148e-02, 3.05200383e-02, 4.74756151e-03])"
      ]
     },
     "execution_count": 8,
     "metadata": {},
     "output_type": "execute_result"
    }
   ],
   "source": [
    "stats.binom.pmf([0,1,3,4,5,6,7,8,9,10,11,12,13,14,15],15,0.7)\n"
   ]
  },
  {
   "cell_type": "code",
   "execution_count": 12,
   "id": "65b94ec9-0462-486f-be2f-16a1d136b8d8",
   "metadata": {},
   "outputs": [
    {
     "name": "stdout",
     "output_type": "stream",
     "text": [
      "     E   Prob(E)\n",
      "0    0  0.000006\n",
      "1    1  0.000138\n",
      "2    2  0.001447\n",
      "3    3  0.009002\n",
      "4    4  0.036757\n",
      "5    5  0.102919\n",
      "6    6  0.200121\n",
      "7    7  0.266828\n",
      "8    8  0.233474\n",
      "9    9  0.121061\n",
      "10  10  0.028248\n"
     ]
    }
   ],
   "source": [
    "import numpy as np\n",
    "import pandas as pd\n",
    "from scipy.stats import binom\n",
    "\n",
    "cx=np.arange(0,11)\n",
    "dx=binom.pmf(cx,10,0.7)\n",
    "pr_dist=pd.DataFrame({'E':cx,'Prob(E)':dx})\n",
    "print(pr_dist)"
   ]
  },
  {
   "cell_type": "code",
   "execution_count": 26,
   "id": "05056776-5eba-4e73-9885-f2e63875e44f",
   "metadata": {},
   "outputs": [
    {
     "name": "stdout",
     "output_type": "stream",
     "text": [
      "0.1588739684492806\n"
     ]
    }
   ],
   "source": [
    "probability=binom.pmf(4,12,0.22)\n",
    "print(probability)"
   ]
  },
  {
   "cell_type": "code",
   "execution_count": 29,
   "id": "44befb05-62d8-48ec-ba32-5621eac0e9e3",
   "metadata": {},
   "outputs": [
    {
     "name": "stdout",
     "output_type": "stream",
     "text": [
      "0.9695609774280819\n"
     ]
    }
   ],
   "source": [
    "cumulative_probability=binom.cdf(5,12,0.22)\n",
    "print(cumulative_probability)"
   ]
  },
  {
   "cell_type": "code",
   "execution_count": 8,
   "id": "8a508323-9622-439e-bce9-733e05f92e33",
   "metadata": {},
   "outputs": [
    {
     "data": {
      "text/plain": [
       "(array([ 14.,  38., 111., 211., 238., 232., 109.,  36.,   8.,   3.]),\n",
       " array([ 1. ,  1.9,  2.8,  3.7,  4.6,  5.5,  6.4,  7.3,  8.2,  9.1, 10. ]),\n",
       " <BarContainer object of 10 artists>)"
      ]
     },
     "execution_count": 8,
     "metadata": {},
     "output_type": "execute_result"
    },
    {
     "data": {
      "image/png": "[encoded data removed]",
      "text/plain": [
       "<Figure size 640x480 with 1 Axes>"
      ]
     },
     "metadata": {},
     "output_type": "display_data"
    }
   ],
   "source": [
    "import numpy as np\n",
    "import matplotlib.pyplot as plt\n",
    "n,p=10,.5\n",
    "s=np.random.binomial(n,p,1000) \n",
    "plt.hist(s)\n"
   ]
  },
  {
   "cell_type": "code",
   "execution_count": 9,
   "id": "2901943b-97fe-45ed-8aa6-7c23f82ca70d",
   "metadata": {},
   "outputs": [
    {
     "name": "stdout",
     "output_type": "stream",
     "text": [
      "0.945200708300442\n"
     ]
    }
   ],
   "source": [
    "from scipy.stats import norm\n",
    "prob=norm.cdf(1.6,0,1)\n",
    "print(prob)"
   ]
  },
  {
   "cell_type": "code",
   "execution_count": 28,
   "id": "ab159c0d-06bf-459c-8a15-c98591a0e436",
   "metadata": {},
   "outputs": [
    {
     "name": "stdout",
     "output_type": "stream",
     "text": [
      "Z-Scores: [-0.7574907  -0.59097335 -0.20243286  0.35262498  0.6301539  -0.72973781\n",
      " -0.70198492 -0.00816262  0.13060185  0.54689523  1.10195307  3.32218443\n",
      " -0.67423202 -0.64647913 -0.61872624 -0.59097335 -0.56322046]\n",
      "0.945200708300442\n"
     ]
    }
   ],
   "source": [
    "import numpy as np\n",
    "def calculate_z_score(data):\n",
    "  mean=np.mean(data)\n",
    "  std_dev=np.std(data)\n",
    "  z_scores=(data-mean)/std_dev\n",
    "  return z_scores\n",
    "dataset=[3,9,23,43,53,4,5,30,35,50,70,150,6,7,8,9,10]\n",
    "z_scores=calculate_z_score(dataset)\n",
    "print('Z-Scores:',z_scores)\n",
    "#probabilities\n",
    "prob-norm.cdf(z_scores,0,1)\n",
    "print(prob)"
   ]
  },
  {
   "cell_type": "code",
   "execution_count": 4,
   "id": "9907470d-5a23-45a4-9c0f-49602fa8d880",
   "metadata": {},
   "outputs": [
    {
     "name": "stderr",
     "output_type": "stream",
     "text": [
      "C:\\Users\\ADMIN\\anaconda3\\Lib\\site-packages\\seaborn\\_oldcore.py:1119: FutureWarning: use_inf_as_na option is deprecated and will be removed in a future version. Convert inf values to NaN before operating instead.\n",
      "  with pd.option_context('mode.use_inf_as_na', True):\n"
     ]
    },
    {
     "data": {
      "image/png": "[encoded data removed]",
      "text/plain": [
       "<Figure size 640x480 with 1 Axes>"
      ]
     },
     "metadata": {},
     "output_type": "display_data"
    },
    {
     "data": {
      "image/png": "[encoded data removed]",
      "text/plain": [
       "<Figure size 640x480 with 1 Axes>"
      ]
     },
     "metadata": {},
     "output_type": "display_data"
    }
   ],
   "source": [
    "import matplotlib.pyplot as plt\n",
    "import seaborn as sns\n",
    "import numpy as np\n",
    "import statsmodels.api as sm\n",
    "data=np.random.randn(1000)\n",
    "sns.histplot(data,bins=30,kde=True,color='Purple',edgecolor='blue')\n",
    "plt.xlabel('Values')\n",
    "plt.ylabel('Density')\n",
    "plt.title('Customized Histogram with Density Plot')\n",
    "plt.show()\n",
    "sm.qqplot(data,line='45')\n",
    "plt.show()\n"
   ]
  },
  {
   "cell_type": "code",
   "execution_count": 2,
   "id": "5509da29-d2d2-422c-8efb-1af6c2a7cf64",
   "metadata": {},
   "outputs": [
    {
     "name": "stdout",
     "output_type": "stream",
     "text": [
      "Sample: [230 338 328 417 307 132   6 432 435 135]\n"
     ]
    }
   ],
   "source": [
    "import numpy as np\n",
    "population=np.arange(1,501)\n",
    "sample_size=10\n",
    "np.random.seed(123)\n",
    "sample=np.random.choice(population,sample_size,replace=False)\n",
    "print(\"Sample:\",sample)"
   ]
  },
  {
   "cell_type": "code",
   "execution_count": 3,
   "id": "9d988ce1-f3d6-4222-bc39-d4a25e701034",
   "metadata": {
    "scrolled": true
   },
   "outputs": [
    {
     "name": "stdout",
     "output_type": "stream",
     "text": [
      "Sample: [132 204  51 586 139 633 329 462 925 480 196 222 210 379 157 328 762 321\n",
      " 275 418 373 300 230 897 595 984 737  86 883   8 723  44 567 318 875 744\n",
      " 354 146 347 591 772 337 634 311 694 692 339 902 319 353 162 543 787 918\n",
      " 388 197 649 168 598 393 804 537 173 831 183 703 785 614 966 172 346 823\n",
      " 878 148 549 643 972 935 185 608 438 267 809 448 714 115 657 986 427   6\n",
      " 641 987 933  42 135 939 815 995 806 559]\n"
     ]
    }
   ],
   "source": [
    "import numpy as np\n",
    "population=np.arange(1,1001)\n",
    "sample_size=100\n",
    "np.random.seed(123)\n",
    "sample=np.random.choice(population,sample_size,replace=False)\n",
    "print(\"Sample:\",sample)"
   ]
  },
  {
   "cell_type": "raw",
   "id": "3c0500ba-e7ab-4ca0-91b7-9d8bcf536c11",
   "metadata": {},
   "source": [
    "imprt numpy as np\n",
    "heights=[165,170,168,172,169,171,166,173,167,174]\n",
    "sample_mean=np.mean(heights)\n",
    "sample_sd=np.std(height,ddof=1)\n",
    "n=len(lengths)\n",
    "print(sample_mean)"
   ]
  },
  {
   "cell_type": "code",
   "execution_count": 17,
   "id": "eb66777e-bddc-4f34-ae46-2c5f2618d17e",
   "metadata": {},
   "outputs": [
    {
     "name": "stdout",
     "output_type": "stream",
     "text": [
      "sample_mean: 169.5\n",
      "sample_sd: 3.0276503540974917\n"
     ]
    }
   ],
   "source": [
    "import numpy as np\n",
    "heights=[165,170,168,172,169,171,166,173,167,174]\n",
    "sample_mean=np.mean(heights)\n",
    "sample_sd=np.std(heights,ddof=1)\n",
    "print('sample_mean:',sample_mean)\n",
    "print('sample_sd:',sample_sd)\n"
   ]
  },
  {
   "cell_type": "code",
   "execution_count": 19,
   "id": "12ad96aa-d19a-4786-9fc6-ff496c6c8032",
   "metadata": {},
   "outputs": [
    {
     "name": "stdout",
     "output_type": "stream",
     "text": [
      "95% Confidence Interval:[167.623443,171.376557]\n"
     ]
    }
   ],
   "source": [
    "n=len(heights)\n",
    "sem=sample_sd/np.sqrt(n)\n",
    "confidence_interval=(sample_mean-1.96*sem,sample_mean+1.96*sem)\n",
    "print(f\"95% Confidence Interval:[{confidence_interval[0]:2f},{confidence_interval[1]:2f}]\")"
   ]
  },
  {
   "cell_type": "code",
   "execution_count": 1,
   "id": "4766ee4a-b3aa-496a-af17-f0acd9e83640",
   "metadata": {},
   "outputs": [
    {
     "name": "stdout",
     "output_type": "stream",
     "text": [
      "95% Confidence Interval:[27.109587,29.653234]\n"
     ]
    }
   ],
   "source": [
    "import pandas as pd\n",
    "import numpy as np\n",
    "import scipy.stats as stats\n",
    "df=pd.read_csv('chloleraoutbreak.csv')\n",
    "sample_mean=df['Age'].mean()\n",
    "sample_std=df['Age'].std()\n",
    "n=len(df['Age'])\n",
    "conf_level=0.95\n",
    "alpha=1-conf_level\n",
    "t_critical=stats.t.ppf(1-alpha/2,df=n-1)\n",
    "margin=t_critical*(sample_std/np.sqrt(n))\n",
    "confidence_interval=(sample_mean-margin,sample_mean+margin)\n",
    "print(f\"95% Confidence Interval:[{confidence_interval[0]:2f},{confidence_interval[1]:2f}]\")\n"
   ]
  },
  {
   "cell_type": "code",
   "execution_count": 12,
   "id": "bed882e8-3107-42df-aff8-846be68ea42a",
   "metadata": {},
   "outputs": [
    {
     "name": "stdout",
     "output_type": "stream",
     "text": [
      "t-statistic: -0.7392604148446796\n",
      "p-value: 0.46273038396876176\n"
     ]
    }
   ],
   "source": [
    "from scipy.stats import ttest_ind\n",
    "import numpy as np\n",
    "mean_A=120\n",
    "std_A=10\n",
    "n_A=30\n",
    "mean_B=130\n",
    "std_B=12\n",
    "n_B=30\n",
    "np.random.seed(0) #For reproducibility\n",
    "group_A=np.random.normal(mean_A,std_A,n_A)\n",
    "group_B=np.random.normal(mean_B,std_B,n_B)\n",
    "t_statistic,p_value=ttest_ind(group_A,group_B)\n",
    "print(\"t-statistic:\",t_statistic)\n",
    "print(\"p-value:\",p_value)\n"
   ]
  },
  {
   "cell_type": "code",
   "execution_count": 23,
   "id": "c4ccbd02-fafd-4b6d-a236-5bf340392581",
   "metadata": {},
   "outputs": [
    {
     "name": "stdout",
     "output_type": "stream",
     "text": [
      "   Test_result   Test_date  Sex   Age  Subcounty  Water  Sanitation  Income  \\\n",
      "0          0.0  12/05/2023  2.0  15.0        4.0    1.0         3.0     3.0   \n",
      "1          1.0  13/05/2023  2.0   6.0        2.0    3.0         3.0     1.0   \n",
      "2          0.0  14/05/2023  2.0   9.0        3.0    2.0         2.0     5.0   \n",
      "3          0.0  15/05/2023  2.0  10.0        1.0    4.0         4.0     5.0   \n",
      "4          0.0  16/05/2023  1.0  10.0        2.0    2.0         4.0     1.0   \n",
      "\n",
      "   Informal_settlement  Outcome  \n",
      "0                  2.0      0.0  \n",
      "1                  1.0      0.0  \n",
      "2                  2.0      0.0  \n",
      "3                  2.0      0.0  \n",
      "4                  1.0      0.0  \n",
      "Outcome  0.0  1.0\n",
      "Water            \n",
      "1.0       74    4\n",
      "2.0       74    1\n",
      "3.0       87    9\n",
      "4.0       61    2\n",
      "Chi-square Statistic:6.272907818532818\n",
      "P-value:0.0990618100698824\n"
     ]
    }
   ],
   "source": [
    "import pandas as pd\n",
    "import scipy.stats as stats\n",
    "df=pd.read_csv('chloleraoutbreak.csv')\n",
    "print(df.head())\n",
    "contingency_table=pd.crosstab(df['Water'],df['Outcome'])\n",
    "print(contigency_table)\n",
    "chi2,p,_,_=stats.chi2_contingency(contingency_table)\n",
    "print(f\"Chi-square Statistic:{chi2}\")\n",
    "print(f\"P-value:{p}\")"
   ]
  },
  {
   "cell_type": "code",
   "execution_count": 1,
   "id": "45038fa7-6ced-4d43-880e-a589c613464b",
   "metadata": {},
   "outputs": [
    {
     "name": "stdout",
     "output_type": "stream",
     "text": [
      "Estimated weight for 66.8cm height:7.47kg\n",
      "Estimated weight for 115.3cm height:17.74kg\n",
      "Predicted weight for 92.5cm height:12.91kg\n",
      "Error estimate for actual weight 13.5kg and height 92.5cm:0.589kg\n"
     ]
    }
   ],
   "source": [
    "def estimate_weight(height):\n",
    "    intercept=-6.671\n",
    "    slope=0.2117\n",
    "    return intercept+slope*height\n",
    "weight_66_8=estimate_weight(66.8)\n",
    "weight_115_3=estimate_weight(115.3)\n",
    "actual_weight=13.5\n",
    "height_92_5=92.5\n",
    "predicted_weight_92_5=estimate_weight(height_92_5)\n",
    "error_estimate=actual_weight-predicted_weight_92_5\n",
    "print(f\"Estimated weight for 66.8cm height:{weight_66_8:.2f}kg\")\n",
    "print(f\"Estimated weight for 115.3cm height:{weight_115_3:.2f}kg\")\n",
    "print(f\"Predicted weight for 92.5cm height:{predicted_weight_92_5:.2f}kg\")\n",
    "print(f\"Error estimate for actual weight 13.5kg and height 92.5cm:{error_estimate:.3f}kg\")"
   ]
  },
  {
   "cell_type": "code",
   "execution_count": 2,
   "id": "68c7c9fc-3a2f-4911-859e-c3965bf74309",
   "metadata": {},
   "outputs": [
    {
     "name": "stdout",
     "output_type": "stream",
     "text": [
      "Estimated weight for child 1 (70.4cm.4 months):8.067420kg\n",
      "Actual weight for child 1:7.1kg\n",
      "Error estimate for child 1:-0.967420kg\n",
      "\n",
      "Estimated weight for child 2 (105.6cm,55 months):16.461180kg\n",
      "Actual weight for child 2:15.7kg\n",
      "Error estimate for child 2:-0.761180kg\n"
     ]
    }
   ],
   "source": [
    "def estimate_weight(height,age):\n",
    "    intercept=-3.4673\n",
    "    height_coeff=0.1608\n",
    "    age_coeff=0.0536\n",
    "    return intercept+height_coeff*height+age_coeff*age\n",
    "estimated_weight_1=estimate_weight(70.4,4)\n",
    "estimated_weight_2=estimate_weight(105.6,55)\n",
    "actual_weight_1=7.1\n",
    "actual_weight_2=15.7\n",
    "error_estimate_1=actual_weight_1-estimated_weight_1\n",
    "error_estimate_2=actual_weight_2-estimated_weight_2\n",
    "print(f\"Estimated weight for child 1 (70.4cm.4 months):{estimated_weight_1:2f}kg\")\n",
    "print(f\"Actual weight for child 1:{actual_weight_1}kg\")\n",
    "print(f\"Error estimate for child 1:{error_estimate_1:2f}kg\")\n",
    "print(f\"\\nEstimated weight for child 2 (105.6cm,55 months):{estimated_weight_2:2f}kg\")\n",
    "print(f\"Actual weight for child 2:{actual_weight_2}kg\")\n",
    "print(f\"Error estimate for child 2:{error_estimate_2:2f}kg\")\n",
    "    "
   ]
  },
  {
   "cell_type": "code",
   "execution_count": null,
   "id": "d8320029-e68c-4ba6-9576-97f2b2964c95",
   "metadata": {},
   "outputs": [],
   "source": [
    "import pandas as pd\n",
    "import numpy as np\n",
    "from sklearn.linear_model import LogisticRegression\n",
    "import matplotlib.pyplot as plt\n",
    "from sklearn.model_selection import train_test_split\n",
    "from sklearn.metrics import accuracy_score, confusion_matrix, classification_report"
   ]
  },
  {
   "cell_type": "code",
   "execution_count": 2,
   "id": "6303b6f5-e5f7-4873-9e22-b3bc18451982",
   "metadata": {},
   "outputs": [
    {
     "ename": "NameError",
     "evalue": "name 'pd' is not defined",
     "output_type": "error",
     "traceback": [
      "\u001b[1;31m---------------------------------------------------------------------------\u001b[0m",
      "\u001b[1;31mNameError\u001b[0m                                 Traceback (most recent call last)",
      "Cell \u001b[1;32mIn[2], line 1\u001b[0m\n\u001b[1;32m----> 1\u001b[0m df\u001b[38;5;241m=\u001b[39mpd\u001b[38;5;241m.\u001b[39mread\u001b[38;5;241m.\u001b[39m_csv(\u001b[38;5;124m\"\u001b[39m\u001b[38;5;124mdrug200.csv\u001b[39m\u001b[38;5;124m\"\u001b[39m)\n\u001b[0;32m      2\u001b[0m df\u001b[38;5;241m.\u001b[39mhead()\n",
      "\u001b[1;31mNameError\u001b[0m: name 'pd' is not defined"
     ]
    }
   ],
   "source": [
    "df=pd.read._csv(\"drug200.csv\")\n",
    "df.head()"
   ]
  },
  {
   "cell_type": "code",
   "execution_count": null,
   "id": "cd8c8741-dfc0-4f67-8a38-ea97b4197f4f",
   "metadata": {},
   "outputs": [],
   "source": []
  }
 ],
 "metadata": {
  "kernelspec": {
   "display_name": "Python 3 (ipykernel)",
   "language": "python",
   "name": "python3"
  },
  "language_info": {
   "codemirror_mode": {
    "name": "ipython",
    "version": 3
   },
   "file_extension": ".py",
   "mimetype": "text/x-python",
   "name": "python",
   "nbconvert_exporter": "python",
   "pygments_lexer": "ipython3",
   "version": "3.11.7"
  }
 },
 "nbformat": 4,
 "nbformat_minor": 5
}
